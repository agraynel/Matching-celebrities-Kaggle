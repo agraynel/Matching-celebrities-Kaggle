{
 "cells": [
  {
   "cell_type": "code",
   "execution_count": 2,
   "metadata": {
    "collapsed": false
   },
   "outputs": [],
   "source": [
    "from sklearn.svm import SVC\n",
    "import numpy as np\n",
    "import csv\n",
    "import pandas as pd\n",
    "import xgboost as xgb\n",
    "from sklearn.model_selection import GridSearchCV\n",
    "from sklearn.svm import SVC\n",
    "from sklearn.ensemble import VotingClassifier\n",
    "from sklearn.neural_network import MLPClassifier\n",
    "from sklearn.ensemble import RandomForestClassifier\n",
    "from sklearn.linear_model import LogisticRegression\n",
    "from sklearn.model_selection import KFold"
   ]
  },
  {
   "cell_type": "markdown",
   "metadata": {},
   "source": [
    "### Preprocessing the data:"
   ]
  },
  {
   "cell_type": "code",
   "execution_count": 3,
   "metadata": {
    "collapsed": true
   },
   "outputs": [],
   "source": [
    "def addFeatures(data):\n",
    "    num_attr = int(data.shape[1]/2)\n",
    "    num_group = data.shape[0]\n",
    "    abs = np.abs(data[:, :num_attr] - data[:, num_attr:])\n",
    "    p = data[:, :num_attr] * data[:, num_attr:]\n",
    "    features = np.zeros([num_group, 2*num_attr])\n",
    "    features[:, :num_attr] = abs\n",
    "    features[:, num_attr:] = p\n",
    "    return np.concatenate((data, features),axis=1)"
   ]
  },
  {
   "cell_type": "code",
   "execution_count": 4,
   "metadata": {
    "collapsed": true
   },
   "outputs": [],
   "source": [
    "use_cols = np.ones(73)\n",
    "use_cols[17] = 0 # smile\n",
    "#use_cols[53] = 0 # color photo\n",
    "use_cols[54] = 0 # pose photo\n",
    "\n",
    "use_cols = np.tile(use_cols, 2) == 1\n",
    "\n",
    "cols = np.arange(146)\n",
    "cols = cols[use_cols] + 1"
   ]
  },
  {
   "cell_type": "code",
   "execution_count": 5,
   "metadata": {
    "collapsed": false
   },
   "outputs": [],
   "source": [
    "X_train = pd.read_csv(r'train.csv', header=None, usecols=cols).values\n",
    "y_train = pd.read_csv(r'train.csv', header=None, usecols=[0])\n",
    "X_train = pd.DataFrame(X_train)\n",
    "y_train = pd.DataFrame(y_train)\n",
    "\n",
    "X_validation = pd.read_csv(r'validation.csv', header=None, usecols=cols).values\n",
    "y_validation = pd.read_csv(r'validation.csv', header=None, usecols=[0])\n",
    "X_validation = pd.DataFrame(X_validation)\n",
    "y_validation = pd.DataFrame(y_validation)\n",
    "\n",
    "test = pd.read_csv(r'test.csv', header=None, usecols=cols).values\n",
    "test = pd.DataFrame(test)\n"
   ]
  },
  {
   "cell_type": "code",
   "execution_count": 7,
   "metadata": {
    "collapsed": true
   },
   "outputs": [],
   "source": [
    "X_train=X_train.append(X_validation, ignore_index=True)\n",
    "y_train=y_train.append(y_validation, ignore_index=True)\n",
    "\n",
    "y_train = y_train.values.ravel()\n"
   ]
  },
  {
   "cell_type": "code",
   "execution_count": 44,
   "metadata": {
    "collapsed": false
   },
   "outputs": [],
   "source": [
    "#normalize the data\n",
    "max_feature = np.max(X_train,axis=0)\n",
    "X_train = X_train*1./max_feature\n",
    "\n",
    "#X_validation = X_validation*1./max_feature\n",
    "test = test*1./max_feature"
   ]
  },
  {
   "cell_type": "code",
   "execution_count": 9,
   "metadata": {
    "collapsed": false
   },
   "outputs": [],
   "source": [
    "X_train = X_train.values\n",
    "test = test.values"
   ]
  },
  {
   "cell_type": "code",
   "execution_count": 11,
   "metadata": {
    "collapsed": false
   },
   "outputs": [],
   "source": [
    "X_train = addFeatures(X_train)\n",
    "#X_validation = addFeatures(X_validation)\n",
    "test = addFeatures(test)"
   ]
  },
  {
   "cell_type": "markdown",
   "metadata": {},
   "source": [
    "### Grid Search"
   ]
  },
  {
   "cell_type": "code",
   "execution_count": 17,
   "metadata": {
    "collapsed": true
   },
   "outputs": [],
   "source": [
    "def param_search(model, param):\n",
    "    grid = GridSearchCV(model, param, cv=5, verbose=10, n_jobs=-1)\n",
    "    grid.fit(X_train, y_train)\n",
    "    print (model)\n",
    "    print ('Best accuracy score is ', grid.best_score_)\n",
    "    print ('Best parameter is ', grid.best_params_)\n",
    "    return grid"
   ]
  },
  {
   "cell_type": "markdown",
   "metadata": {},
   "source": [
    "Thinking: if wearing sunglasses(16), then Narrow Eyes(37), eyes open(38), Brown Eyes(70) does not matter.\n",
    "if eyes open(38), then Brown Eyes(70) does not matter."
   ]
  },
  {
   "cell_type": "code",
   "execution_count": 8,
   "metadata": {
    "collapsed": false
   },
   "outputs": [
    {
     "name": "stdout",
     "output_type": "stream",
     "text": [
      "Fitting 5 folds for each of 72 candidates, totalling 360 fits\n",
      "[CV] colsample_bylevel=0.6, colsample_bytree=0.6, learning_rate=0.1, max_depth=3, n_estimators=50, seed=42, subsample=0.7 \n",
      "[CV] colsample_bylevel=0.6, colsample_bytree=0.6, learning_rate=0.1, max_depth=3, n_estimators=50, seed=42, subsample=0.7 \n",
      "[CV] colsample_bylevel=0.6, colsample_bytree=0.6, learning_rate=0.1, max_depth=3, n_estimators=50, seed=42, subsample=0.7 \n",
      "[CV] colsample_bylevel=0.6, colsample_bytree=0.6, learning_rate=0.1, max_depth=3, n_estimators=50, seed=42, subsample=0.7 \n",
      "[CV]  colsample_bylevel=0.6, colsample_bytree=0.6, learning_rate=0.1, max_depth=3, n_estimators=50, seed=42, subsample=0.7, score=0.782900, total=  42.3s\n",
      "[CV] colsample_bylevel=0.6, colsample_bytree=0.6, learning_rate=0.1, max_depth=3, n_estimators=50, seed=42, subsample=0.7 \n",
      "[CV]  colsample_bylevel=0.6, colsample_bytree=0.6, learning_rate=0.1, max_depth=3, n_estimators=50, seed=42, subsample=0.7, score=0.784700, total=  43.0s\n",
      "[CV] colsample_bylevel=0.6, colsample_bytree=0.6, learning_rate=0.1, max_depth=3, n_estimators=50, seed=42, subsample=1 \n",
      "[CV]  colsample_bylevel=0.6, colsample_bytree=0.6, learning_rate=0.1, max_depth=3, n_estimators=50, seed=42, subsample=0.7, score=0.788000, total=  43.2s\n",
      "[CV] colsample_bylevel=0.6, colsample_bytree=0.6, learning_rate=0.1, max_depth=3, n_estimators=50, seed=42, subsample=1 \n",
      "[CV]  colsample_bylevel=0.6, colsample_bytree=0.6, learning_rate=0.1, max_depth=3, n_estimators=50, seed=42, subsample=0.7, score=0.783200, total=  43.3s\n",
      "[CV] colsample_bylevel=0.6, colsample_bytree=0.6, learning_rate=0.1, max_depth=3, n_estimators=50, seed=42, subsample=1 \n",
      "[CV]  colsample_bylevel=0.6, colsample_bytree=0.6, learning_rate=0.1, max_depth=3, n_estimators=50, seed=42, subsample=0.7, score=0.786900, total=  40.7s\n",
      "[CV] colsample_bylevel=0.6, colsample_bytree=0.6, learning_rate=0.1, max_depth=3, n_estimators=50, seed=42, subsample=1 \n"
     ]
    },
    {
     "name": "stderr",
     "output_type": "stream",
     "text": [
      "[Parallel(n_jobs=-1)]: Done   5 tasks      | elapsed:  1.4min\n"
     ]
    },
    {
     "name": "stdout",
     "output_type": "stream",
     "text": [
      "[CV]  colsample_bylevel=0.6, colsample_bytree=0.6, learning_rate=0.1, max_depth=3, n_estimators=50, seed=42, subsample=1, score=0.783300, total=  52.6s\n",
      "[CV]  colsample_bylevel=0.6, colsample_bytree=0.6, learning_rate=0.1, max_depth=3, n_estimators=50, seed=42, subsample=1, score=0.784400, total=  52.1s\n",
      "[CV] colsample_bylevel=0.6, colsample_bytree=0.6, learning_rate=0.1, max_depth=3, n_estimators=50, seed=42, subsample=1 \n",
      "[CV] colsample_bylevel=0.6, colsample_bytree=0.6, learning_rate=0.1, max_depth=3, n_estimators=150, seed=42, subsample=0.7 \n",
      "[CV]  colsample_bylevel=0.6, colsample_bytree=0.6, learning_rate=0.1, max_depth=3, n_estimators=50, seed=42, subsample=1, score=0.785800, total=  53.1s\n",
      "[CV] colsample_bylevel=0.6, colsample_bytree=0.6, learning_rate=0.1, max_depth=3, n_estimators=150, seed=42, subsample=0.7 \n",
      "[CV]  colsample_bylevel=0.6, colsample_bytree=0.6, learning_rate=0.1, max_depth=3, n_estimators=50, seed=42, subsample=1, score=0.784400, total=  59.5s\n",
      "[CV] colsample_bylevel=0.6, colsample_bytree=0.6, learning_rate=0.1, max_depth=3, n_estimators=150, seed=42, subsample=0.7 \n",
      "[CV]  colsample_bylevel=0.6, colsample_bytree=0.6, learning_rate=0.1, max_depth=3, n_estimators=50, seed=42, subsample=1, score=0.786300, total=  50.7s\n",
      "[CV] colsample_bylevel=0.6, colsample_bytree=0.6, learning_rate=0.1, max_depth=3, n_estimators=150, seed=42, subsample=0.7 \n"
     ]
    },
    {
     "name": "stderr",
     "output_type": "stream",
     "text": [
      "[Parallel(n_jobs=-1)]: Done  10 tasks      | elapsed:  2.5min\n"
     ]
    },
    {
     "name": "stdout",
     "output_type": "stream",
     "text": [
      "[CV]  colsample_bylevel=0.6, colsample_bytree=0.6, learning_rate=0.1, max_depth=3, n_estimators=150, seed=42, subsample=0.7, score=0.802900, total= 1.7min\n",
      "[CV] colsample_bylevel=0.6, colsample_bytree=0.6, learning_rate=0.1, max_depth=3, n_estimators=150, seed=42, subsample=0.7 \n",
      "[CV]  colsample_bylevel=0.6, colsample_bytree=0.6, learning_rate=0.1, max_depth=3, n_estimators=150, seed=42, subsample=0.7, score=0.805900, total= 1.7min\n",
      "[CV] colsample_bylevel=0.6, colsample_bytree=0.6, learning_rate=0.1, max_depth=3, n_estimators=150, seed=42, subsample=1 \n",
      "[CV]  colsample_bylevel=0.6, colsample_bytree=0.6, learning_rate=0.1, max_depth=3, n_estimators=150, seed=42, subsample=0.7, score=0.810100, total= 1.5min\n",
      "[CV] colsample_bylevel=0.6, colsample_bytree=0.6, learning_rate=0.1, max_depth=3, n_estimators=150, seed=42, subsample=1 \n",
      "[CV]  colsample_bylevel=0.6, colsample_bytree=0.6, learning_rate=0.1, max_depth=3, n_estimators=150, seed=42, subsample=0.7, score=0.801200, total= 1.4min\n",
      "[CV] colsample_bylevel=0.6, colsample_bytree=0.6, learning_rate=0.1, max_depth=3, n_estimators=150, seed=42, subsample=1 \n",
      "[CV]  colsample_bylevel=0.6, colsample_bytree=0.6, learning_rate=0.1, max_depth=3, n_estimators=150, seed=42, subsample=0.7, score=0.809300, total= 1.7min\n",
      "[CV] colsample_bylevel=0.6, colsample_bytree=0.6, learning_rate=0.1, max_depth=3, n_estimators=150, seed=42, subsample=1 \n",
      "[CV]  colsample_bylevel=0.6, colsample_bytree=0.6, learning_rate=0.1, max_depth=3, n_estimators=150, seed=42, subsample=1, score=0.801900, total= 2.2min\n",
      "[CV] colsample_bylevel=0.6, colsample_bytree=0.6, learning_rate=0.1, max_depth=3, n_estimators=150, seed=42, subsample=1 \n",
      "[CV]  colsample_bylevel=0.6, colsample_bytree=0.6, learning_rate=0.1, max_depth=3, n_estimators=150, seed=42, subsample=1, score=0.803700, total= 2.6min\n",
      "[CV] colsample_bylevel=0.6, colsample_bytree=0.6, learning_rate=0.1, max_depth=3, n_estimators=250, seed=42, subsample=0.7 \n"
     ]
    },
    {
     "name": "stderr",
     "output_type": "stream",
     "text": [
      "[Parallel(n_jobs=-1)]: Done  17 tasks      | elapsed:  6.6min\n"
     ]
    },
    {
     "name": "stdout",
     "output_type": "stream",
     "text": [
      "[CV]  colsample_bylevel=0.6, colsample_bytree=0.6, learning_rate=0.1, max_depth=3, n_estimators=150, seed=42, subsample=1, score=0.810000, total= 2.7min\n",
      "[CV] colsample_bylevel=0.6, colsample_bytree=0.6, learning_rate=0.1, max_depth=3, n_estimators=250, seed=42, subsample=0.7 \n",
      "[CV]  colsample_bylevel=0.6, colsample_bytree=0.6, learning_rate=0.1, max_depth=3, n_estimators=150, seed=42, subsample=1, score=0.802600, total= 3.0min\n",
      "[CV] colsample_bylevel=0.6, colsample_bytree=0.6, learning_rate=0.1, max_depth=3, n_estimators=250, seed=42, subsample=0.7 \n",
      "[CV]  colsample_bylevel=0.6, colsample_bytree=0.6, learning_rate=0.1, max_depth=3, n_estimators=150, seed=42, subsample=1, score=0.809400, total= 3.0min\n",
      "[CV] colsample_bylevel=0.6, colsample_bytree=0.6, learning_rate=0.1, max_depth=3, n_estimators=250, seed=42, subsample=0.7 \n",
      "[CV]  colsample_bylevel=0.6, colsample_bytree=0.6, learning_rate=0.1, max_depth=3, n_estimators=250, seed=42, subsample=0.7, score=0.814000, total= 4.4min\n",
      "[CV] colsample_bylevel=0.6, colsample_bytree=0.6, learning_rate=0.1, max_depth=3, n_estimators=250, seed=42, subsample=0.7 \n",
      "[CV]  colsample_bylevel=0.6, colsample_bytree=0.6, learning_rate=0.1, max_depth=3, n_estimators=250, seed=42, subsample=0.7, score=0.813300, total= 4.4min\n",
      "[CV] colsample_bylevel=0.6, colsample_bytree=0.6, learning_rate=0.1, max_depth=3, n_estimators=250, seed=42, subsample=1 \n",
      "[CV]  colsample_bylevel=0.6, colsample_bytree=0.6, learning_rate=0.1, max_depth=3, n_estimators=250, seed=42, subsample=0.7, score=0.820800, total= 4.5min\n",
      "[CV] colsample_bylevel=0.6, colsample_bytree=0.6, learning_rate=0.1, max_depth=3, n_estimators=250, seed=42, subsample=1 \n",
      "[CV]  colsample_bylevel=0.6, colsample_bytree=0.6, learning_rate=0.1, max_depth=3, n_estimators=250, seed=42, subsample=0.7, score=0.813400, total= 4.6min\n",
      "[CV] colsample_bylevel=0.6, colsample_bytree=0.6, learning_rate=0.1, max_depth=3, n_estimators=250, seed=42, subsample=1 \n"
     ]
    },
    {
     "name": "stderr",
     "output_type": "stream",
     "text": [
      "[Parallel(n_jobs=-1)]: Done  24 tasks      | elapsed: 13.3min\n"
     ]
    },
    {
     "name": "stdout",
     "output_type": "stream",
     "text": [
      "[CV]  colsample_bylevel=0.6, colsample_bytree=0.6, learning_rate=0.1, max_depth=3, n_estimators=250, seed=42, subsample=0.7, score=0.821300, total= 4.6min\n",
      "[CV] colsample_bylevel=0.6, colsample_bytree=0.6, learning_rate=0.1, max_depth=3, n_estimators=250, seed=42, subsample=1 \n",
      "[CV]  colsample_bylevel=0.6, colsample_bytree=0.6, learning_rate=0.1, max_depth=3, n_estimators=250, seed=42, subsample=1, score=0.812000, total= 5.3min\n",
      "[CV] colsample_bylevel=0.6, colsample_bytree=0.6, learning_rate=0.1, max_depth=3, n_estimators=250, seed=42, subsample=1 \n",
      "[CV]  colsample_bylevel=0.6, colsample_bytree=0.6, learning_rate=0.1, max_depth=3, n_estimators=250, seed=42, subsample=1, score=0.812600, total= 5.3min\n",
      "[CV] colsample_bylevel=0.6, colsample_bytree=0.6, learning_rate=0.1, max_depth=4, n_estimators=50, seed=42, subsample=0.7 \n",
      "[CV]  colsample_bylevel=0.6, colsample_bytree=0.6, learning_rate=0.1, max_depth=3, n_estimators=250, seed=42, subsample=1, score=0.817800, total= 5.2min\n",
      "[CV] colsample_bylevel=0.6, colsample_bytree=0.6, learning_rate=0.1, max_depth=4, n_estimators=50, seed=42, subsample=0.7 \n",
      "[CV]  colsample_bylevel=0.6, colsample_bytree=0.6, learning_rate=0.1, max_depth=4, n_estimators=50, seed=42, subsample=0.7, score=0.789800, total= 1.3min\n",
      "[CV] colsample_bylevel=0.6, colsample_bytree=0.6, learning_rate=0.1, max_depth=4, n_estimators=50, seed=42, subsample=0.7 \n",
      "[CV]  colsample_bylevel=0.6, colsample_bytree=0.6, learning_rate=0.1, max_depth=4, n_estimators=50, seed=42, subsample=0.7, score=0.791100, total= 1.2min\n",
      "[CV] colsample_bylevel=0.6, colsample_bytree=0.6, learning_rate=0.1, max_depth=4, n_estimators=50, seed=42, subsample=0.7 \n",
      "[CV]  colsample_bylevel=0.6, colsample_bytree=0.6, learning_rate=0.1, max_depth=4, n_estimators=50, seed=42, subsample=0.7, score=0.796600, total= 1.2min\n",
      "[CV] colsample_bylevel=0.6, colsample_bytree=0.6, learning_rate=0.1, max_depth=4, n_estimators=50, seed=42, subsample=0.7 \n",
      "[CV]  colsample_bylevel=0.6, colsample_bytree=0.6, learning_rate=0.1, max_depth=3, n_estimators=250, seed=42, subsample=1, score=0.812400, total= 5.1min\n",
      "[CV] colsample_bylevel=0.6, colsample_bytree=0.6, learning_rate=0.1, max_depth=4, n_estimators=50, seed=42, subsample=1 \n",
      "[CV]  colsample_bylevel=0.6, colsample_bytree=0.6, learning_rate=0.1, max_depth=4, n_estimators=50, seed=42, subsample=0.7, score=0.788700, total= 1.2min\n",
      "[CV] colsample_bylevel=0.6, colsample_bytree=0.6, learning_rate=0.1, max_depth=4, n_estimators=50, seed=42, subsample=1 \n"
     ]
    },
    {
     "name": "stderr",
     "output_type": "stream",
     "text": [
      "[Parallel(n_jobs=-1)]: Done  33 tasks      | elapsed: 21.0min\n"
     ]
    },
    {
     "name": "stdout",
     "output_type": "stream",
     "text": [
      "[CV]  colsample_bylevel=0.6, colsample_bytree=0.6, learning_rate=0.1, max_depth=3, n_estimators=250, seed=42, subsample=1, score=0.820300, total= 5.1min\n",
      "[CV] colsample_bylevel=0.6, colsample_bytree=0.6, learning_rate=0.1, max_depth=4, n_estimators=50, seed=42, subsample=1 \n",
      "[CV]  colsample_bylevel=0.6, colsample_bytree=0.6, learning_rate=0.1, max_depth=4, n_estimators=50, seed=42, subsample=0.7, score=0.796000, total= 1.2min\n",
      "[CV] colsample_bylevel=0.6, colsample_bytree=0.6, learning_rate=0.1, max_depth=4, n_estimators=50, seed=42, subsample=1 \n",
      "[CV]  colsample_bylevel=0.6, colsample_bytree=0.6, learning_rate=0.1, max_depth=4, n_estimators=50, seed=42, subsample=1, score=0.790900, total= 1.4min\n",
      "[CV] colsample_bylevel=0.6, colsample_bytree=0.6, learning_rate=0.1, max_depth=4, n_estimators=50, seed=42, subsample=1 \n",
      "[CV]  colsample_bylevel=0.6, colsample_bytree=0.6, learning_rate=0.1, max_depth=4, n_estimators=50, seed=42, subsample=1, score=0.795700, total= 1.4min\n",
      "[CV] colsample_bylevel=0.6, colsample_bytree=0.6, learning_rate=0.1, max_depth=4, n_estimators=150, seed=42, subsample=0.7 \n",
      "[CV]  colsample_bylevel=0.6, colsample_bytree=0.6, learning_rate=0.1, max_depth=4, n_estimators=50, seed=42, subsample=1, score=0.798200, total= 1.4min\n",
      "[CV] colsample_bylevel=0.6, colsample_bytree=0.6, learning_rate=0.1, max_depth=4, n_estimators=150, seed=42, subsample=0.7 \n",
      "[CV]  colsample_bylevel=0.6, colsample_bytree=0.6, learning_rate=0.1, max_depth=4, n_estimators=50, seed=42, subsample=1, score=0.787700, total= 1.4min\n",
      "[CV] colsample_bylevel=0.6, colsample_bytree=0.6, learning_rate=0.1, max_depth=4, n_estimators=150, seed=42, subsample=0.7 \n",
      "[CV]  colsample_bylevel=0.6, colsample_bytree=0.6, learning_rate=0.1, max_depth=4, n_estimators=50, seed=42, subsample=1, score=0.797500, total= 1.4min\n",
      "[CV] colsample_bylevel=0.6, colsample_bytree=0.6, learning_rate=0.1, max_depth=4, n_estimators=150, seed=42, subsample=0.7 \n",
      "[CV]  colsample_bylevel=0.6, colsample_bytree=0.6, learning_rate=0.1, max_depth=4, n_estimators=150, seed=42, subsample=0.7, score=0.818500, total= 3.1min\n",
      "[CV] colsample_bylevel=0.6, colsample_bytree=0.6, learning_rate=0.1, max_depth=4, n_estimators=150, seed=42, subsample=0.7 \n",
      "[CV]  colsample_bylevel=0.6, colsample_bytree=0.6, learning_rate=0.1, max_depth=4, n_estimators=150, seed=42, subsample=0.7, score=0.814400, total= 3.0min\n",
      "[CV] colsample_bylevel=0.6, colsample_bytree=0.6, learning_rate=0.1, max_depth=4, n_estimators=150, seed=42, subsample=1 \n"
     ]
    },
    {
     "name": "stderr",
     "output_type": "stream",
     "text": [
      "[Parallel(n_jobs=-1)]: Done  42 tasks      | elapsed: 26.2min\n"
     ]
    },
    {
     "name": "stdout",
     "output_type": "stream",
     "text": [
      "[CV]  colsample_bylevel=0.6, colsample_bytree=0.6, learning_rate=0.1, max_depth=4, n_estimators=150, seed=42, subsample=0.7, score=0.817100, total= 3.1min\n",
      "[CV] colsample_bylevel=0.6, colsample_bytree=0.6, learning_rate=0.1, max_depth=4, n_estimators=150, seed=42, subsample=1 \n",
      "[CV]  colsample_bylevel=0.6, colsample_bytree=0.6, learning_rate=0.1, max_depth=4, n_estimators=150, seed=42, subsample=0.7, score=0.815100, total= 3.1min\n",
      "[CV] colsample_bylevel=0.6, colsample_bytree=0.6, learning_rate=0.1, max_depth=4, n_estimators=150, seed=42, subsample=1 \n",
      "[CV]  colsample_bylevel=0.6, colsample_bytree=0.6, learning_rate=0.1, max_depth=4, n_estimators=150, seed=42, subsample=0.7, score=0.817400, total= 3.0min\n",
      "[CV] colsample_bylevel=0.6, colsample_bytree=0.6, learning_rate=0.1, max_depth=4, n_estimators=150, seed=42, subsample=1 \n",
      "[CV]  colsample_bylevel=0.6, colsample_bytree=0.6, learning_rate=0.1, max_depth=4, n_estimators=150, seed=42, subsample=1, score=0.813100, total= 3.2min\n",
      "[CV] colsample_bylevel=0.6, colsample_bytree=0.6, learning_rate=0.1, max_depth=4, n_estimators=150, seed=42, subsample=1 \n",
      "[CV]  colsample_bylevel=0.6, colsample_bytree=0.6, learning_rate=0.1, max_depth=4, n_estimators=150, seed=42, subsample=1, score=0.816100, total= 3.1min\n",
      "[CV] colsample_bylevel=0.6, colsample_bytree=0.6, learning_rate=0.1, max_depth=4, n_estimators=250, seed=42, subsample=0.7 \n",
      "[CV]  colsample_bylevel=0.6, colsample_bytree=0.6, learning_rate=0.1, max_depth=4, n_estimators=150, seed=42, subsample=1, score=0.817600, total= 3.2min\n",
      "[CV] colsample_bylevel=0.6, colsample_bytree=0.6, learning_rate=0.1, max_depth=4, n_estimators=250, seed=42, subsample=0.7 \n",
      "[CV]  colsample_bylevel=0.6, colsample_bytree=0.6, learning_rate=0.1, max_depth=4, n_estimators=150, seed=42, subsample=1, score=0.812300, total= 3.5min\n",
      "[CV] colsample_bylevel=0.6, colsample_bytree=0.6, learning_rate=0.1, max_depth=4, n_estimators=250, seed=42, subsample=0.7 \n",
      "[CV]  colsample_bylevel=0.6, colsample_bytree=0.6, learning_rate=0.1, max_depth=4, n_estimators=150, seed=42, subsample=1, score=0.817100, total= 4.0min\n",
      "[CV] colsample_bylevel=0.6, colsample_bytree=0.6, learning_rate=0.1, max_depth=4, n_estimators=250, seed=42, subsample=0.7 \n",
      "[CV]  colsample_bylevel=0.6, colsample_bytree=0.6, learning_rate=0.1, max_depth=4, n_estimators=250, seed=42, subsample=0.7, score=0.827200, total= 5.7min\n",
      "[CV] colsample_bylevel=0.6, colsample_bytree=0.6, learning_rate=0.1, max_depth=4, n_estimators=250, seed=42, subsample=0.7 \n",
      "[CV]  colsample_bylevel=0.6, colsample_bytree=0.6, learning_rate=0.1, max_depth=4, n_estimators=250, seed=42, subsample=0.7, score=0.824400, total= 5.6min\n",
      "[CV] colsample_bylevel=0.6, colsample_bytree=0.6, learning_rate=0.1, max_depth=4, n_estimators=250, seed=42, subsample=1 \n",
      "[CV]  colsample_bylevel=0.6, colsample_bytree=0.6, learning_rate=0.1, max_depth=4, n_estimators=250, seed=42, subsample=0.7, score=0.826800, total= 5.7min\n",
      "[CV] colsample_bylevel=0.6, colsample_bytree=0.6, learning_rate=0.1, max_depth=4, n_estimators=250, seed=42, subsample=1 \n"
     ]
    },
    {
     "name": "stderr",
     "output_type": "stream",
     "text": [
      "[Parallel(n_jobs=-1)]: Done  53 tasks      | elapsed: 37.8min\n"
     ]
    },
    {
     "name": "stdout",
     "output_type": "stream",
     "text": [
      "[CV]  colsample_bylevel=0.6, colsample_bytree=0.6, learning_rate=0.1, max_depth=4, n_estimators=250, seed=42, subsample=0.7, score=0.829100, total= 5.5min\n",
      "[CV] colsample_bylevel=0.6, colsample_bytree=0.6, learning_rate=0.1, max_depth=4, n_estimators=250, seed=42, subsample=1 \n",
      "[CV]  colsample_bylevel=0.6, colsample_bytree=0.6, learning_rate=0.1, max_depth=4, n_estimators=250, seed=42, subsample=0.7, score=0.828400, total= 5.4min\n",
      "[CV] colsample_bylevel=0.6, colsample_bytree=0.6, learning_rate=0.1, max_depth=4, n_estimators=250, seed=42, subsample=1 \n",
      "[CV]  colsample_bylevel=0.6, colsample_bytree=0.6, learning_rate=0.1, max_depth=4, n_estimators=250, seed=42, subsample=1, score=0.824200, total= 6.4min\n",
      "[CV] colsample_bylevel=0.6, colsample_bytree=0.6, learning_rate=0.1, max_depth=4, n_estimators=250, seed=42, subsample=1 \n",
      "[CV]  colsample_bylevel=0.6, colsample_bytree=0.6, learning_rate=0.1, max_depth=4, n_estimators=250, seed=42, subsample=1, score=0.824500, total= 6.3min\n",
      "[CV] colsample_bylevel=0.6, colsample_bytree=0.6, learning_rate=0.1, max_depth=5, n_estimators=50, seed=42, subsample=0.7 \n",
      "[CV]  colsample_bylevel=0.6, colsample_bytree=0.6, learning_rate=0.1, max_depth=4, n_estimators=250, seed=42, subsample=1, score=0.827700, total= 6.3min\n",
      "[CV] colsample_bylevel=0.6, colsample_bytree=0.6, learning_rate=0.1, max_depth=5, n_estimators=50, seed=42, subsample=0.7 \n",
      "[CV]  colsample_bylevel=0.6, colsample_bytree=0.6, learning_rate=0.1, max_depth=5, n_estimators=50, seed=42, subsample=0.7, score=0.796200, total= 1.4min\n",
      "[CV] colsample_bylevel=0.6, colsample_bytree=0.6, learning_rate=0.1, max_depth=5, n_estimators=50, seed=42, subsample=0.7 \n",
      "[CV]  colsample_bylevel=0.6, colsample_bytree=0.6, learning_rate=0.1, max_depth=5, n_estimators=50, seed=42, subsample=0.7, score=0.802200, total= 1.5min\n",
      "[CV] colsample_bylevel=0.6, colsample_bytree=0.6, learning_rate=0.1, max_depth=5, n_estimators=50, seed=42, subsample=0.7 \n",
      "[CV]  colsample_bylevel=0.6, colsample_bytree=0.6, learning_rate=0.1, max_depth=5, n_estimators=50, seed=42, subsample=0.7, score=0.801800, total= 1.5min\n",
      "[CV] colsample_bylevel=0.6, colsample_bytree=0.6, learning_rate=0.1, max_depth=5, n_estimators=50, seed=42, subsample=0.7 \n",
      "[CV]  colsample_bylevel=0.6, colsample_bytree=0.6, learning_rate=0.1, max_depth=4, n_estimators=250, seed=42, subsample=1, score=0.823600, total= 6.3min\n",
      "[CV] colsample_bylevel=0.6, colsample_bytree=0.6, learning_rate=0.1, max_depth=5, n_estimators=50, seed=42, subsample=1 \n",
      "[CV]  colsample_bylevel=0.6, colsample_bytree=0.6, learning_rate=0.1, max_depth=5, n_estimators=50, seed=42, subsample=0.7, score=0.799300, total= 1.3min\n",
      "[CV] colsample_bylevel=0.6, colsample_bytree=0.6, learning_rate=0.1, max_depth=5, n_estimators=50, seed=42, subsample=1 \n",
      "[CV]  colsample_bylevel=0.6, colsample_bytree=0.6, learning_rate=0.1, max_depth=4, n_estimators=250, seed=42, subsample=1, score=0.826100, total= 6.0min\n",
      "[CV] colsample_bylevel=0.6, colsample_bytree=0.6, learning_rate=0.1, max_depth=5, n_estimators=50, seed=42, subsample=1 \n"
     ]
    },
    {
     "name": "stderr",
     "output_type": "stream",
     "text": [
      "[Parallel(n_jobs=-1)]: Done  64 tasks      | elapsed: 48.1min\n"
     ]
    },
    {
     "name": "stdout",
     "output_type": "stream",
     "text": [
      "[CV]  colsample_bylevel=0.6, colsample_bytree=0.6, learning_rate=0.1, max_depth=5, n_estimators=50, seed=42, subsample=0.7, score=0.802500, total= 1.1min\n",
      "[CV] colsample_bylevel=0.6, colsample_bytree=0.6, learning_rate=0.1, max_depth=5, n_estimators=50, seed=42, subsample=1 \n",
      "[CV]  colsample_bylevel=0.6, colsample_bytree=0.6, learning_rate=0.1, max_depth=5, n_estimators=50, seed=42, subsample=1, score=0.799500, total= 1.1min\n",
      "[CV] colsample_bylevel=0.6, colsample_bytree=0.6, learning_rate=0.1, max_depth=5, n_estimators=50, seed=42, subsample=1 \n",
      "[CV]  colsample_bylevel=0.6, colsample_bytree=0.6, learning_rate=0.1, max_depth=5, n_estimators=50, seed=42, subsample=1, score=0.803400, total=  52.6s\n",
      "[CV] colsample_bylevel=0.6, colsample_bytree=0.6, learning_rate=0.1, max_depth=5, n_estimators=150, seed=42, subsample=0.7 \n",
      "[CV]  colsample_bylevel=0.6, colsample_bytree=0.6, learning_rate=0.1, max_depth=5, n_estimators=50, seed=42, subsample=1, score=0.803900, total=  51.7s\n",
      "[CV] colsample_bylevel=0.6, colsample_bytree=0.6, learning_rate=0.1, max_depth=5, n_estimators=150, seed=42, subsample=0.7 \n",
      "[CV]  colsample_bylevel=0.6, colsample_bytree=0.6, learning_rate=0.1, max_depth=5, n_estimators=50, seed=42, subsample=1, score=0.801400, total=  51.8s\n",
      "[CV] colsample_bylevel=0.6, colsample_bytree=0.6, learning_rate=0.1, max_depth=5, n_estimators=150, seed=42, subsample=0.7 \n",
      "[CV]  colsample_bylevel=0.6, colsample_bytree=0.6, learning_rate=0.1, max_depth=5, n_estimators=50, seed=42, subsample=1, score=0.803600, total=  50.0s\n",
      "[CV] colsample_bylevel=0.6, colsample_bytree=0.6, learning_rate=0.1, max_depth=5, n_estimators=150, seed=42, subsample=0.7 \n",
      "[CV]  colsample_bylevel=0.6, colsample_bytree=0.6, learning_rate=0.1, max_depth=5, n_estimators=150, seed=42, subsample=0.7, score=0.821400, total= 2.0min\n",
      "[CV] colsample_bylevel=0.6, colsample_bytree=0.6, learning_rate=0.1, max_depth=5, n_estimators=150, seed=42, subsample=0.7 \n",
      "[CV]  colsample_bylevel=0.6, colsample_bytree=0.6, learning_rate=0.1, max_depth=5, n_estimators=150, seed=42, subsample=0.7, score=0.819500, total= 2.0min\n",
      "[CV] colsample_bylevel=0.6, colsample_bytree=0.6, learning_rate=0.1, max_depth=5, n_estimators=150, seed=42, subsample=1 \n",
      "[CV]  colsample_bylevel=0.6, colsample_bytree=0.6, learning_rate=0.1, max_depth=5, n_estimators=150, seed=42, subsample=0.7, score=0.826500, total= 2.0min\n",
      "[CV] colsample_bylevel=0.6, colsample_bytree=0.6, learning_rate=0.1, max_depth=5, n_estimators=150, seed=42, subsample=1 \n",
      "[CV]  colsample_bylevel=0.6, colsample_bytree=0.6, learning_rate=0.1, max_depth=5, n_estimators=150, seed=42, subsample=0.7, score=0.825300, total= 2.0min\n",
      "[CV] colsample_bylevel=0.6, colsample_bytree=0.6, learning_rate=0.1, max_depth=5, n_estimators=150, seed=42, subsample=1 \n",
      "[CV]  colsample_bylevel=0.6, colsample_bytree=0.6, learning_rate=0.1, max_depth=5, n_estimators=150, seed=42, subsample=0.7, score=0.826200, total= 1.7min\n",
      "[CV] colsample_bylevel=0.6, colsample_bytree=0.6, learning_rate=0.1, max_depth=5, n_estimators=150, seed=42, subsample=1 \n",
      "[CV]  colsample_bylevel=0.6, colsample_bytree=0.6, learning_rate=0.1, max_depth=5, n_estimators=150, seed=42, subsample=1, score=0.821100, total= 2.0min\n",
      "[CV] colsample_bylevel=0.6, colsample_bytree=0.6, learning_rate=0.1, max_depth=5, n_estimators=150, seed=42, subsample=1 \n",
      "[CV]  colsample_bylevel=0.6, colsample_bytree=0.6, learning_rate=0.1, max_depth=5, n_estimators=150, seed=42, subsample=1, score=0.822700, total= 1.9min\n",
      "[CV] colsample_bylevel=0.6, colsample_bytree=0.6, learning_rate=0.1, max_depth=5, n_estimators=250, seed=42, subsample=0.7 \n"
     ]
    },
    {
     "name": "stderr",
     "output_type": "stream",
     "text": [
      "[Parallel(n_jobs=-1)]: Done  77 tasks      | elapsed: 53.0min\n"
     ]
    },
    {
     "name": "stdout",
     "output_type": "stream",
     "text": [
      "[CV]  colsample_bylevel=0.6, colsample_bytree=0.6, learning_rate=0.1, max_depth=5, n_estimators=150, seed=42, subsample=1, score=0.828400, total= 1.9min\n",
      "[CV] colsample_bylevel=0.6, colsample_bytree=0.6, learning_rate=0.1, max_depth=5, n_estimators=250, seed=42, subsample=0.7 \n",
      "[CV]  colsample_bylevel=0.6, colsample_bytree=0.6, learning_rate=0.1, max_depth=5, n_estimators=150, seed=42, subsample=1, score=0.824000, total= 1.9min\n",
      "[CV] colsample_bylevel=0.6, colsample_bytree=0.6, learning_rate=0.1, max_depth=5, n_estimators=250, seed=42, subsample=0.7 \n",
      "[CV]  colsample_bylevel=0.6, colsample_bytree=0.6, learning_rate=0.1, max_depth=5, n_estimators=150, seed=42, subsample=1, score=0.826300, total= 1.9min\n",
      "[CV] colsample_bylevel=0.6, colsample_bytree=0.6, learning_rate=0.1, max_depth=5, n_estimators=250, seed=42, subsample=0.7 \n",
      "[CV]  colsample_bylevel=0.6, colsample_bytree=0.6, learning_rate=0.1, max_depth=5, n_estimators=250, seed=42, subsample=0.7, score=0.832200, total= 2.8min\n",
      "[CV] colsample_bylevel=0.6, colsample_bytree=0.6, learning_rate=0.1, max_depth=5, n_estimators=250, seed=42, subsample=0.7 \n",
      "[CV]  colsample_bylevel=0.6, colsample_bytree=0.6, learning_rate=0.1, max_depth=5, n_estimators=250, seed=42, subsample=0.7, score=0.833500, total= 2.8min\n",
      "[CV] colsample_bylevel=0.6, colsample_bytree=0.6, learning_rate=0.1, max_depth=5, n_estimators=250, seed=42, subsample=1 \n",
      "[CV]  colsample_bylevel=0.6, colsample_bytree=0.6, learning_rate=0.1, max_depth=5, n_estimators=250, seed=42, subsample=0.7, score=0.834800, total= 2.7min\n",
      "[CV] colsample_bylevel=0.6, colsample_bytree=0.6, learning_rate=0.1, max_depth=5, n_estimators=250, seed=42, subsample=1 \n",
      "[CV]  colsample_bylevel=0.6, colsample_bytree=0.6, learning_rate=0.1, max_depth=5, n_estimators=250, seed=42, subsample=0.7, score=0.836400, total= 2.7min\n",
      "[CV] colsample_bylevel=0.6, colsample_bytree=0.6, learning_rate=0.1, max_depth=5, n_estimators=250, seed=42, subsample=1 \n",
      "[CV]  colsample_bylevel=0.6, colsample_bytree=0.6, learning_rate=0.1, max_depth=5, n_estimators=250, seed=42, subsample=0.7, score=0.836600, total= 2.6min\n",
      "[CV] colsample_bylevel=0.6, colsample_bytree=0.6, learning_rate=0.1, max_depth=5, n_estimators=250, seed=42, subsample=1 \n",
      "[CV]  colsample_bylevel=0.6, colsample_bytree=0.6, learning_rate=0.1, max_depth=5, n_estimators=250, seed=42, subsample=1, score=0.832200, total= 3.1min\n",
      "[CV] colsample_bylevel=0.6, colsample_bytree=0.6, learning_rate=0.1, max_depth=5, n_estimators=250, seed=42, subsample=1 \n",
      "[CV]  colsample_bylevel=0.6, colsample_bytree=0.6, learning_rate=0.1, max_depth=5, n_estimators=250, seed=42, subsample=1, score=0.833600, total= 3.0min\n",
      "[CV] colsample_bylevel=0.6, colsample_bytree=0.9, learning_rate=0.1, max_depth=3, n_estimators=50, seed=42, subsample=0.7 \n",
      "[CV]  colsample_bylevel=0.6, colsample_bytree=0.6, learning_rate=0.1, max_depth=5, n_estimators=250, seed=42, subsample=1, score=0.835700, total= 3.0min\n",
      "[CV] colsample_bylevel=0.6, colsample_bytree=0.9, learning_rate=0.1, max_depth=3, n_estimators=50, seed=42, subsample=0.7 \n",
      "[CV]  colsample_bylevel=0.6, colsample_bytree=0.9, learning_rate=0.1, max_depth=3, n_estimators=50, seed=42, subsample=0.7, score=0.780500, total=  29.2s\n",
      "[CV] colsample_bylevel=0.6, colsample_bytree=0.9, learning_rate=0.1, max_depth=3, n_estimators=50, seed=42, subsample=0.7 \n",
      "[CV]  colsample_bylevel=0.6, colsample_bytree=0.9, learning_rate=0.1, max_depth=3, n_estimators=50, seed=42, subsample=0.7, score=0.788300, total=  29.2s\n",
      "[CV] colsample_bylevel=0.6, colsample_bytree=0.9, learning_rate=0.1, max_depth=3, n_estimators=50, seed=42, subsample=0.7 \n"
     ]
    },
    {
     "name": "stderr",
     "output_type": "stream",
     "text": [
      "[Parallel(n_jobs=-1)]: Done  90 tasks      | elapsed: 61.2min\n"
     ]
    },
    {
     "name": "stdout",
     "output_type": "stream",
     "text": [
      "[CV]  colsample_bylevel=0.6, colsample_bytree=0.9, learning_rate=0.1, max_depth=3, n_estimators=50, seed=42, subsample=0.7, score=0.790200, total=  29.3s\n",
      "[CV] colsample_bylevel=0.6, colsample_bytree=0.9, learning_rate=0.1, max_depth=3, n_estimators=50, seed=42, subsample=0.7 \n",
      "[CV]  colsample_bylevel=0.6, colsample_bytree=0.6, learning_rate=0.1, max_depth=5, n_estimators=250, seed=42, subsample=1, score=0.833600, total= 3.0min\n",
      "[CV] colsample_bylevel=0.6, colsample_bytree=0.9, learning_rate=0.1, max_depth=3, n_estimators=50, seed=42, subsample=1 \n",
      "[CV]  colsample_bylevel=0.6, colsample_bytree=0.9, learning_rate=0.1, max_depth=3, n_estimators=50, seed=42, subsample=0.7, score=0.787100, total=  29.5s\n",
      "[CV] colsample_bylevel=0.6, colsample_bytree=0.9, learning_rate=0.1, max_depth=3, n_estimators=50, seed=42, subsample=1 \n",
      "[CV]  colsample_bylevel=0.6, colsample_bytree=0.9, learning_rate=0.1, max_depth=3, n_estimators=50, seed=42, subsample=0.7, score=0.788400, total=  29.4s\n",
      "[CV] colsample_bylevel=0.6, colsample_bytree=0.9, learning_rate=0.1, max_depth=3, n_estimators=50, seed=42, subsample=1 \n",
      "[CV]  colsample_bylevel=0.6, colsample_bytree=0.6, learning_rate=0.1, max_depth=5, n_estimators=250, seed=42, subsample=1, score=0.833200, total= 3.0min\n",
      "[CV] colsample_bylevel=0.6, colsample_bytree=0.9, learning_rate=0.1, max_depth=3, n_estimators=50, seed=42, subsample=1 \n",
      "[CV]  colsample_bylevel=0.6, colsample_bytree=0.9, learning_rate=0.1, max_depth=3, n_estimators=50, seed=42, subsample=1, score=0.781000, total=  33.9s\n",
      "[CV] colsample_bylevel=0.6, colsample_bytree=0.9, learning_rate=0.1, max_depth=3, n_estimators=50, seed=42, subsample=1 \n",
      "[CV]  colsample_bylevel=0.6, colsample_bytree=0.9, learning_rate=0.1, max_depth=3, n_estimators=50, seed=42, subsample=1, score=0.783400, total=  33.8s\n",
      "[CV] colsample_bylevel=0.6, colsample_bytree=0.9, learning_rate=0.1, max_depth=3, n_estimators=150, seed=42, subsample=0.7 \n",
      "[CV]  colsample_bylevel=0.6, colsample_bytree=0.9, learning_rate=0.1, max_depth=3, n_estimators=50, seed=42, subsample=1, score=0.788100, total=  33.9s\n",
      "[CV] colsample_bylevel=0.6, colsample_bytree=0.9, learning_rate=0.1, max_depth=3, n_estimators=150, seed=42, subsample=0.7 \n",
      "[CV]  colsample_bylevel=0.6, colsample_bytree=0.9, learning_rate=0.1, max_depth=3, n_estimators=50, seed=42, subsample=1, score=0.783500, total=  33.9s\n",
      "[CV] colsample_bylevel=0.6, colsample_bytree=0.9, learning_rate=0.1, max_depth=3, n_estimators=150, seed=42, subsample=0.7 \n",
      "[CV]  colsample_bylevel=0.6, colsample_bytree=0.9, learning_rate=0.1, max_depth=3, n_estimators=50, seed=42, subsample=1, score=0.787600, total=  34.1s\n",
      "[CV] colsample_bylevel=0.6, colsample_bytree=0.9, learning_rate=0.1, max_depth=3, n_estimators=150, seed=42, subsample=0.7 \n",
      "[CV]  colsample_bylevel=0.6, colsample_bytree=0.9, learning_rate=0.1, max_depth=3, n_estimators=150, seed=42, subsample=0.7, score=0.806400, total= 1.4min\n",
      "[CV] colsample_bylevel=0.6, colsample_bytree=0.9, learning_rate=0.1, max_depth=3, n_estimators=150, seed=42, subsample=0.7 \n",
      "[CV]  colsample_bylevel=0.6, colsample_bytree=0.9, learning_rate=0.1, max_depth=3, n_estimators=150, seed=42, subsample=0.7, score=0.805600, total= 1.4min\n",
      "[CV] colsample_bylevel=0.6, colsample_bytree=0.9, learning_rate=0.1, max_depth=3, n_estimators=150, seed=42, subsample=1 \n",
      "[CV]  colsample_bylevel=0.6, colsample_bytree=0.9, learning_rate=0.1, max_depth=3, n_estimators=150, seed=42, subsample=0.7, score=0.811300, total= 1.5min\n",
      "[CV] colsample_bylevel=0.6, colsample_bytree=0.9, learning_rate=0.1, max_depth=3, n_estimators=150, seed=42, subsample=1 \n",
      "[CV]  colsample_bylevel=0.6, colsample_bytree=0.9, learning_rate=0.1, max_depth=3, n_estimators=150, seed=42, subsample=0.7, score=0.804800, total= 1.5min\n",
      "[CV] colsample_bylevel=0.6, colsample_bytree=0.9, learning_rate=0.1, max_depth=3, n_estimators=150, seed=42, subsample=1 \n",
      "[CV]  colsample_bylevel=0.6, colsample_bytree=0.9, learning_rate=0.1, max_depth=3, n_estimators=150, seed=42, subsample=0.7, score=0.807400, total= 1.4min\n",
      "[CV] colsample_bylevel=0.6, colsample_bytree=0.9, learning_rate=0.1, max_depth=3, n_estimators=150, seed=42, subsample=1 \n"
     ]
    },
    {
     "name": "stderr",
     "output_type": "stream",
     "text": [
      "[Parallel(n_jobs=-1)]: Done 105 tasks      | elapsed: 65.1min\n"
     ]
    },
    {
     "name": "stdout",
     "output_type": "stream",
     "text": [
      "[CV]  colsample_bylevel=0.6, colsample_bytree=0.9, learning_rate=0.1, max_depth=3, n_estimators=150, seed=42, subsample=1, score=0.803700, total= 1.6min\n",
      "[CV] colsample_bylevel=0.6, colsample_bytree=0.9, learning_rate=0.1, max_depth=3, n_estimators=150, seed=42, subsample=1 \n",
      "[CV]  colsample_bylevel=0.6, colsample_bytree=0.9, learning_rate=0.1, max_depth=3, n_estimators=150, seed=42, subsample=1, score=0.804400, total= 1.6min\n",
      "[CV] colsample_bylevel=0.6, colsample_bytree=0.9, learning_rate=0.1, max_depth=3, n_estimators=250, seed=42, subsample=0.7 \n",
      "[CV]  colsample_bylevel=0.6, colsample_bytree=0.9, learning_rate=0.1, max_depth=3, n_estimators=150, seed=42, subsample=1, score=0.810100, total= 1.6min\n",
      "[CV] colsample_bylevel=0.6, colsample_bytree=0.9, learning_rate=0.1, max_depth=3, n_estimators=250, seed=42, subsample=0.7 \n",
      "[CV]  colsample_bylevel=0.6, colsample_bytree=0.9, learning_rate=0.1, max_depth=3, n_estimators=150, seed=42, subsample=1, score=0.802700, total= 1.6min\n",
      "[CV] colsample_bylevel=0.6, colsample_bytree=0.9, learning_rate=0.1, max_depth=3, n_estimators=250, seed=42, subsample=0.7 \n",
      "[CV]  colsample_bylevel=0.6, colsample_bytree=0.9, learning_rate=0.1, max_depth=3, n_estimators=150, seed=42, subsample=1, score=0.807800, total= 1.6min\n",
      "[CV] colsample_bylevel=0.6, colsample_bytree=0.9, learning_rate=0.1, max_depth=3, n_estimators=250, seed=42, subsample=0.7 \n",
      "[CV]  colsample_bylevel=0.6, colsample_bytree=0.9, learning_rate=0.1, max_depth=3, n_estimators=250, seed=42, subsample=0.7, score=0.815100, total= 2.3min\n",
      "[CV] colsample_bylevel=0.6, colsample_bytree=0.9, learning_rate=0.1, max_depth=3, n_estimators=250, seed=42, subsample=0.7 \n",
      "[CV]  colsample_bylevel=0.6, colsample_bytree=0.9, learning_rate=0.1, max_depth=3, n_estimators=250, seed=42, subsample=0.7, score=0.814300, total= 2.3min\n",
      "[CV] colsample_bylevel=0.6, colsample_bytree=0.9, learning_rate=0.1, max_depth=3, n_estimators=250, seed=42, subsample=1 \n",
      "[CV]  colsample_bylevel=0.6, colsample_bytree=0.9, learning_rate=0.1, max_depth=3, n_estimators=250, seed=42, subsample=0.7, score=0.818800, total= 2.4min\n",
      "[CV] colsample_bylevel=0.6, colsample_bytree=0.9, learning_rate=0.1, max_depth=3, n_estimators=250, seed=42, subsample=1 \n",
      "[CV]  colsample_bylevel=0.6, colsample_bytree=0.9, learning_rate=0.1, max_depth=3, n_estimators=250, seed=42, subsample=0.7, score=0.813900, total= 2.3min\n",
      "[CV] colsample_bylevel=0.6, colsample_bytree=0.9, learning_rate=0.1, max_depth=3, n_estimators=250, seed=42, subsample=1 \n",
      "[CV]  colsample_bylevel=0.6, colsample_bytree=0.9, learning_rate=0.1, max_depth=3, n_estimators=250, seed=42, subsample=0.7, score=0.815900, total= 2.3min\n",
      "[CV] colsample_bylevel=0.6, colsample_bytree=0.9, learning_rate=0.1, max_depth=3, n_estimators=250, seed=42, subsample=1 \n",
      "[CV]  colsample_bylevel=0.6, colsample_bytree=0.9, learning_rate=0.1, max_depth=3, n_estimators=250, seed=42, subsample=1, score=0.814500, total= 2.7min\n",
      "[CV] colsample_bylevel=0.6, colsample_bytree=0.9, learning_rate=0.1, max_depth=3, n_estimators=250, seed=42, subsample=1 \n",
      "[CV]  colsample_bylevel=0.6, colsample_bytree=0.9, learning_rate=0.1, max_depth=3, n_estimators=250, seed=42, subsample=1, score=0.811900, total= 2.7min\n",
      "[CV] colsample_bylevel=0.6, colsample_bytree=0.9, learning_rate=0.1, max_depth=4, n_estimators=50, seed=42, subsample=0.7 \n",
      "[CV]  colsample_bylevel=0.6, colsample_bytree=0.9, learning_rate=0.1, max_depth=3, n_estimators=250, seed=42, subsample=1, score=0.819100, total= 2.7min\n",
      "[CV] colsample_bylevel=0.6, colsample_bytree=0.9, learning_rate=0.1, max_depth=4, n_estimators=50, seed=42, subsample=0.7 \n",
      "[CV]  colsample_bylevel=0.6, colsample_bytree=0.9, learning_rate=0.1, max_depth=4, n_estimators=50, seed=42, subsample=0.7, score=0.791000, total=  38.9s\n",
      "[CV] colsample_bylevel=0.6, colsample_bytree=0.9, learning_rate=0.1, max_depth=4, n_estimators=50, seed=42, subsample=0.7 \n",
      "[CV]  colsample_bylevel=0.6, colsample_bytree=0.9, learning_rate=0.1, max_depth=4, n_estimators=50, seed=42, subsample=0.7, score=0.794700, total=  38.6s\n",
      "[CV] colsample_bylevel=0.6, colsample_bytree=0.9, learning_rate=0.1, max_depth=4, n_estimators=50, seed=42, subsample=0.7 \n"
     ]
    },
    {
     "name": "stderr",
     "output_type": "stream",
     "text": [
      "[Parallel(n_jobs=-1)]: Done 120 tasks      | elapsed: 72.8min\n"
     ]
    },
    {
     "name": "stdout",
     "output_type": "stream",
     "text": [
      "[CV]  colsample_bylevel=0.6, colsample_bytree=0.9, learning_rate=0.1, max_depth=3, n_estimators=250, seed=42, subsample=1, score=0.810000, total= 2.7min\n",
      "[CV] colsample_bylevel=0.6, colsample_bytree=0.9, learning_rate=0.1, max_depth=4, n_estimators=50, seed=42, subsample=0.7 \n",
      "[CV]  colsample_bylevel=0.6, colsample_bytree=0.9, learning_rate=0.1, max_depth=4, n_estimators=50, seed=42, subsample=0.7, score=0.797400, total=  38.6s\n",
      "[CV] colsample_bylevel=0.6, colsample_bytree=0.9, learning_rate=0.1, max_depth=4, n_estimators=50, seed=42, subsample=1 \n",
      "[CV]  colsample_bylevel=0.6, colsample_bytree=0.9, learning_rate=0.1, max_depth=4, n_estimators=50, seed=42, subsample=0.7, score=0.790800, total=  38.8s\n",
      "[CV] colsample_bylevel=0.6, colsample_bytree=0.9, learning_rate=0.1, max_depth=4, n_estimators=50, seed=42, subsample=1 \n",
      "[CV]  colsample_bylevel=0.6, colsample_bytree=0.9, learning_rate=0.1, max_depth=3, n_estimators=250, seed=42, subsample=1, score=0.818200, total= 2.7min\n",
      "[CV] colsample_bylevel=0.6, colsample_bytree=0.9, learning_rate=0.1, max_depth=4, n_estimators=50, seed=42, subsample=1 \n",
      "[CV]  colsample_bylevel=0.6, colsample_bytree=0.9, learning_rate=0.1, max_depth=4, n_estimators=50, seed=42, subsample=0.7, score=0.799200, total=  38.5s\n",
      "[CV] colsample_bylevel=0.6, colsample_bytree=0.9, learning_rate=0.1, max_depth=4, n_estimators=50, seed=42, subsample=1 \n",
      "[CV]  colsample_bylevel=0.6, colsample_bytree=0.9, learning_rate=0.1, max_depth=4, n_estimators=50, seed=42, subsample=1, score=0.788400, total=  45.6s\n",
      "[CV] colsample_bylevel=0.6, colsample_bytree=0.9, learning_rate=0.1, max_depth=4, n_estimators=50, seed=42, subsample=1 \n",
      "[CV]  colsample_bylevel=0.6, colsample_bytree=0.9, learning_rate=0.1, max_depth=4, n_estimators=50, seed=42, subsample=1, score=0.794200, total=  44.9s\n",
      "[CV] colsample_bylevel=0.6, colsample_bytree=0.9, learning_rate=0.1, max_depth=4, n_estimators=150, seed=42, subsample=0.7 \n",
      "[CV]  colsample_bylevel=0.6, colsample_bytree=0.9, learning_rate=0.1, max_depth=4, n_estimators=50, seed=42, subsample=1, score=0.798300, total=  45.1s\n",
      "[CV] colsample_bylevel=0.6, colsample_bytree=0.9, learning_rate=0.1, max_depth=4, n_estimators=150, seed=42, subsample=0.7 \n",
      "[CV]  colsample_bylevel=0.6, colsample_bytree=0.9, learning_rate=0.1, max_depth=4, n_estimators=50, seed=42, subsample=1, score=0.792100, total=  45.2s\n",
      "[CV] colsample_bylevel=0.6, colsample_bytree=0.9, learning_rate=0.1, max_depth=4, n_estimators=150, seed=42, subsample=0.7 \n",
      "[CV]  colsample_bylevel=0.6, colsample_bytree=0.9, learning_rate=0.1, max_depth=4, n_estimators=50, seed=42, subsample=1, score=0.794500, total=  47.2s\n",
      "[CV] colsample_bylevel=0.6, colsample_bytree=0.9, learning_rate=0.1, max_depth=4, n_estimators=150, seed=42, subsample=0.7 \n",
      "[CV]  colsample_bylevel=0.6, colsample_bytree=0.9, learning_rate=0.1, max_depth=4, n_estimators=150, seed=42, subsample=0.7, score=0.814800, total= 1.9min\n",
      "[CV] colsample_bylevel=0.6, colsample_bytree=0.9, learning_rate=0.1, max_depth=4, n_estimators=150, seed=42, subsample=0.7 \n",
      "[CV]  colsample_bylevel=0.6, colsample_bytree=0.9, learning_rate=0.1, max_depth=4, n_estimators=150, seed=42, subsample=0.7, score=0.815500, total= 1.9min\n",
      "[CV] colsample_bylevel=0.6, colsample_bytree=0.9, learning_rate=0.1, max_depth=4, n_estimators=150, seed=42, subsample=1 \n",
      "[CV]  colsample_bylevel=0.6, colsample_bytree=0.9, learning_rate=0.1, max_depth=4, n_estimators=150, seed=42, subsample=0.7, score=0.821000, total= 1.9min\n",
      "[CV] colsample_bylevel=0.6, colsample_bytree=0.9, learning_rate=0.1, max_depth=4, n_estimators=150, seed=42, subsample=1 \n",
      "[CV]  colsample_bylevel=0.6, colsample_bytree=0.9, learning_rate=0.1, max_depth=4, n_estimators=150, seed=42, subsample=0.7, score=0.813600, total= 1.9min\n",
      "[CV] colsample_bylevel=0.6, colsample_bytree=0.9, learning_rate=0.1, max_depth=4, n_estimators=150, seed=42, subsample=1 \n",
      "[CV]  colsample_bylevel=0.6, colsample_bytree=0.9, learning_rate=0.1, max_depth=4, n_estimators=150, seed=42, subsample=0.7, score=0.821600, total= 1.8min\n",
      "[CV] colsample_bylevel=0.6, colsample_bytree=0.9, learning_rate=0.1, max_depth=4, n_estimators=150, seed=42, subsample=1 \n",
      "[CV]  colsample_bylevel=0.6, colsample_bytree=0.9, learning_rate=0.1, max_depth=4, n_estimators=150, seed=42, subsample=1, score=0.815100, total= 2.2min\n",
      "[CV] colsample_bylevel=0.6, colsample_bytree=0.9, learning_rate=0.1, max_depth=4, n_estimators=150, seed=42, subsample=1 \n",
      "[CV]  colsample_bylevel=0.6, colsample_bytree=0.9, learning_rate=0.1, max_depth=4, n_estimators=150, seed=42, subsample=1, score=0.814100, total= 2.2min\n",
      "[CV] colsample_bylevel=0.6, colsample_bytree=0.9, learning_rate=0.1, max_depth=4, n_estimators=250, seed=42, subsample=0.7 \n"
     ]
    },
    {
     "name": "stderr",
     "output_type": "stream",
     "text": [
      "[Parallel(n_jobs=-1)]: Done 137 tasks      | elapsed: 78.6min\n"
     ]
    },
    {
     "name": "stdout",
     "output_type": "stream",
     "text": [
      "[CV]  colsample_bylevel=0.6, colsample_bytree=0.9, learning_rate=0.1, max_depth=4, n_estimators=150, seed=42, subsample=1, score=0.819000, total= 2.2min\n",
      "[CV] colsample_bylevel=0.6, colsample_bytree=0.9, learning_rate=0.1, max_depth=4, n_estimators=250, seed=42, subsample=0.7 \n",
      "[CV]  colsample_bylevel=0.6, colsample_bytree=0.9, learning_rate=0.1, max_depth=4, n_estimators=150, seed=42, subsample=1, score=0.812600, total= 2.2min\n",
      "[CV] colsample_bylevel=0.6, colsample_bytree=0.9, learning_rate=0.1, max_depth=4, n_estimators=250, seed=42, subsample=0.7 \n",
      "[CV]  colsample_bylevel=0.6, colsample_bytree=0.9, learning_rate=0.1, max_depth=4, n_estimators=150, seed=42, subsample=1, score=0.819400, total= 2.2min\n",
      "[CV] colsample_bylevel=0.6, colsample_bytree=0.9, learning_rate=0.1, max_depth=4, n_estimators=250, seed=42, subsample=0.7 \n",
      "[CV]  colsample_bylevel=0.6, colsample_bytree=0.9, learning_rate=0.1, max_depth=4, n_estimators=250, seed=42, subsample=0.7, score=0.824400, total= 3.1min\n",
      "[CV] colsample_bylevel=0.6, colsample_bytree=0.9, learning_rate=0.1, max_depth=4, n_estimators=250, seed=42, subsample=0.7 \n",
      "[CV]  colsample_bylevel=0.6, colsample_bytree=0.9, learning_rate=0.1, max_depth=4, n_estimators=250, seed=42, subsample=0.7, score=0.827600, total= 3.1min\n",
      "[CV] colsample_bylevel=0.6, colsample_bytree=0.9, learning_rate=0.1, max_depth=4, n_estimators=250, seed=42, subsample=1 \n",
      "[CV]  colsample_bylevel=0.6, colsample_bytree=0.9, learning_rate=0.1, max_depth=4, n_estimators=250, seed=42, subsample=0.7, score=0.829400, total= 3.1min\n",
      "[CV] colsample_bylevel=0.6, colsample_bytree=0.9, learning_rate=0.1, max_depth=4, n_estimators=250, seed=42, subsample=1 \n",
      "[CV]  colsample_bylevel=0.6, colsample_bytree=0.9, learning_rate=0.1, max_depth=4, n_estimators=250, seed=42, subsample=0.7, score=0.824900, total= 3.1min\n",
      "[CV] colsample_bylevel=0.6, colsample_bytree=0.9, learning_rate=0.1, max_depth=4, n_estimators=250, seed=42, subsample=1 \n",
      "[CV]  colsample_bylevel=0.6, colsample_bytree=0.9, learning_rate=0.1, max_depth=4, n_estimators=250, seed=42, subsample=0.7, score=0.830500, total= 3.1min\n",
      "[CV] colsample_bylevel=0.6, colsample_bytree=0.9, learning_rate=0.1, max_depth=4, n_estimators=250, seed=42, subsample=1 \n",
      "[CV]  colsample_bylevel=0.6, colsample_bytree=0.9, learning_rate=0.1, max_depth=4, n_estimators=250, seed=42, subsample=1, score=0.823100, total= 3.6min\n",
      "[CV] colsample_bylevel=0.6, colsample_bytree=0.9, learning_rate=0.1, max_depth=4, n_estimators=250, seed=42, subsample=1 \n",
      "[CV]  colsample_bylevel=0.6, colsample_bytree=0.9, learning_rate=0.1, max_depth=4, n_estimators=250, seed=42, subsample=1, score=0.823100, total= 3.6min\n",
      "[CV] colsample_bylevel=0.6, colsample_bytree=0.9, learning_rate=0.1, max_depth=5, n_estimators=50, seed=42, subsample=0.7 \n",
      "[CV]  colsample_bylevel=0.6, colsample_bytree=0.9, learning_rate=0.1, max_depth=4, n_estimators=250, seed=42, subsample=1, score=0.827200, total= 3.5min\n",
      "[CV] colsample_bylevel=0.6, colsample_bytree=0.9, learning_rate=0.1, max_depth=5, n_estimators=50, seed=42, subsample=0.7 \n",
      "[CV]  colsample_bylevel=0.6, colsample_bytree=0.9, learning_rate=0.1, max_depth=5, n_estimators=50, seed=42, subsample=0.7, score=0.798800, total=  56.9s\n",
      "[CV] colsample_bylevel=0.6, colsample_bytree=0.9, learning_rate=0.1, max_depth=5, n_estimators=50, seed=42, subsample=0.7 \n",
      "[CV]  colsample_bylevel=0.6, colsample_bytree=0.9, learning_rate=0.1, max_depth=5, n_estimators=50, seed=42, subsample=0.7, score=0.803100, total= 1.1min\n",
      "[CV] colsample_bylevel=0.6, colsample_bytree=0.9, learning_rate=0.1, max_depth=5, n_estimators=50, seed=42, subsample=0.7 \n",
      "[CV]  colsample_bylevel=0.6, colsample_bytree=0.9, learning_rate=0.1, max_depth=4, n_estimators=250, seed=42, subsample=1, score=0.822900, total= 4.0min\n",
      "[CV] colsample_bylevel=0.6, colsample_bytree=0.9, learning_rate=0.1, max_depth=5, n_estimators=50, seed=42, subsample=0.7 \n",
      "[CV]  colsample_bylevel=0.6, colsample_bytree=0.9, learning_rate=0.1, max_depth=5, n_estimators=50, seed=42, subsample=0.7, score=0.806900, total= 1.2min\n",
      "[CV] colsample_bylevel=0.6, colsample_bytree=0.9, learning_rate=0.1, max_depth=5, n_estimators=50, seed=42, subsample=1 \n",
      "[CV]  colsample_bylevel=0.6, colsample_bytree=0.9, learning_rate=0.1, max_depth=5, n_estimators=50, seed=42, subsample=0.7, score=0.800900, total= 1.2min\n",
      "[CV] colsample_bylevel=0.6, colsample_bytree=0.9, learning_rate=0.1, max_depth=5, n_estimators=50, seed=42, subsample=1 \n",
      "[CV]  colsample_bylevel=0.6, colsample_bytree=0.9, learning_rate=0.1, max_depth=4, n_estimators=250, seed=42, subsample=1, score=0.828100, total= 4.4min\n",
      "[CV] colsample_bylevel=0.6, colsample_bytree=0.9, learning_rate=0.1, max_depth=5, n_estimators=50, seed=42, subsample=1 \n"
     ]
    },
    {
     "name": "stderr",
     "output_type": "stream",
     "text": [
      "[Parallel(n_jobs=-1)]: Done 154 tasks      | elapsed: 90.0min\n"
     ]
    },
    {
     "name": "stdout",
     "output_type": "stream",
     "text": [
      "[CV]  colsample_bylevel=0.6, colsample_bytree=0.9, learning_rate=0.1, max_depth=5, n_estimators=50, seed=42, subsample=0.7, score=0.806400, total= 1.2min\n",
      "[CV] colsample_bylevel=0.6, colsample_bytree=0.9, learning_rate=0.1, max_depth=5, n_estimators=50, seed=42, subsample=1 \n",
      "[CV]  colsample_bylevel=0.6, colsample_bytree=0.9, learning_rate=0.1, max_depth=5, n_estimators=50, seed=42, subsample=1, score=0.801700, total= 1.2min\n",
      "[CV] colsample_bylevel=0.6, colsample_bytree=0.9, learning_rate=0.1, max_depth=5, n_estimators=50, seed=42, subsample=1 \n",
      "[CV]  colsample_bylevel=0.6, colsample_bytree=0.9, learning_rate=0.1, max_depth=5, n_estimators=50, seed=42, subsample=1, score=0.799300, total=  59.7s\n",
      "[CV] colsample_bylevel=0.6, colsample_bytree=0.9, learning_rate=0.1, max_depth=5, n_estimators=150, seed=42, subsample=0.7 \n",
      "[CV]  colsample_bylevel=0.6, colsample_bytree=0.9, learning_rate=0.1, max_depth=5, n_estimators=50, seed=42, subsample=1, score=0.799400, total=  56.1s\n",
      "[CV] colsample_bylevel=0.6, colsample_bytree=0.9, learning_rate=0.1, max_depth=5, n_estimators=150, seed=42, subsample=0.7 \n",
      "[CV]  colsample_bylevel=0.6, colsample_bytree=0.9, learning_rate=0.1, max_depth=5, n_estimators=50, seed=42, subsample=1, score=0.803000, total=  58.9s\n",
      "[CV] colsample_bylevel=0.6, colsample_bytree=0.9, learning_rate=0.1, max_depth=5, n_estimators=150, seed=42, subsample=0.7 \n",
      "[CV]  colsample_bylevel=0.6, colsample_bytree=0.9, learning_rate=0.1, max_depth=5, n_estimators=50, seed=42, subsample=1, score=0.805300, total=  57.0s\n",
      "[CV] colsample_bylevel=0.6, colsample_bytree=0.9, learning_rate=0.1, max_depth=5, n_estimators=150, seed=42, subsample=0.7 \n",
      "[CV]  colsample_bylevel=0.6, colsample_bytree=0.9, learning_rate=0.1, max_depth=5, n_estimators=150, seed=42, subsample=0.7, score=0.823700, total= 2.4min\n",
      "[CV] colsample_bylevel=0.6, colsample_bytree=0.9, learning_rate=0.1, max_depth=5, n_estimators=150, seed=42, subsample=0.7 \n",
      "[CV]  colsample_bylevel=0.6, colsample_bytree=0.9, learning_rate=0.1, max_depth=5, n_estimators=150, seed=42, subsample=0.7, score=0.825000, total= 2.4min\n",
      "[CV] colsample_bylevel=0.6, colsample_bytree=0.9, learning_rate=0.1, max_depth=5, n_estimators=150, seed=42, subsample=1 \n",
      "[CV]  colsample_bylevel=0.6, colsample_bytree=0.9, learning_rate=0.1, max_depth=5, n_estimators=150, seed=42, subsample=0.7, score=0.825300, total= 2.4min\n",
      "[CV] colsample_bylevel=0.6, colsample_bytree=0.9, learning_rate=0.1, max_depth=5, n_estimators=150, seed=42, subsample=1 \n",
      "[CV]  colsample_bylevel=0.6, colsample_bytree=0.9, learning_rate=0.1, max_depth=5, n_estimators=150, seed=42, subsample=0.7, score=0.825200, total= 2.4min\n",
      "[CV] colsample_bylevel=0.6, colsample_bytree=0.9, learning_rate=0.1, max_depth=5, n_estimators=150, seed=42, subsample=1 \n",
      "[CV]  colsample_bylevel=0.6, colsample_bytree=0.9, learning_rate=0.1, max_depth=5, n_estimators=150, seed=42, subsample=0.7, score=0.826200, total= 2.3min\n",
      "[CV] colsample_bylevel=0.6, colsample_bytree=0.9, learning_rate=0.1, max_depth=5, n_estimators=150, seed=42, subsample=1 \n",
      "[CV]  colsample_bylevel=0.6, colsample_bytree=0.9, learning_rate=0.1, max_depth=5, n_estimators=150, seed=42, subsample=1, score=0.825300, total= 2.7min\n",
      "[CV] colsample_bylevel=0.6, colsample_bytree=0.9, learning_rate=0.1, max_depth=5, n_estimators=150, seed=42, subsample=1 \n",
      "[CV]  colsample_bylevel=0.6, colsample_bytree=0.9, learning_rate=0.1, max_depth=5, n_estimators=150, seed=42, subsample=1, score=0.822900, total= 2.8min\n",
      "[CV] colsample_bylevel=0.6, colsample_bytree=0.9, learning_rate=0.1, max_depth=5, n_estimators=250, seed=42, subsample=0.7 \n",
      "[CV]  colsample_bylevel=0.6, colsample_bytree=0.9, learning_rate=0.1, max_depth=5, n_estimators=150, seed=42, subsample=1, score=0.826700, total= 2.7min\n",
      "[CV] colsample_bylevel=0.6, colsample_bytree=0.9, learning_rate=0.1, max_depth=5, n_estimators=250, seed=42, subsample=0.7 \n",
      "[CV]  colsample_bylevel=0.6, colsample_bytree=0.9, learning_rate=0.1, max_depth=5, n_estimators=150, seed=42, subsample=1, score=0.820600, total= 2.7min\n",
      "[CV] colsample_bylevel=0.6, colsample_bytree=0.9, learning_rate=0.1, max_depth=5, n_estimators=250, seed=42, subsample=0.7 \n",
      "[CV]  colsample_bylevel=0.6, colsample_bytree=0.9, learning_rate=0.1, max_depth=5, n_estimators=150, seed=42, subsample=1, score=0.827100, total= 2.7min\n",
      "[CV] colsample_bylevel=0.6, colsample_bytree=0.9, learning_rate=0.1, max_depth=5, n_estimators=250, seed=42, subsample=0.7 \n",
      "[CV]  colsample_bylevel=0.6, colsample_bytree=0.9, learning_rate=0.1, max_depth=5, n_estimators=250, seed=42, subsample=0.7, score=0.830400, total= 3.9min\n",
      "[CV] colsample_bylevel=0.6, colsample_bytree=0.9, learning_rate=0.1, max_depth=5, n_estimators=250, seed=42, subsample=0.7 \n",
      "[CV]  colsample_bylevel=0.6, colsample_bytree=0.9, learning_rate=0.1, max_depth=5, n_estimators=250, seed=42, subsample=0.7, score=0.831900, total= 3.8min\n",
      "[CV] colsample_bylevel=0.6, colsample_bytree=0.9, learning_rate=0.1, max_depth=5, n_estimators=250, seed=42, subsample=1 \n",
      "[CV]  colsample_bylevel=0.6, colsample_bytree=0.9, learning_rate=0.1, max_depth=5, n_estimators=250, seed=42, subsample=0.7, score=0.832900, total= 3.9min\n",
      "[CV] colsample_bylevel=0.6, colsample_bytree=0.9, learning_rate=0.1, max_depth=5, n_estimators=250, seed=42, subsample=1 \n"
     ]
    },
    {
     "name": "stderr",
     "output_type": "stream",
     "text": [
      "[Parallel(n_jobs=-1)]: Done 173 tasks      | elapsed: 102.0min\n"
     ]
    },
    {
     "name": "stdout",
     "output_type": "stream",
     "text": [
      "[CV]  colsample_bylevel=0.6, colsample_bytree=0.9, learning_rate=0.1, max_depth=5, n_estimators=250, seed=42, subsample=0.7, score=0.832700, total= 4.1min\n",
      "[CV] colsample_bylevel=0.6, colsample_bytree=0.9, learning_rate=0.1, max_depth=5, n_estimators=250, seed=42, subsample=1 \n",
      "[CV]  colsample_bylevel=0.6, colsample_bytree=0.9, learning_rate=0.1, max_depth=5, n_estimators=250, seed=42, subsample=0.7, score=0.837800, total= 4.1min\n",
      "[CV] colsample_bylevel=0.6, colsample_bytree=0.9, learning_rate=0.1, max_depth=5, n_estimators=250, seed=42, subsample=1 \n",
      "[CV]  colsample_bylevel=0.6, colsample_bytree=0.9, learning_rate=0.1, max_depth=5, n_estimators=250, seed=42, subsample=1, score=0.835600, total= 5.0min\n",
      "[CV] colsample_bylevel=0.6, colsample_bytree=0.9, learning_rate=0.1, max_depth=5, n_estimators=250, seed=42, subsample=1 \n",
      "[CV]  colsample_bylevel=0.6, colsample_bytree=0.9, learning_rate=0.1, max_depth=5, n_estimators=250, seed=42, subsample=1, score=0.832200, total= 5.4min\n",
      "[CV] colsample_bylevel=0.9, colsample_bytree=0.6, learning_rate=0.1, max_depth=3, n_estimators=50, seed=42, subsample=0.7 \n",
      "[CV]  colsample_bylevel=0.9, colsample_bytree=0.6, learning_rate=0.1, max_depth=3, n_estimators=50, seed=42, subsample=0.7, score=0.783000, total=  34.5s\n",
      "[CV] colsample_bylevel=0.9, colsample_bytree=0.6, learning_rate=0.1, max_depth=3, n_estimators=50, seed=42, subsample=0.7 \n",
      "[CV]  colsample_bylevel=0.6, colsample_bytree=0.9, learning_rate=0.1, max_depth=5, n_estimators=250, seed=42, subsample=1, score=0.833700, total= 5.4min\n",
      "[CV] colsample_bylevel=0.9, colsample_bytree=0.6, learning_rate=0.1, max_depth=3, n_estimators=50, seed=42, subsample=0.7 \n",
      "[CV]  colsample_bylevel=0.9, colsample_bytree=0.6, learning_rate=0.1, max_depth=3, n_estimators=50, seed=42, subsample=0.7, score=0.786500, total=  35.8s\n",
      "[CV] colsample_bylevel=0.9, colsample_bytree=0.6, learning_rate=0.1, max_depth=3, n_estimators=50, seed=42, subsample=0.7 \n",
      "[CV]  colsample_bylevel=0.9, colsample_bytree=0.6, learning_rate=0.1, max_depth=3, n_estimators=50, seed=42, subsample=0.7, score=0.788900, total=  34.4s\n",
      "[CV] colsample_bylevel=0.9, colsample_bytree=0.6, learning_rate=0.1, max_depth=3, n_estimators=50, seed=42, subsample=0.7 \n",
      "[CV]  colsample_bylevel=0.9, colsample_bytree=0.6, learning_rate=0.1, max_depth=3, n_estimators=50, seed=42, subsample=0.7, score=0.786500, total=  34.5s\n",
      "[CV] colsample_bylevel=0.9, colsample_bytree=0.6, learning_rate=0.1, max_depth=3, n_estimators=50, seed=42, subsample=1 \n",
      "[CV]  colsample_bylevel=0.9, colsample_bytree=0.6, learning_rate=0.1, max_depth=3, n_estimators=50, seed=42, subsample=0.7, score=0.787000, total=  37.0s\n",
      "[CV] colsample_bylevel=0.9, colsample_bytree=0.6, learning_rate=0.1, max_depth=3, n_estimators=50, seed=42, subsample=1 \n",
      "[CV]  colsample_bylevel=0.6, colsample_bytree=0.9, learning_rate=0.1, max_depth=5, n_estimators=250, seed=42, subsample=1, score=0.832300, total= 5.7min\n",
      "[CV] colsample_bylevel=0.9, colsample_bytree=0.6, learning_rate=0.1, max_depth=3, n_estimators=50, seed=42, subsample=1 \n",
      "[CV]  colsample_bylevel=0.9, colsample_bytree=0.6, learning_rate=0.1, max_depth=3, n_estimators=50, seed=42, subsample=1, score=0.779400, total=  52.2s\n",
      "[CV] colsample_bylevel=0.9, colsample_bytree=0.6, learning_rate=0.1, max_depth=3, n_estimators=50, seed=42, subsample=1 \n",
      "[CV]  colsample_bylevel=0.9, colsample_bytree=0.6, learning_rate=0.1, max_depth=3, n_estimators=50, seed=42, subsample=1, score=0.784800, total=  49.9s\n",
      "[CV] colsample_bylevel=0.9, colsample_bytree=0.6, learning_rate=0.1, max_depth=3, n_estimators=50, seed=42, subsample=1 \n",
      "[CV]  colsample_bylevel=0.9, colsample_bytree=0.6, learning_rate=0.1, max_depth=3, n_estimators=50, seed=42, subsample=1, score=0.789200, total=  44.4s\n",
      "[CV] colsample_bylevel=0.9, colsample_bytree=0.6, learning_rate=0.1, max_depth=3, n_estimators=150, seed=42, subsample=0.7 \n",
      "[CV]  colsample_bylevel=0.9, colsample_bytree=0.6, learning_rate=0.1, max_depth=3, n_estimators=50, seed=42, subsample=1, score=0.783600, total=  42.8s\n",
      "[CV] colsample_bylevel=0.9, colsample_bytree=0.6, learning_rate=0.1, max_depth=3, n_estimators=150, seed=42, subsample=0.7 \n",
      "[CV]  colsample_bylevel=0.6, colsample_bytree=0.9, learning_rate=0.1, max_depth=5, n_estimators=250, seed=42, subsample=1, score=0.836300, total= 5.7min\n",
      "[CV] colsample_bylevel=0.9, colsample_bytree=0.6, learning_rate=0.1, max_depth=3, n_estimators=150, seed=42, subsample=0.7 \n",
      "[CV]  colsample_bylevel=0.9, colsample_bytree=0.6, learning_rate=0.1, max_depth=3, n_estimators=50, seed=42, subsample=1, score=0.787400, total=  43.5s\n",
      "[CV] colsample_bylevel=0.9, colsample_bytree=0.6, learning_rate=0.1, max_depth=3, n_estimators=150, seed=42, subsample=0.7 \n",
      "[CV]  colsample_bylevel=0.9, colsample_bytree=0.6, learning_rate=0.1, max_depth=3, n_estimators=150, seed=42, subsample=0.7, score=0.805100, total= 1.7min\n",
      "[CV] colsample_bylevel=0.9, colsample_bytree=0.6, learning_rate=0.1, max_depth=3, n_estimators=150, seed=42, subsample=0.7 \n",
      "[CV]  colsample_bylevel=0.9, colsample_bytree=0.6, learning_rate=0.1, max_depth=3, n_estimators=150, seed=42, subsample=0.7, score=0.804500, total= 1.8min\n",
      "[CV] colsample_bylevel=0.9, colsample_bytree=0.6, learning_rate=0.1, max_depth=3, n_estimators=150, seed=42, subsample=1 \n"
     ]
    },
    {
     "name": "stderr",
     "output_type": "stream",
     "text": [
      "[Parallel(n_jobs=-1)]: Done 192 tasks      | elapsed: 112.6min\n"
     ]
    },
    {
     "name": "stdout",
     "output_type": "stream",
     "text": [
      "[CV]  colsample_bylevel=0.9, colsample_bytree=0.6, learning_rate=0.1, max_depth=3, n_estimators=150, seed=42, subsample=0.7, score=0.810300, total= 1.7min\n",
      "[CV] colsample_bylevel=0.9, colsample_bytree=0.6, learning_rate=0.1, max_depth=3, n_estimators=150, seed=42, subsample=1 \n",
      "[CV]  colsample_bylevel=0.9, colsample_bytree=0.6, learning_rate=0.1, max_depth=3, n_estimators=150, seed=42, subsample=0.7, score=0.803700, total= 1.7min\n",
      "[CV] colsample_bylevel=0.9, colsample_bytree=0.6, learning_rate=0.1, max_depth=3, n_estimators=150, seed=42, subsample=1 \n",
      "[CV]  colsample_bylevel=0.9, colsample_bytree=0.6, learning_rate=0.1, max_depth=3, n_estimators=150, seed=42, subsample=0.7, score=0.808800, total= 1.8min\n",
      "[CV] colsample_bylevel=0.9, colsample_bytree=0.6, learning_rate=0.1, max_depth=3, n_estimators=150, seed=42, subsample=1 \n",
      "[CV]  colsample_bylevel=0.9, colsample_bytree=0.6, learning_rate=0.1, max_depth=3, n_estimators=150, seed=42, subsample=1, score=0.802000, total= 2.1min\n",
      "[CV] colsample_bylevel=0.9, colsample_bytree=0.6, learning_rate=0.1, max_depth=3, n_estimators=150, seed=42, subsample=1 \n",
      "[CV]  colsample_bylevel=0.9, colsample_bytree=0.6, learning_rate=0.1, max_depth=3, n_estimators=150, seed=42, subsample=1, score=0.807600, total= 2.1min\n",
      "[CV] colsample_bylevel=0.9, colsample_bytree=0.6, learning_rate=0.1, max_depth=3, n_estimators=250, seed=42, subsample=0.7 \n",
      "[CV]  colsample_bylevel=0.9, colsample_bytree=0.6, learning_rate=0.1, max_depth=3, n_estimators=150, seed=42, subsample=1, score=0.810200, total= 2.1min\n",
      "[CV] colsample_bylevel=0.9, colsample_bytree=0.6, learning_rate=0.1, max_depth=3, n_estimators=250, seed=42, subsample=0.7 \n",
      "[CV]  colsample_bylevel=0.9, colsample_bytree=0.6, learning_rate=0.1, max_depth=3, n_estimators=150, seed=42, subsample=1, score=0.801600, total= 1.8min\n",
      "[CV] colsample_bylevel=0.9, colsample_bytree=0.6, learning_rate=0.1, max_depth=3, n_estimators=250, seed=42, subsample=0.7 \n",
      "[CV]  colsample_bylevel=0.9, colsample_bytree=0.6, learning_rate=0.1, max_depth=3, n_estimators=150, seed=42, subsample=1, score=0.809900, total= 1.7min\n",
      "[CV] colsample_bylevel=0.9, colsample_bytree=0.6, learning_rate=0.1, max_depth=3, n_estimators=250, seed=42, subsample=0.7 \n",
      "[CV]  colsample_bylevel=0.9, colsample_bytree=0.6, learning_rate=0.1, max_depth=3, n_estimators=250, seed=42, subsample=0.7, score=0.817300, total= 2.4min\n",
      "[CV] colsample_bylevel=0.9, colsample_bytree=0.6, learning_rate=0.1, max_depth=3, n_estimators=250, seed=42, subsample=0.7 \n",
      "[CV]  colsample_bylevel=0.9, colsample_bytree=0.6, learning_rate=0.1, max_depth=3, n_estimators=250, seed=42, subsample=0.7, score=0.815600, total= 2.4min\n",
      "[CV] colsample_bylevel=0.9, colsample_bytree=0.6, learning_rate=0.1, max_depth=3, n_estimators=250, seed=42, subsample=1 \n",
      "[CV]  colsample_bylevel=0.9, colsample_bytree=0.6, learning_rate=0.1, max_depth=3, n_estimators=250, seed=42, subsample=0.7, score=0.820400, total= 2.3min\n",
      "[CV] colsample_bylevel=0.9, colsample_bytree=0.6, learning_rate=0.1, max_depth=3, n_estimators=250, seed=42, subsample=1 \n",
      "[CV]  colsample_bylevel=0.9, colsample_bytree=0.6, learning_rate=0.1, max_depth=3, n_estimators=250, seed=42, subsample=0.7, score=0.815100, total= 2.3min\n",
      "[CV] colsample_bylevel=0.9, colsample_bytree=0.6, learning_rate=0.1, max_depth=3, n_estimators=250, seed=42, subsample=1 \n",
      "[CV]  colsample_bylevel=0.9, colsample_bytree=0.6, learning_rate=0.1, max_depth=3, n_estimators=250, seed=42, subsample=0.7, score=0.820000, total= 2.5min\n",
      "[CV] colsample_bylevel=0.9, colsample_bytree=0.6, learning_rate=0.1, max_depth=3, n_estimators=250, seed=42, subsample=1 \n",
      "[CV]  colsample_bylevel=0.9, colsample_bytree=0.6, learning_rate=0.1, max_depth=3, n_estimators=250, seed=42, subsample=1, score=0.811700, total= 3.0min\n",
      "[CV] colsample_bylevel=0.9, colsample_bytree=0.6, learning_rate=0.1, max_depth=3, n_estimators=250, seed=42, subsample=1 \n",
      "[CV]  colsample_bylevel=0.9, colsample_bytree=0.6, learning_rate=0.1, max_depth=3, n_estimators=250, seed=42, subsample=1, score=0.814400, total= 3.3min\n",
      "[CV] colsample_bylevel=0.9, colsample_bytree=0.6, learning_rate=0.1, max_depth=4, n_estimators=50, seed=42, subsample=0.7 \n",
      "[CV]  colsample_bylevel=0.9, colsample_bytree=0.6, learning_rate=0.1, max_depth=3, n_estimators=250, seed=42, subsample=1, score=0.819600, total= 3.4min\n",
      "[CV] colsample_bylevel=0.9, colsample_bytree=0.6, learning_rate=0.1, max_depth=4, n_estimators=50, seed=42, subsample=0.7 \n",
      "[CV]  colsample_bylevel=0.9, colsample_bytree=0.6, learning_rate=0.1, max_depth=4, n_estimators=50, seed=42, subsample=0.7, score=0.792900, total=  45.9s\n",
      "[CV] colsample_bylevel=0.9, colsample_bytree=0.6, learning_rate=0.1, max_depth=4, n_estimators=50, seed=42, subsample=0.7 \n",
      "[CV]  colsample_bylevel=0.9, colsample_bytree=0.6, learning_rate=0.1, max_depth=4, n_estimators=50, seed=42, subsample=0.7, score=0.791800, total=  40.9s\n",
      "[CV] colsample_bylevel=0.9, colsample_bytree=0.6, learning_rate=0.1, max_depth=4, n_estimators=50, seed=42, subsample=0.7 \n",
      "[CV]  colsample_bylevel=0.9, colsample_bytree=0.6, learning_rate=0.1, max_depth=3, n_estimators=250, seed=42, subsample=1, score=0.812200, total= 3.2min\n",
      "[CV] colsample_bylevel=0.9, colsample_bytree=0.6, learning_rate=0.1, max_depth=4, n_estimators=50, seed=42, subsample=0.7 \n",
      "[CV]  colsample_bylevel=0.9, colsample_bytree=0.6, learning_rate=0.1, max_depth=4, n_estimators=50, seed=42, subsample=0.7, score=0.798300, total=  39.2s\n",
      "[CV] colsample_bylevel=0.9, colsample_bytree=0.6, learning_rate=0.1, max_depth=4, n_estimators=50, seed=42, subsample=1 \n",
      "[CV]  colsample_bylevel=0.9, colsample_bytree=0.6, learning_rate=0.1, max_depth=3, n_estimators=250, seed=42, subsample=1, score=0.819300, total= 3.1min\n",
      "[CV] colsample_bylevel=0.9, colsample_bytree=0.6, learning_rate=0.1, max_depth=4, n_estimators=50, seed=42, subsample=1 \n"
     ]
    },
    {
     "name": "stderr",
     "output_type": "stream",
     "text": [
      "[Parallel(n_jobs=-1)]: Done 213 tasks      | elapsed: 123.5min\n"
     ]
    },
    {
     "name": "stdout",
     "output_type": "stream",
     "text": [
      "[CV]  colsample_bylevel=0.9, colsample_bytree=0.6, learning_rate=0.1, max_depth=4, n_estimators=50, seed=42, subsample=0.7, score=0.789500, total=  38.7s\n",
      "[CV] colsample_bylevel=0.9, colsample_bytree=0.6, learning_rate=0.1, max_depth=4, n_estimators=50, seed=42, subsample=1 \n",
      "[CV]  colsample_bylevel=0.9, colsample_bytree=0.6, learning_rate=0.1, max_depth=4, n_estimators=50, seed=42, subsample=0.7, score=0.799000, total=  38.7s\n",
      "[CV] colsample_bylevel=0.9, colsample_bytree=0.6, learning_rate=0.1, max_depth=4, n_estimators=50, seed=42, subsample=1 \n",
      "[CV]  colsample_bylevel=0.9, colsample_bytree=0.6, learning_rate=0.1, max_depth=4, n_estimators=50, seed=42, subsample=1, score=0.792000, total=  45.2s\n",
      "[CV] colsample_bylevel=0.9, colsample_bytree=0.6, learning_rate=0.1, max_depth=4, n_estimators=50, seed=42, subsample=1 \n",
      "[CV]  colsample_bylevel=0.9, colsample_bytree=0.6, learning_rate=0.1, max_depth=4, n_estimators=50, seed=42, subsample=1, score=0.792900, total=  45.0s\n",
      "[CV] colsample_bylevel=0.9, colsample_bytree=0.6, learning_rate=0.1, max_depth=4, n_estimators=150, seed=42, subsample=0.7 \n",
      "[CV]  colsample_bylevel=0.9, colsample_bytree=0.6, learning_rate=0.1, max_depth=4, n_estimators=50, seed=42, subsample=1, score=0.797200, total=  44.8s\n",
      "[CV] colsample_bylevel=0.9, colsample_bytree=0.6, learning_rate=0.1, max_depth=4, n_estimators=150, seed=42, subsample=0.7 \n",
      "[CV]  colsample_bylevel=0.9, colsample_bytree=0.6, learning_rate=0.1, max_depth=4, n_estimators=50, seed=42, subsample=1, score=0.790600, total=  44.7s\n",
      "[CV] colsample_bylevel=0.9, colsample_bytree=0.6, learning_rate=0.1, max_depth=4, n_estimators=150, seed=42, subsample=0.7 \n",
      "[CV]  colsample_bylevel=0.9, colsample_bytree=0.6, learning_rate=0.1, max_depth=4, n_estimators=50, seed=42, subsample=1, score=0.794200, total=  45.5s\n",
      "[CV] colsample_bylevel=0.9, colsample_bytree=0.6, learning_rate=0.1, max_depth=4, n_estimators=150, seed=42, subsample=0.7 \n",
      "[CV]  colsample_bylevel=0.9, colsample_bytree=0.6, learning_rate=0.1, max_depth=4, n_estimators=150, seed=42, subsample=0.7, score=0.812400, total= 1.9min\n",
      "[CV] colsample_bylevel=0.9, colsample_bytree=0.6, learning_rate=0.1, max_depth=4, n_estimators=150, seed=42, subsample=0.7 \n",
      "[CV]  colsample_bylevel=0.9, colsample_bytree=0.6, learning_rate=0.1, max_depth=4, n_estimators=150, seed=42, subsample=0.7, score=0.813700, total= 1.9min\n",
      "[CV] colsample_bylevel=0.9, colsample_bytree=0.6, learning_rate=0.1, max_depth=4, n_estimators=150, seed=42, subsample=1 \n",
      "[CV]  colsample_bylevel=0.9, colsample_bytree=0.6, learning_rate=0.1, max_depth=4, n_estimators=150, seed=42, subsample=0.7, score=0.819400, total= 1.9min\n",
      "[CV] colsample_bylevel=0.9, colsample_bytree=0.6, learning_rate=0.1, max_depth=4, n_estimators=150, seed=42, subsample=1 \n",
      "[CV]  colsample_bylevel=0.9, colsample_bytree=0.6, learning_rate=0.1, max_depth=4, n_estimators=150, seed=42, subsample=0.7, score=0.814700, total= 1.9min\n",
      "[CV] colsample_bylevel=0.9, colsample_bytree=0.6, learning_rate=0.1, max_depth=4, n_estimators=150, seed=42, subsample=1 \n",
      "[CV]  colsample_bylevel=0.9, colsample_bytree=0.6, learning_rate=0.1, max_depth=4, n_estimators=150, seed=42, subsample=0.7, score=0.819700, total=33.9min\n",
      "[CV] colsample_bylevel=0.9, colsample_bytree=0.6, learning_rate=0.1, max_depth=4, n_estimators=150, seed=42, subsample=1 \n",
      "[CV]  colsample_bylevel=0.9, colsample_bytree=0.6, learning_rate=0.1, max_depth=4, n_estimators=150, seed=42, subsample=1, score=0.814500, total=87.9min\n",
      "[CV] colsample_bylevel=0.9, colsample_bytree=0.6, learning_rate=0.1, max_depth=4, n_estimators=150, seed=42, subsample=1 \n",
      "[CV]  colsample_bylevel=0.9, colsample_bytree=0.6, learning_rate=0.1, max_depth=4, n_estimators=150, seed=42, subsample=1, score=0.812000, total=87.9min\n",
      "[CV] colsample_bylevel=0.9, colsample_bytree=0.6, learning_rate=0.1, max_depth=4, n_estimators=250, seed=42, subsample=0.7 \n",
      "[CV]  colsample_bylevel=0.9, colsample_bytree=0.6, learning_rate=0.1, max_depth=4, n_estimators=150, seed=42, subsample=1, score=0.818300, total=88.2min\n",
      "[CV] colsample_bylevel=0.9, colsample_bytree=0.6, learning_rate=0.1, max_depth=4, n_estimators=250, seed=42, subsample=0.7 \n",
      "[CV]  colsample_bylevel=0.9, colsample_bytree=0.6, learning_rate=0.1, max_depth=4, n_estimators=150, seed=42, subsample=1, score=0.815400, total=162.8min\n",
      "[CV] colsample_bylevel=0.9, colsample_bytree=0.6, learning_rate=0.1, max_depth=4, n_estimators=250, seed=42, subsample=0.7 \n",
      "[CV]  colsample_bylevel=0.9, colsample_bytree=0.6, learning_rate=0.1, max_depth=4, n_estimators=150, seed=42, subsample=1, score=0.819700, total=162.6min\n",
      "[CV] colsample_bylevel=0.9, colsample_bytree=0.6, learning_rate=0.1, max_depth=4, n_estimators=250, seed=42, subsample=0.7 \n",
      "[CV]  colsample_bylevel=0.9, colsample_bytree=0.6, learning_rate=0.1, max_depth=4, n_estimators=250, seed=42, subsample=0.7, score=0.823100, total=261.0min\n",
      "[CV] colsample_bylevel=0.9, colsample_bytree=0.6, learning_rate=0.1, max_depth=4, n_estimators=250, seed=42, subsample=0.7 \n",
      "[CV]  colsample_bylevel=0.9, colsample_bytree=0.6, learning_rate=0.1, max_depth=4, n_estimators=250, seed=42, subsample=0.7, score=0.823300, total=260.8min\n",
      "[CV] colsample_bylevel=0.9, colsample_bytree=0.6, learning_rate=0.1, max_depth=4, n_estimators=250, seed=42, subsample=1 \n",
      "[CV]  colsample_bylevel=0.9, colsample_bytree=0.6, learning_rate=0.1, max_depth=4, n_estimators=250, seed=42, subsample=0.7, score=0.828000, total=261.2min\n",
      "[CV] colsample_bylevel=0.9, colsample_bytree=0.6, learning_rate=0.1, max_depth=4, n_estimators=250, seed=42, subsample=1 \n",
      "[CV]  colsample_bylevel=0.9, colsample_bytree=0.6, learning_rate=0.1, max_depth=4, n_estimators=250, seed=42, subsample=0.7, score=0.823300, total=207.9min\n",
      "[CV] colsample_bylevel=0.9, colsample_bytree=0.6, learning_rate=0.1, max_depth=4, n_estimators=250, seed=42, subsample=1 \n"
     ]
    },
    {
     "name": "stderr",
     "output_type": "stream",
     "text": [
      "[Parallel(n_jobs=-1)]: Done 234 tasks      | elapsed: 584.7min\n"
     ]
    },
    {
     "name": "stdout",
     "output_type": "stream",
     "text": [
      "[CV]  colsample_bylevel=0.9, colsample_bytree=0.6, learning_rate=0.1, max_depth=4, n_estimators=250, seed=42, subsample=0.7, score=0.827600, total=120.0min\n",
      "[CV] colsample_bylevel=0.9, colsample_bytree=0.6, learning_rate=0.1, max_depth=4, n_estimators=250, seed=42, subsample=1 \n",
      "[CV]  colsample_bylevel=0.9, colsample_bytree=0.6, learning_rate=0.1, max_depth=4, n_estimators=250, seed=42, subsample=1, score=0.827600, total=129.9min\n",
      "[CV] colsample_bylevel=0.9, colsample_bytree=0.6, learning_rate=0.1, max_depth=4, n_estimators=250, seed=42, subsample=1 \n",
      "[CV]  colsample_bylevel=0.9, colsample_bytree=0.6, learning_rate=0.1, max_depth=4, n_estimators=250, seed=42, subsample=1, score=0.823900, total=85.9min\n",
      "[CV] colsample_bylevel=0.9, colsample_bytree=0.6, learning_rate=0.1, max_depth=5, n_estimators=50, seed=42, subsample=0.7 \n",
      "[CV]  colsample_bylevel=0.9, colsample_bytree=0.6, learning_rate=0.1, max_depth=4, n_estimators=250, seed=42, subsample=1, score=0.827600, total=95.3min\n",
      "[CV] colsample_bylevel=0.9, colsample_bytree=0.6, learning_rate=0.1, max_depth=5, n_estimators=50, seed=42, subsample=0.7 \n",
      "[CV]  colsample_bylevel=0.9, colsample_bytree=0.6, learning_rate=0.1, max_depth=5, n_estimators=50, seed=42, subsample=0.7, score=0.798600, total=10.5min\n",
      "[CV] colsample_bylevel=0.9, colsample_bytree=0.6, learning_rate=0.1, max_depth=5, n_estimators=50, seed=42, subsample=0.7 \n",
      "[CV]  colsample_bylevel=0.9, colsample_bytree=0.6, learning_rate=0.1, max_depth=5, n_estimators=50, seed=42, subsample=0.7, score=0.796500, total=42.2min\n",
      "[CV] colsample_bylevel=0.9, colsample_bytree=0.6, learning_rate=0.1, max_depth=5, n_estimators=50, seed=42, subsample=0.7 \n",
      "[CV]  colsample_bylevel=0.9, colsample_bytree=0.6, learning_rate=0.1, max_depth=4, n_estimators=250, seed=42, subsample=1, score=0.825900, total=127.2min\n",
      "[CV] colsample_bylevel=0.9, colsample_bytree=0.6, learning_rate=0.1, max_depth=5, n_estimators=50, seed=42, subsample=0.7 \n",
      "[CV]  colsample_bylevel=0.9, colsample_bytree=0.6, learning_rate=0.1, max_depth=5, n_estimators=50, seed=42, subsample=0.7, score=0.803000, total=42.4min\n",
      "[CV] colsample_bylevel=0.9, colsample_bytree=0.6, learning_rate=0.1, max_depth=5, n_estimators=50, seed=42, subsample=1 \n",
      "[CV]  colsample_bylevel=0.9, colsample_bytree=0.6, learning_rate=0.1, max_depth=5, n_estimators=50, seed=42, subsample=0.7, score=0.799200, total= 1.4min\n",
      "[CV] colsample_bylevel=0.9, colsample_bytree=0.6, learning_rate=0.1, max_depth=5, n_estimators=50, seed=42, subsample=1 \n",
      "[CV]  colsample_bylevel=0.9, colsample_bytree=0.6, learning_rate=0.1, max_depth=5, n_estimators=50, seed=42, subsample=0.7, score=0.803700, total= 1.3min\n",
      "[CV] colsample_bylevel=0.9, colsample_bytree=0.6, learning_rate=0.1, max_depth=5, n_estimators=50, seed=42, subsample=1 \n",
      "[CV]  colsample_bylevel=0.9, colsample_bytree=0.6, learning_rate=0.1, max_depth=4, n_estimators=250, seed=42, subsample=1, score=0.826300, total=108.9min\n",
      "[CV] colsample_bylevel=0.9, colsample_bytree=0.6, learning_rate=0.1, max_depth=5, n_estimators=50, seed=42, subsample=1 \n",
      "[CV]  colsample_bylevel=0.9, colsample_bytree=0.6, learning_rate=0.1, max_depth=5, n_estimators=50, seed=42, subsample=1, score=0.801200, total= 1.3min\n",
      "[CV] colsample_bylevel=0.9, colsample_bytree=0.6, learning_rate=0.1, max_depth=5, n_estimators=50, seed=42, subsample=1 \n",
      "[CV]  colsample_bylevel=0.9, colsample_bytree=0.6, learning_rate=0.1, max_depth=5, n_estimators=50, seed=42, subsample=1, score=0.800700, total= 1.1min\n",
      "[CV] colsample_bylevel=0.9, colsample_bytree=0.6, learning_rate=0.1, max_depth=5, n_estimators=150, seed=42, subsample=0.7 \n",
      "[CV]  colsample_bylevel=0.9, colsample_bytree=0.6, learning_rate=0.1, max_depth=5, n_estimators=50, seed=42, subsample=1, score=0.804000, total= 1.1min\n",
      "[CV] colsample_bylevel=0.9, colsample_bytree=0.6, learning_rate=0.1, max_depth=5, n_estimators=150, seed=42, subsample=0.7 \n",
      "[CV]  colsample_bylevel=0.9, colsample_bytree=0.6, learning_rate=0.1, max_depth=5, n_estimators=50, seed=42, subsample=1, score=0.800300, total= 1.0min\n",
      "[CV] colsample_bylevel=0.9, colsample_bytree=0.6, learning_rate=0.1, max_depth=5, n_estimators=150, seed=42, subsample=0.7 \n",
      "[CV]  colsample_bylevel=0.9, colsample_bytree=0.6, learning_rate=0.1, max_depth=5, n_estimators=50, seed=42, subsample=1, score=0.803000, total= 1.0min\n",
      "[CV] colsample_bylevel=0.9, colsample_bytree=0.6, learning_rate=0.1, max_depth=5, n_estimators=150, seed=42, subsample=0.7 \n",
      "[CV]  colsample_bylevel=0.9, colsample_bytree=0.6, learning_rate=0.1, max_depth=5, n_estimators=150, seed=42, subsample=0.7, score=0.821300, total= 2.4min\n",
      "[CV] colsample_bylevel=0.9, colsample_bytree=0.6, learning_rate=0.1, max_depth=5, n_estimators=150, seed=42, subsample=0.7 \n",
      "[CV]  colsample_bylevel=0.9, colsample_bytree=0.6, learning_rate=0.1, max_depth=5, n_estimators=150, seed=42, subsample=0.7, score=0.821700, total= 2.4min\n",
      "[CV] colsample_bylevel=0.9, colsample_bytree=0.6, learning_rate=0.1, max_depth=5, n_estimators=150, seed=42, subsample=1 \n",
      "[CV]  colsample_bylevel=0.9, colsample_bytree=0.6, learning_rate=0.1, max_depth=5, n_estimators=150, seed=42, subsample=0.7, score=0.829900, total= 2.4min\n",
      "[CV] colsample_bylevel=0.9, colsample_bytree=0.6, learning_rate=0.1, max_depth=5, n_estimators=150, seed=42, subsample=1 \n",
      "[CV]  colsample_bylevel=0.9, colsample_bytree=0.6, learning_rate=0.1, max_depth=5, n_estimators=150, seed=42, subsample=0.7, score=0.822100, total= 2.4min\n",
      "[CV] colsample_bylevel=0.9, colsample_bytree=0.6, learning_rate=0.1, max_depth=5, n_estimators=150, seed=42, subsample=1 \n",
      "[CV]  colsample_bylevel=0.9, colsample_bytree=0.6, learning_rate=0.1, max_depth=5, n_estimators=150, seed=42, subsample=0.7, score=0.827600, total= 2.5min\n",
      "[CV] colsample_bylevel=0.9, colsample_bytree=0.6, learning_rate=0.1, max_depth=5, n_estimators=150, seed=42, subsample=1 \n",
      "[CV]  colsample_bylevel=0.9, colsample_bytree=0.6, learning_rate=0.1, max_depth=5, n_estimators=150, seed=42, subsample=1, score=0.825200, total= 2.9min\n",
      "[CV] colsample_bylevel=0.9, colsample_bytree=0.6, learning_rate=0.1, max_depth=5, n_estimators=150, seed=42, subsample=1 \n",
      "[CV]  colsample_bylevel=0.9, colsample_bytree=0.6, learning_rate=0.1, max_depth=5, n_estimators=150, seed=42, subsample=1, score=0.822400, total= 2.9min\n",
      "[CV] colsample_bylevel=0.9, colsample_bytree=0.6, learning_rate=0.1, max_depth=5, n_estimators=250, seed=42, subsample=0.7 \n"
     ]
    },
    {
     "name": "stderr",
     "output_type": "stream",
     "text": [
      "[Parallel(n_jobs=-1)]: Done 257 tasks      | elapsed: 730.3min\n"
     ]
    },
    {
     "name": "stdout",
     "output_type": "stream",
     "text": [
      "[CV]  colsample_bylevel=0.9, colsample_bytree=0.6, learning_rate=0.1, max_depth=5, n_estimators=150, seed=42, subsample=1, score=0.826800, total= 3.0min\n",
      "[CV] colsample_bylevel=0.9, colsample_bytree=0.6, learning_rate=0.1, max_depth=5, n_estimators=250, seed=42, subsample=0.7 \n",
      "[CV]  colsample_bylevel=0.9, colsample_bytree=0.6, learning_rate=0.1, max_depth=5, n_estimators=150, seed=42, subsample=1, score=0.823200, total=13.6min\n",
      "[CV] colsample_bylevel=0.9, colsample_bytree=0.6, learning_rate=0.1, max_depth=5, n_estimators=250, seed=42, subsample=0.7 \n",
      "[CV]  colsample_bylevel=0.9, colsample_bytree=0.6, learning_rate=0.1, max_depth=5, n_estimators=150, seed=42, subsample=1, score=0.826500, total=27.0min\n",
      "[CV] colsample_bylevel=0.9, colsample_bytree=0.6, learning_rate=0.1, max_depth=5, n_estimators=250, seed=42, subsample=0.7 \n",
      "[CV]  colsample_bylevel=0.9, colsample_bytree=0.6, learning_rate=0.1, max_depth=5, n_estimators=250, seed=42, subsample=0.7, score=0.830800, total=66.6min\n",
      "[CV] colsample_bylevel=0.9, colsample_bytree=0.6, learning_rate=0.1, max_depth=5, n_estimators=250, seed=42, subsample=0.7 \n",
      "[CV]  colsample_bylevel=0.9, colsample_bytree=0.6, learning_rate=0.1, max_depth=5, n_estimators=250, seed=42, subsample=0.7, score=0.833400, total=66.8min\n",
      "[CV] colsample_bylevel=0.9, colsample_bytree=0.6, learning_rate=0.1, max_depth=5, n_estimators=250, seed=42, subsample=1 \n",
      "[CV]  colsample_bylevel=0.9, colsample_bytree=0.6, learning_rate=0.1, max_depth=5, n_estimators=250, seed=42, subsample=0.7, score=0.833700, total=58.6min\n",
      "[CV] colsample_bylevel=0.9, colsample_bytree=0.6, learning_rate=0.1, max_depth=5, n_estimators=250, seed=42, subsample=1 \n",
      "[CV]  colsample_bylevel=0.9, colsample_bytree=0.6, learning_rate=0.1, max_depth=5, n_estimators=250, seed=42, subsample=0.7, score=0.834000, total=45.2min\n",
      "[CV] colsample_bylevel=0.9, colsample_bytree=0.6, learning_rate=0.1, max_depth=5, n_estimators=250, seed=42, subsample=1 \n",
      "[CV]  colsample_bylevel=0.9, colsample_bytree=0.6, learning_rate=0.1, max_depth=5, n_estimators=250, seed=42, subsample=0.7, score=0.836600, total= 6.9min\n",
      "[CV] colsample_bylevel=0.9, colsample_bytree=0.6, learning_rate=0.1, max_depth=5, n_estimators=250, seed=42, subsample=1 \n",
      "[CV]  colsample_bylevel=0.9, colsample_bytree=0.6, learning_rate=0.1, max_depth=5, n_estimators=250, seed=42, subsample=1, score=0.835000, total= 7.4min\n",
      "[CV] colsample_bylevel=0.9, colsample_bytree=0.6, learning_rate=0.1, max_depth=5, n_estimators=250, seed=42, subsample=1 \n",
      "[CV]  colsample_bylevel=0.9, colsample_bytree=0.6, learning_rate=0.1, max_depth=5, n_estimators=250, seed=42, subsample=1, score=0.829900, total= 4.8min\n",
      "[CV] colsample_bylevel=0.9, colsample_bytree=0.9, learning_rate=0.1, max_depth=3, n_estimators=50, seed=42, subsample=0.7 \n",
      "[CV]  colsample_bylevel=0.9, colsample_bytree=0.6, learning_rate=0.1, max_depth=5, n_estimators=250, seed=42, subsample=1, score=0.836500, total= 4.8min\n",
      "[CV] colsample_bylevel=0.9, colsample_bytree=0.9, learning_rate=0.1, max_depth=3, n_estimators=50, seed=42, subsample=0.7 \n",
      "[CV]  colsample_bylevel=0.9, colsample_bytree=0.9, learning_rate=0.1, max_depth=3, n_estimators=50, seed=42, subsample=0.7, score=0.783600, total=  44.9s\n",
      "[CV] colsample_bylevel=0.9, colsample_bytree=0.9, learning_rate=0.1, max_depth=3, n_estimators=50, seed=42, subsample=0.7 \n",
      "[CV]  colsample_bylevel=0.9, colsample_bytree=0.9, learning_rate=0.1, max_depth=3, n_estimators=50, seed=42, subsample=0.7, score=0.788600, total=  45.6s\n",
      "[CV] colsample_bylevel=0.9, colsample_bytree=0.9, learning_rate=0.1, max_depth=3, n_estimators=50, seed=42, subsample=0.7 \n",
      "[CV]  colsample_bylevel=0.9, colsample_bytree=0.9, learning_rate=0.1, max_depth=3, n_estimators=50, seed=42, subsample=0.7, score=0.790800, total=  52.0s\n",
      "[CV] colsample_bylevel=0.9, colsample_bytree=0.9, learning_rate=0.1, max_depth=3, n_estimators=50, seed=42, subsample=0.7 \n",
      "[CV]  colsample_bylevel=0.9, colsample_bytree=0.6, learning_rate=0.1, max_depth=5, n_estimators=250, seed=42, subsample=1, score=0.833200, total= 5.0min\n",
      "[CV] colsample_bylevel=0.9, colsample_bytree=0.9, learning_rate=0.1, max_depth=3, n_estimators=50, seed=42, subsample=1 \n",
      "[CV]  colsample_bylevel=0.9, colsample_bytree=0.9, learning_rate=0.1, max_depth=3, n_estimators=50, seed=42, subsample=0.7, score=0.783400, total= 1.2min\n",
      "[CV] colsample_bylevel=0.9, colsample_bytree=0.9, learning_rate=0.1, max_depth=3, n_estimators=50, seed=42, subsample=1 \n",
      "[CV]  colsample_bylevel=0.9, colsample_bytree=0.9, learning_rate=0.1, max_depth=3, n_estimators=50, seed=42, subsample=0.7, score=0.787400, total= 1.2min\n",
      "[CV] colsample_bylevel=0.9, colsample_bytree=0.9, learning_rate=0.1, max_depth=3, n_estimators=50, seed=42, subsample=1 \n",
      "[CV]  colsample_bylevel=0.9, colsample_bytree=0.9, learning_rate=0.1, max_depth=3, n_estimators=50, seed=42, subsample=1, score=0.783200, total= 1.2min\n",
      "[CV] colsample_bylevel=0.9, colsample_bytree=0.9, learning_rate=0.1, max_depth=3, n_estimators=50, seed=42, subsample=1 \n",
      "[CV]  colsample_bylevel=0.9, colsample_bytree=0.9, learning_rate=0.1, max_depth=3, n_estimators=50, seed=42, subsample=1, score=0.786900, total= 1.1min\n",
      "[CV] colsample_bylevel=0.9, colsample_bytree=0.9, learning_rate=0.1, max_depth=3, n_estimators=50, seed=42, subsample=1 \n",
      "[CV]  colsample_bylevel=0.9, colsample_bytree=0.6, learning_rate=0.1, max_depth=5, n_estimators=250, seed=42, subsample=1, score=0.834600, total= 5.5min\n",
      "[CV] colsample_bylevel=0.9, colsample_bytree=0.9, learning_rate=0.1, max_depth=3, n_estimators=150, seed=42, subsample=0.7 \n",
      "[CV]  colsample_bylevel=0.9, colsample_bytree=0.9, learning_rate=0.1, max_depth=3, n_estimators=50, seed=42, subsample=1, score=0.787400, total= 1.1min\n",
      "[CV] colsample_bylevel=0.9, colsample_bytree=0.9, learning_rate=0.1, max_depth=3, n_estimators=150, seed=42, subsample=0.7 \n",
      "[CV]  colsample_bylevel=0.9, colsample_bytree=0.9, learning_rate=0.1, max_depth=3, n_estimators=50, seed=42, subsample=1, score=0.784000, total= 1.1min\n",
      "[CV] colsample_bylevel=0.9, colsample_bytree=0.9, learning_rate=0.1, max_depth=3, n_estimators=150, seed=42, subsample=0.7 \n",
      "[CV]  colsample_bylevel=0.9, colsample_bytree=0.9, learning_rate=0.1, max_depth=3, n_estimators=50, seed=42, subsample=1, score=0.787900, total= 1.1min\n",
      "[CV] colsample_bylevel=0.9, colsample_bytree=0.9, learning_rate=0.1, max_depth=3, n_estimators=150, seed=42, subsample=0.7 \n"
     ]
    },
    {
     "name": "stderr",
     "output_type": "stream",
     "text": [
      "[Parallel(n_jobs=-1)]: Done 280 tasks      | elapsed: 811.5min\n"
     ]
    },
    {
     "name": "stdout",
     "output_type": "stream",
     "text": [
      "[CV]  colsample_bylevel=0.9, colsample_bytree=0.9, learning_rate=0.1, max_depth=3, n_estimators=150, seed=42, subsample=0.7, score=0.808200, total= 2.7min\n",
      "[CV] colsample_bylevel=0.9, colsample_bytree=0.9, learning_rate=0.1, max_depth=3, n_estimators=150, seed=42, subsample=0.7 \n",
      "[CV]  colsample_bylevel=0.9, colsample_bytree=0.9, learning_rate=0.1, max_depth=3, n_estimators=150, seed=42, subsample=0.7, score=0.806500, total= 2.7min\n",
      "[CV] colsample_bylevel=0.9, colsample_bytree=0.9, learning_rate=0.1, max_depth=3, n_estimators=150, seed=42, subsample=1 \n",
      "[CV]  colsample_bylevel=0.9, colsample_bytree=0.9, learning_rate=0.1, max_depth=3, n_estimators=150, seed=42, subsample=0.7, score=0.811700, total= 2.7min\n",
      "[CV] colsample_bylevel=0.9, colsample_bytree=0.9, learning_rate=0.1, max_depth=3, n_estimators=150, seed=42, subsample=1 \n",
      "[CV]  colsample_bylevel=0.9, colsample_bytree=0.9, learning_rate=0.1, max_depth=3, n_estimators=150, seed=42, subsample=0.7, score=0.803300, total= 2.8min\n",
      "[CV] colsample_bylevel=0.9, colsample_bytree=0.9, learning_rate=0.1, max_depth=3, n_estimators=150, seed=42, subsample=1 \n",
      "[CV]  colsample_bylevel=0.9, colsample_bytree=0.9, learning_rate=0.1, max_depth=3, n_estimators=150, seed=42, subsample=0.7, score=0.809500, total= 2.7min\n",
      "[CV] colsample_bylevel=0.9, colsample_bytree=0.9, learning_rate=0.1, max_depth=3, n_estimators=150, seed=42, subsample=1 \n",
      "[CV]  colsample_bylevel=0.9, colsample_bytree=0.9, learning_rate=0.1, max_depth=3, n_estimators=150, seed=42, subsample=1, score=0.803500, total= 3.2min\n",
      "[CV] colsample_bylevel=0.9, colsample_bytree=0.9, learning_rate=0.1, max_depth=3, n_estimators=150, seed=42, subsample=1 \n",
      "[CV]  colsample_bylevel=0.9, colsample_bytree=0.9, learning_rate=0.1, max_depth=3, n_estimators=150, seed=42, subsample=1, score=0.802600, total= 3.1min\n",
      "[CV] colsample_bylevel=0.9, colsample_bytree=0.9, learning_rate=0.1, max_depth=3, n_estimators=250, seed=42, subsample=0.7 \n",
      "[CV]  colsample_bylevel=0.9, colsample_bytree=0.9, learning_rate=0.1, max_depth=3, n_estimators=150, seed=42, subsample=1, score=0.811600, total= 3.0min\n",
      "[CV] colsample_bylevel=0.9, colsample_bytree=0.9, learning_rate=0.1, max_depth=3, n_estimators=250, seed=42, subsample=0.7 \n",
      "[CV]  colsample_bylevel=0.9, colsample_bytree=0.9, learning_rate=0.1, max_depth=3, n_estimators=150, seed=42, subsample=1, score=0.802900, total= 3.1min\n",
      "[CV] colsample_bylevel=0.9, colsample_bytree=0.9, learning_rate=0.1, max_depth=3, n_estimators=250, seed=42, subsample=0.7 \n",
      "[CV]  colsample_bylevel=0.9, colsample_bytree=0.9, learning_rate=0.1, max_depth=3, n_estimators=150, seed=42, subsample=1, score=0.808500, total= 3.2min\n",
      "[CV] colsample_bylevel=0.9, colsample_bytree=0.9, learning_rate=0.1, max_depth=3, n_estimators=250, seed=42, subsample=0.7 \n",
      "[CV]  colsample_bylevel=0.9, colsample_bytree=0.9, learning_rate=0.1, max_depth=3, n_estimators=250, seed=42, subsample=0.7, score=0.818500, total= 4.6min\n",
      "[CV] colsample_bylevel=0.9, colsample_bytree=0.9, learning_rate=0.1, max_depth=3, n_estimators=250, seed=42, subsample=0.7 \n",
      "[CV]  colsample_bylevel=0.9, colsample_bytree=0.9, learning_rate=0.1, max_depth=3, n_estimators=250, seed=42, subsample=0.7, score=0.815500, total= 4.7min\n",
      "[CV] colsample_bylevel=0.9, colsample_bytree=0.9, learning_rate=0.1, max_depth=3, n_estimators=250, seed=42, subsample=1 \n",
      "[CV]  colsample_bylevel=0.9, colsample_bytree=0.9, learning_rate=0.1, max_depth=3, n_estimators=250, seed=42, subsample=0.7, score=0.820200, total= 4.6min\n",
      "[CV] colsample_bylevel=0.9, colsample_bytree=0.9, learning_rate=0.1, max_depth=3, n_estimators=250, seed=42, subsample=1 \n",
      "[CV]  colsample_bylevel=0.9, colsample_bytree=0.9, learning_rate=0.1, max_depth=3, n_estimators=250, seed=42, subsample=0.7, score=0.814300, total= 4.5min\n",
      "[CV] colsample_bylevel=0.9, colsample_bytree=0.9, learning_rate=0.1, max_depth=3, n_estimators=250, seed=42, subsample=1 \n",
      "[CV]  colsample_bylevel=0.9, colsample_bytree=0.9, learning_rate=0.1, max_depth=3, n_estimators=250, seed=42, subsample=0.7, score=0.819200, total= 4.4min\n",
      "[CV] colsample_bylevel=0.9, colsample_bytree=0.9, learning_rate=0.1, max_depth=3, n_estimators=250, seed=42, subsample=1 \n",
      "[CV]  colsample_bylevel=0.9, colsample_bytree=0.9, learning_rate=0.1, max_depth=3, n_estimators=250, seed=42, subsample=1, score=0.816100, total= 5.0min\n",
      "[CV] colsample_bylevel=0.9, colsample_bytree=0.9, learning_rate=0.1, max_depth=3, n_estimators=250, seed=42, subsample=1 \n",
      "[CV]  colsample_bylevel=0.9, colsample_bytree=0.9, learning_rate=0.1, max_depth=3, n_estimators=250, seed=42, subsample=1, score=0.814200, total= 5.0min\n",
      "[CV] colsample_bylevel=0.9, colsample_bytree=0.9, learning_rate=0.1, max_depth=4, n_estimators=50, seed=42, subsample=0.7 \n",
      "[CV]  colsample_bylevel=0.9, colsample_bytree=0.9, learning_rate=0.1, max_depth=3, n_estimators=250, seed=42, subsample=1, score=0.816700, total= 5.0min\n",
      "[CV] colsample_bylevel=0.9, colsample_bytree=0.9, learning_rate=0.1, max_depth=4, n_estimators=50, seed=42, subsample=0.7 \n",
      "[CV]  colsample_bylevel=0.9, colsample_bytree=0.9, learning_rate=0.1, max_depth=4, n_estimators=50, seed=42, subsample=0.7, score=0.791400, total= 1.0min\n",
      "[CV] colsample_bylevel=0.9, colsample_bytree=0.9, learning_rate=0.1, max_depth=4, n_estimators=50, seed=42, subsample=0.7 \n",
      "[CV]  colsample_bylevel=0.9, colsample_bytree=0.9, learning_rate=0.1, max_depth=4, n_estimators=50, seed=42, subsample=0.7, score=0.793100, total= 1.1min\n",
      "[CV] colsample_bylevel=0.9, colsample_bytree=0.9, learning_rate=0.1, max_depth=4, n_estimators=50, seed=42, subsample=0.7 \n",
      "[CV]  colsample_bylevel=0.9, colsample_bytree=0.9, learning_rate=0.1, max_depth=3, n_estimators=250, seed=42, subsample=1, score=0.811200, total= 4.8min\n",
      "[CV] colsample_bylevel=0.9, colsample_bytree=0.9, learning_rate=0.1, max_depth=4, n_estimators=50, seed=42, subsample=0.7 \n",
      "[CV]  colsample_bylevel=0.9, colsample_bytree=0.9, learning_rate=0.1, max_depth=4, n_estimators=50, seed=42, subsample=0.7, score=0.798600, total= 1.1min\n",
      "[CV] colsample_bylevel=0.9, colsample_bytree=0.9, learning_rate=0.1, max_depth=4, n_estimators=50, seed=42, subsample=1 \n",
      "[CV]  colsample_bylevel=0.9, colsample_bytree=0.9, learning_rate=0.1, max_depth=4, n_estimators=50, seed=42, subsample=0.7, score=0.789100, total= 1.2min\n",
      "[CV] colsample_bylevel=0.9, colsample_bytree=0.9, learning_rate=0.1, max_depth=4, n_estimators=50, seed=42, subsample=1 \n",
      "[CV]  colsample_bylevel=0.9, colsample_bytree=0.9, learning_rate=0.1, max_depth=3, n_estimators=250, seed=42, subsample=1, score=0.820300, total= 4.8min\n",
      "[CV] colsample_bylevel=0.9, colsample_bytree=0.9, learning_rate=0.1, max_depth=4, n_estimators=50, seed=42, subsample=1 \n",
      "[CV]  colsample_bylevel=0.9, colsample_bytree=0.9, learning_rate=0.1, max_depth=4, n_estimators=50, seed=42, subsample=0.7, score=0.797400, total= 1.2min\n",
      "[CV] colsample_bylevel=0.9, colsample_bytree=0.9, learning_rate=0.1, max_depth=4, n_estimators=50, seed=42, subsample=1 \n"
     ]
    },
    {
     "name": "stderr",
     "output_type": "stream",
     "text": [
      "[Parallel(n_jobs=-1)]: Done 305 tasks      | elapsed: 832.1min\n"
     ]
    },
    {
     "name": "stdout",
     "output_type": "stream",
     "text": [
      "[CV]  colsample_bylevel=0.9, colsample_bytree=0.9, learning_rate=0.1, max_depth=4, n_estimators=50, seed=42, subsample=1, score=0.793000, total= 1.4min\n",
      "[CV] colsample_bylevel=0.9, colsample_bytree=0.9, learning_rate=0.1, max_depth=4, n_estimators=50, seed=42, subsample=1 \n",
      "[CV]  colsample_bylevel=0.9, colsample_bytree=0.9, learning_rate=0.1, max_depth=4, n_estimators=50, seed=42, subsample=1, score=0.796800, total= 1.4min\n",
      "[CV] colsample_bylevel=0.9, colsample_bytree=0.9, learning_rate=0.1, max_depth=4, n_estimators=150, seed=42, subsample=0.7 \n",
      "[CV]  colsample_bylevel=0.9, colsample_bytree=0.9, learning_rate=0.1, max_depth=4, n_estimators=50, seed=42, subsample=1, score=0.797400, total= 1.3min\n",
      "[CV] colsample_bylevel=0.9, colsample_bytree=0.9, learning_rate=0.1, max_depth=4, n_estimators=150, seed=42, subsample=0.7 \n",
      "[CV]  colsample_bylevel=0.9, colsample_bytree=0.9, learning_rate=0.1, max_depth=4, n_estimators=50, seed=42, subsample=1, score=0.791100, total= 1.4min\n",
      "[CV] colsample_bylevel=0.9, colsample_bytree=0.9, learning_rate=0.1, max_depth=4, n_estimators=150, seed=42, subsample=0.7 \n",
      "[CV]  colsample_bylevel=0.9, colsample_bytree=0.9, learning_rate=0.1, max_depth=4, n_estimators=50, seed=42, subsample=1, score=0.798800, total= 1.4min\n",
      "[CV] colsample_bylevel=0.9, colsample_bytree=0.9, learning_rate=0.1, max_depth=4, n_estimators=150, seed=42, subsample=0.7 \n",
      "[CV]  colsample_bylevel=0.9, colsample_bytree=0.9, learning_rate=0.1, max_depth=4, n_estimators=150, seed=42, subsample=0.7, score=0.815900, total= 3.5min\n",
      "[CV] colsample_bylevel=0.9, colsample_bytree=0.9, learning_rate=0.1, max_depth=4, n_estimators=150, seed=42, subsample=0.7 \n",
      "[CV]  colsample_bylevel=0.9, colsample_bytree=0.9, learning_rate=0.1, max_depth=4, n_estimators=150, seed=42, subsample=0.7, score=0.814500, total= 3.5min\n",
      "[CV] colsample_bylevel=0.9, colsample_bytree=0.9, learning_rate=0.1, max_depth=4, n_estimators=150, seed=42, subsample=1 \n",
      "[CV]  colsample_bylevel=0.9, colsample_bytree=0.9, learning_rate=0.1, max_depth=4, n_estimators=150, seed=42, subsample=0.7, score=0.821300, total= 3.5min\n",
      "[CV] colsample_bylevel=0.9, colsample_bytree=0.9, learning_rate=0.1, max_depth=4, n_estimators=150, seed=42, subsample=1 \n",
      "[CV]  colsample_bylevel=0.9, colsample_bytree=0.9, learning_rate=0.1, max_depth=4, n_estimators=150, seed=42, subsample=0.7, score=0.813200, total= 3.6min\n",
      "[CV] colsample_bylevel=0.9, colsample_bytree=0.9, learning_rate=0.1, max_depth=4, n_estimators=150, seed=42, subsample=1 \n",
      "[CV]  colsample_bylevel=0.9, colsample_bytree=0.9, learning_rate=0.1, max_depth=4, n_estimators=150, seed=42, subsample=0.7, score=0.819900, total= 3.3min\n",
      "[CV] colsample_bylevel=0.9, colsample_bytree=0.9, learning_rate=0.1, max_depth=4, n_estimators=150, seed=42, subsample=1 \n",
      "[CV]  colsample_bylevel=0.9, colsample_bytree=0.9, learning_rate=0.1, max_depth=4, n_estimators=150, seed=42, subsample=1, score=0.816100, total= 4.0min\n",
      "[CV] colsample_bylevel=0.9, colsample_bytree=0.9, learning_rate=0.1, max_depth=4, n_estimators=150, seed=42, subsample=1 \n",
      "[CV]  colsample_bylevel=0.9, colsample_bytree=0.9, learning_rate=0.1, max_depth=4, n_estimators=150, seed=42, subsample=1, score=0.816300, total= 3.8min\n",
      "[CV] colsample_bylevel=0.9, colsample_bytree=0.9, learning_rate=0.1, max_depth=4, n_estimators=250, seed=42, subsample=0.7 \n",
      "[CV]  colsample_bylevel=0.9, colsample_bytree=0.9, learning_rate=0.1, max_depth=4, n_estimators=150, seed=42, subsample=1, score=0.821400, total= 3.8min\n",
      "[CV] colsample_bylevel=0.9, colsample_bytree=0.9, learning_rate=0.1, max_depth=4, n_estimators=250, seed=42, subsample=0.7 \n",
      "[CV]  colsample_bylevel=0.9, colsample_bytree=0.9, learning_rate=0.1, max_depth=4, n_estimators=150, seed=42, subsample=1, score=0.814500, total= 4.0min\n",
      "[CV] colsample_bylevel=0.9, colsample_bytree=0.9, learning_rate=0.1, max_depth=4, n_estimators=250, seed=42, subsample=0.7 \n",
      "[CV]  colsample_bylevel=0.9, colsample_bytree=0.9, learning_rate=0.1, max_depth=4, n_estimators=150, seed=42, subsample=1, score=0.820400, total= 4.1min\n",
      "[CV] colsample_bylevel=0.9, colsample_bytree=0.9, learning_rate=0.1, max_depth=4, n_estimators=250, seed=42, subsample=0.7 \n",
      "[CV]  colsample_bylevel=0.9, colsample_bytree=0.9, learning_rate=0.1, max_depth=4, n_estimators=250, seed=42, subsample=0.7, score=0.827200, total= 5.6min\n",
      "[CV] colsample_bylevel=0.9, colsample_bytree=0.9, learning_rate=0.1, max_depth=4, n_estimators=250, seed=42, subsample=0.7 \n",
      "[CV]  colsample_bylevel=0.9, colsample_bytree=0.9, learning_rate=0.1, max_depth=4, n_estimators=250, seed=42, subsample=0.7, score=0.824500, total= 5.6min\n",
      "[CV] colsample_bylevel=0.9, colsample_bytree=0.9, learning_rate=0.1, max_depth=4, n_estimators=250, seed=42, subsample=1 \n",
      "[CV]  colsample_bylevel=0.9, colsample_bytree=0.9, learning_rate=0.1, max_depth=4, n_estimators=250, seed=42, subsample=0.7, score=0.830900, total= 5.3min\n",
      "[CV] colsample_bylevel=0.9, colsample_bytree=0.9, learning_rate=0.1, max_depth=4, n_estimators=250, seed=42, subsample=1 \n",
      "[CV]  colsample_bylevel=0.9, colsample_bytree=0.9, learning_rate=0.1, max_depth=4, n_estimators=250, seed=42, subsample=0.7, score=0.825000, total= 5.3min\n",
      "[CV] colsample_bylevel=0.9, colsample_bytree=0.9, learning_rate=0.1, max_depth=4, n_estimators=250, seed=42, subsample=1 \n",
      "[CV]  colsample_bylevel=0.9, colsample_bytree=0.9, learning_rate=0.1, max_depth=4, n_estimators=250, seed=42, subsample=0.7, score=0.829000, total= 5.3min\n",
      "[CV] colsample_bylevel=0.9, colsample_bytree=0.9, learning_rate=0.1, max_depth=4, n_estimators=250, seed=42, subsample=1 \n",
      "[CV]  colsample_bylevel=0.9, colsample_bytree=0.9, learning_rate=0.1, max_depth=4, n_estimators=250, seed=42, subsample=1, score=0.824400, total= 6.1min\n",
      "[CV] colsample_bylevel=0.9, colsample_bytree=0.9, learning_rate=0.1, max_depth=4, n_estimators=250, seed=42, subsample=1 \n",
      "[CV]  colsample_bylevel=0.9, colsample_bytree=0.9, learning_rate=0.1, max_depth=4, n_estimators=250, seed=42, subsample=1, score=0.827800, total= 6.0min\n",
      "[CV] colsample_bylevel=0.9, colsample_bytree=0.9, learning_rate=0.1, max_depth=5, n_estimators=50, seed=42, subsample=0.7 \n",
      "[CV]  colsample_bylevel=0.9, colsample_bytree=0.9, learning_rate=0.1, max_depth=4, n_estimators=250, seed=42, subsample=1, score=0.827600, total= 6.0min\n",
      "[CV] colsample_bylevel=0.9, colsample_bytree=0.9, learning_rate=0.1, max_depth=5, n_estimators=50, seed=42, subsample=0.7 \n",
      "[CV]  colsample_bylevel=0.9, colsample_bytree=0.9, learning_rate=0.1, max_depth=5, n_estimators=50, seed=42, subsample=0.7, score=0.800100, total= 1.3min\n",
      "[CV] colsample_bylevel=0.9, colsample_bytree=0.9, learning_rate=0.1, max_depth=5, n_estimators=50, seed=42, subsample=0.7 \n",
      "[CV]  colsample_bylevel=0.9, colsample_bytree=0.9, learning_rate=0.1, max_depth=5, n_estimators=50, seed=42, subsample=0.7, score=0.801500, total= 1.3min\n",
      "[CV] colsample_bylevel=0.9, colsample_bytree=0.9, learning_rate=0.1, max_depth=5, n_estimators=50, seed=42, subsample=0.7 \n"
     ]
    },
    {
     "name": "stderr",
     "output_type": "stream",
     "text": [
      "[Parallel(n_jobs=-1)]: Done 330 tasks      | elapsed: 857.4min\n"
     ]
    },
    {
     "name": "stdout",
     "output_type": "stream",
     "text": [
      "[CV]  colsample_bylevel=0.9, colsample_bytree=0.9, learning_rate=0.1, max_depth=4, n_estimators=250, seed=42, subsample=1, score=0.824800, total= 5.8min\n",
      "[CV] colsample_bylevel=0.9, colsample_bytree=0.9, learning_rate=0.1, max_depth=5, n_estimators=50, seed=42, subsample=0.7 \n",
      "[CV]  colsample_bylevel=0.9, colsample_bytree=0.9, learning_rate=0.1, max_depth=5, n_estimators=50, seed=42, subsample=0.7, score=0.806600, total= 1.2min\n",
      "[CV] colsample_bylevel=0.9, colsample_bytree=0.9, learning_rate=0.1, max_depth=5, n_estimators=50, seed=42, subsample=1 \n",
      "[CV]  colsample_bylevel=0.9, colsample_bytree=0.9, learning_rate=0.1, max_depth=5, n_estimators=50, seed=42, subsample=0.7, score=0.799800, total= 1.3min\n",
      "[CV] colsample_bylevel=0.9, colsample_bytree=0.9, learning_rate=0.1, max_depth=5, n_estimators=50, seed=42, subsample=1 \n",
      "[CV]  colsample_bylevel=0.9, colsample_bytree=0.9, learning_rate=0.1, max_depth=4, n_estimators=250, seed=42, subsample=1, score=0.830200, total= 5.9min\n",
      "[CV] colsample_bylevel=0.9, colsample_bytree=0.9, learning_rate=0.1, max_depth=5, n_estimators=50, seed=42, subsample=1 \n",
      "[CV]  colsample_bylevel=0.9, colsample_bytree=0.9, learning_rate=0.1, max_depth=5, n_estimators=50, seed=42, subsample=0.7, score=0.805400, total= 1.4min\n",
      "[CV] colsample_bylevel=0.9, colsample_bytree=0.9, learning_rate=0.1, max_depth=5, n_estimators=50, seed=42, subsample=1 \n",
      "[CV]  colsample_bylevel=0.9, colsample_bytree=0.9, learning_rate=0.1, max_depth=5, n_estimators=50, seed=42, subsample=1, score=0.799400, total= 1.6min\n",
      "[CV] colsample_bylevel=0.9, colsample_bytree=0.9, learning_rate=0.1, max_depth=5, n_estimators=50, seed=42, subsample=1 \n",
      "[CV]  colsample_bylevel=0.9, colsample_bytree=0.9, learning_rate=0.1, max_depth=5, n_estimators=50, seed=42, subsample=1, score=0.804600, total= 1.5min\n",
      "[CV] colsample_bylevel=0.9, colsample_bytree=0.9, learning_rate=0.1, max_depth=5, n_estimators=150, seed=42, subsample=0.7 \n",
      "[CV]  colsample_bylevel=0.9, colsample_bytree=0.9, learning_rate=0.1, max_depth=5, n_estimators=50, seed=42, subsample=1, score=0.807400, total= 1.5min\n",
      "[CV] colsample_bylevel=0.9, colsample_bytree=0.9, learning_rate=0.1, max_depth=5, n_estimators=150, seed=42, subsample=0.7 \n",
      "[CV]  colsample_bylevel=0.9, colsample_bytree=0.9, learning_rate=0.1, max_depth=5, n_estimators=50, seed=42, subsample=1, score=0.801500, total= 1.6min\n",
      "[CV] colsample_bylevel=0.9, colsample_bytree=0.9, learning_rate=0.1, max_depth=5, n_estimators=150, seed=42, subsample=0.7 \n",
      "[CV]  colsample_bylevel=0.9, colsample_bytree=0.9, learning_rate=0.1, max_depth=5, n_estimators=50, seed=42, subsample=1, score=0.801900, total= 1.5min\n",
      "[CV] colsample_bylevel=0.9, colsample_bytree=0.9, learning_rate=0.1, max_depth=5, n_estimators=150, seed=42, subsample=0.7 \n",
      "[CV]  colsample_bylevel=0.9, colsample_bytree=0.9, learning_rate=0.1, max_depth=5, n_estimators=150, seed=42, subsample=0.7, score=0.825500, total= 4.2min\n",
      "[CV] colsample_bylevel=0.9, colsample_bytree=0.9, learning_rate=0.1, max_depth=5, n_estimators=150, seed=42, subsample=0.7 \n",
      "[CV]  colsample_bylevel=0.9, colsample_bytree=0.9, learning_rate=0.1, max_depth=5, n_estimators=150, seed=42, subsample=0.7, score=0.823600, total= 4.2min\n",
      "[CV] colsample_bylevel=0.9, colsample_bytree=0.9, learning_rate=0.1, max_depth=5, n_estimators=150, seed=42, subsample=1 \n",
      "[CV]  colsample_bylevel=0.9, colsample_bytree=0.9, learning_rate=0.1, max_depth=5, n_estimators=150, seed=42, subsample=0.7, score=0.827200, total= 4.2min\n",
      "[CV] colsample_bylevel=0.9, colsample_bytree=0.9, learning_rate=0.1, max_depth=5, n_estimators=150, seed=42, subsample=1 \n",
      "[CV]  colsample_bylevel=0.9, colsample_bytree=0.9, learning_rate=0.1, max_depth=5, n_estimators=150, seed=42, subsample=0.7, score=0.824700, total= 4.2min\n",
      "[CV] colsample_bylevel=0.9, colsample_bytree=0.9, learning_rate=0.1, max_depth=5, n_estimators=150, seed=42, subsample=1 \n",
      "[CV]  colsample_bylevel=0.9, colsample_bytree=0.9, learning_rate=0.1, max_depth=5, n_estimators=150, seed=42, subsample=0.7, score=0.827700, total= 4.4min\n",
      "[CV] colsample_bylevel=0.9, colsample_bytree=0.9, learning_rate=0.1, max_depth=5, n_estimators=150, seed=42, subsample=1 \n",
      "[CV]  colsample_bylevel=0.9, colsample_bytree=0.9, learning_rate=0.1, max_depth=5, n_estimators=150, seed=42, subsample=1, score=0.824300, total= 5.3min\n",
      "[CV] colsample_bylevel=0.9, colsample_bytree=0.9, learning_rate=0.1, max_depth=5, n_estimators=150, seed=42, subsample=1 \n",
      "[CV]  colsample_bylevel=0.9, colsample_bytree=0.9, learning_rate=0.1, max_depth=5, n_estimators=150, seed=42, subsample=1, score=0.823400, total= 5.3min\n",
      "[CV] colsample_bylevel=0.9, colsample_bytree=0.9, learning_rate=0.1, max_depth=5, n_estimators=250, seed=42, subsample=0.7 \n",
      "[CV]  colsample_bylevel=0.9, colsample_bytree=0.9, learning_rate=0.1, max_depth=5, n_estimators=150, seed=42, subsample=1, score=0.827800, total= 5.3min\n",
      "[CV] colsample_bylevel=0.9, colsample_bytree=0.9, learning_rate=0.1, max_depth=5, n_estimators=250, seed=42, subsample=0.7 \n",
      "[CV]  colsample_bylevel=0.9, colsample_bytree=0.9, learning_rate=0.1, max_depth=5, n_estimators=150, seed=42, subsample=1, score=0.822400, total= 4.9min\n",
      "[CV] colsample_bylevel=0.9, colsample_bytree=0.9, learning_rate=0.1, max_depth=5, n_estimators=250, seed=42, subsample=0.7 \n",
      "[CV]  colsample_bylevel=0.9, colsample_bytree=0.9, learning_rate=0.1, max_depth=5, n_estimators=150, seed=42, subsample=1, score=0.826300, total= 4.8min\n",
      "[CV] colsample_bylevel=0.9, colsample_bytree=0.9, learning_rate=0.1, max_depth=5, n_estimators=250, seed=42, subsample=0.7 \n",
      "[CV]  colsample_bylevel=0.9, colsample_bytree=0.9, learning_rate=0.1, max_depth=5, n_estimators=250, seed=42, subsample=0.7, score=0.835300, total= 6.8min\n",
      "[CV] colsample_bylevel=0.9, colsample_bytree=0.9, learning_rate=0.1, max_depth=5, n_estimators=250, seed=42, subsample=0.7 \n",
      "[CV]  colsample_bylevel=0.9, colsample_bytree=0.9, learning_rate=0.1, max_depth=5, n_estimators=250, seed=42, subsample=0.7, score=0.831700, total= 6.7min\n",
      "[CV] colsample_bylevel=0.9, colsample_bytree=0.9, learning_rate=0.1, max_depth=5, n_estimators=250, seed=42, subsample=1 \n",
      "[CV]  colsample_bylevel=0.9, colsample_bytree=0.9, learning_rate=0.1, max_depth=5, n_estimators=250, seed=42, subsample=0.7, score=0.837200, total= 7.0min\n",
      "[CV] colsample_bylevel=0.9, colsample_bytree=0.9, learning_rate=0.1, max_depth=5, n_estimators=250, seed=42, subsample=1 \n",
      "[CV]  colsample_bylevel=0.9, colsample_bytree=0.9, learning_rate=0.1, max_depth=5, n_estimators=250, seed=42, subsample=0.7, score=0.836900, total= 8.5min\n",
      "[CV] colsample_bylevel=0.9, colsample_bytree=0.9, learning_rate=0.1, max_depth=5, n_estimators=250, seed=42, subsample=1 \n",
      "[CV]  colsample_bylevel=0.9, colsample_bytree=0.9, learning_rate=0.1, max_depth=5, n_estimators=250, seed=42, subsample=0.7, score=0.838000, total=14.4min\n",
      "[CV] colsample_bylevel=0.9, colsample_bytree=0.9, learning_rate=0.1, max_depth=5, n_estimators=250, seed=42, subsample=1 \n",
      "[CV]  colsample_bylevel=0.9, colsample_bytree=0.9, learning_rate=0.1, max_depth=5, n_estimators=250, seed=42, subsample=1, score=0.835500, total=20.8min\n",
      "[CV] colsample_bylevel=0.9, colsample_bytree=0.9, learning_rate=0.1, max_depth=5, n_estimators=250, seed=42, subsample=1 \n",
      "[CV]  colsample_bylevel=0.9, colsample_bytree=0.9, learning_rate=0.1, max_depth=5, n_estimators=250, seed=42, subsample=1, score=0.831100, total=20.3min\n",
      "[CV]  colsample_bylevel=0.9, colsample_bytree=0.9, learning_rate=0.1, max_depth=5, n_estimators=250, seed=42, subsample=1, score=0.834500, total=18.6min\n",
      "[CV]  colsample_bylevel=0.9, colsample_bytree=0.9, learning_rate=0.1, max_depth=5, n_estimators=250, seed=42, subsample=1, score=0.834200, total=11.6min\n",
      "[CV]  colsample_bylevel=0.9, colsample_bytree=0.9, learning_rate=0.1, max_depth=5, n_estimators=250, seed=42, subsample=1, score=0.833100, total= 5.7min\n"
     ]
    },
    {
     "name": "stderr",
     "output_type": "stream",
     "text": [
      "[Parallel(n_jobs=-1)]: Done 360 out of 360 | elapsed: 903.6min finished\n"
     ]
    },
    {
     "name": "stdout",
     "output_type": "stream",
     "text": [
      "XGBClassifier(base_score=0.5, colsample_bylevel=1, colsample_bytree=1,\n",
      "       gamma=0, learning_rate=0.1, max_delta_step=0, max_depth=3,\n",
      "       min_child_weight=1, missing=None, n_estimators=100, nthread=-1,\n",
      "       objective='binary:logistic', reg_alpha=0, reg_lambda=1,\n",
      "       scale_pos_weight=1, seed=0, silent=True, subsample=1)\n",
      "Best accuracy score is  0.83582\n",
      "Best parameter is  {'colsample_bylevel': 0.9, 'colsample_bytree': 0.9, 'learning_rate': 0.1, 'max_depth': 5, 'n_estimators': 250, 'seed': 42, 'subsample': 0.7}\n"
     ]
    }
   ],
   "source": [
    "xgb_params = {\n",
    "    'n_estimators': [50, 150, 250],\n",
    "    'learning_rate': [0.1],\n",
    "    'max_depth': [3,4,5], \n",
    "    'subsample': [0.7, 1],\n",
    "    'colsample_bytree': [0.6,0.9], \n",
    "    'colsample_bylevel': [0.6, 0.9], \n",
    "    'seed': [42]\n",
    "}\n",
    "grid_xgb = xgb.XGBClassifier()\n",
    "grid_xgb = param_search(grid_xgb, xgb_params)"
   ]
  },
  {
   "cell_type": "code",
   "execution_count": 23,
   "metadata": {
    "collapsed": false
   },
   "outputs": [
    {
     "name": "stdout",
     "output_type": "stream",
     "text": [
      "Fitting 5 folds for each of 8 candidates, totalling 40 fits\n",
      "[CV] colsample_bylevel=0.9, colsample_bytree=0.9, learning_rate=0.1, max_depth=5, n_estimators=250, seed=42, subsample=0.7 \n",
      "[CV] colsample_bylevel=0.9, colsample_bytree=0.9, learning_rate=0.1, max_depth=5, n_estimators=250, seed=42, subsample=0.7 \n",
      "[CV] colsample_bylevel=0.9, colsample_bytree=0.9, learning_rate=0.1, max_depth=5, n_estimators=250, seed=42, subsample=0.7 \n",
      "[CV] colsample_bylevel=0.9, colsample_bytree=0.9, learning_rate=0.1, max_depth=5, n_estimators=250, seed=42, subsample=0.7 \n",
      "[CV]  colsample_bylevel=0.9, colsample_bytree=0.9, learning_rate=0.1, max_depth=5, n_estimators=250, seed=42, subsample=0.7, score=0.835300, total= 6.9min\n",
      "[CV] colsample_bylevel=0.9, colsample_bytree=0.9, learning_rate=0.1, max_depth=5, n_estimators=250, seed=42, subsample=0.7 \n",
      "[CV]  colsample_bylevel=0.9, colsample_bytree=0.9, learning_rate=0.1, max_depth=5, n_estimators=250, seed=42, subsample=0.7, score=0.831700, total= 6.9min\n",
      "[CV] colsample_bylevel=0.9, colsample_bytree=0.9, learning_rate=0.1, max_depth=5, n_estimators=250, seed=42, subsample=0.6 \n",
      "[CV]  colsample_bylevel=0.9, colsample_bytree=0.9, learning_rate=0.1, max_depth=5, n_estimators=250, seed=42, subsample=0.7, score=0.836900, total= 6.9min\n",
      "[CV] colsample_bylevel=0.9, colsample_bytree=0.9, learning_rate=0.1, max_depth=5, n_estimators=250, seed=42, subsample=0.6 \n",
      "[CV]  colsample_bylevel=0.9, colsample_bytree=0.9, learning_rate=0.1, max_depth=5, n_estimators=250, seed=42, subsample=0.7, score=0.837200, total= 7.1min\n",
      "[CV] colsample_bylevel=0.9, colsample_bytree=0.9, learning_rate=0.1, max_depth=5, n_estimators=250, seed=42, subsample=0.6 \n",
      "[CV]  colsample_bylevel=0.9, colsample_bytree=0.9, learning_rate=0.1, max_depth=5, n_estimators=250, seed=42, subsample=0.6, score=0.831000, total=23.7min\n",
      "[CV] colsample_bylevel=0.9, colsample_bytree=0.9, learning_rate=0.1, max_depth=5, n_estimators=250, seed=42, subsample=0.6 \n"
     ]
    },
    {
     "name": "stderr",
     "output_type": "stream",
     "text": [
      "[Parallel(n_jobs=-1)]: Done   5 tasks      | elapsed: 30.7min\n"
     ]
    },
    {
     "name": "stdout",
     "output_type": "stream",
     "text": [
      "[CV]  colsample_bylevel=0.9, colsample_bytree=0.9, learning_rate=0.1, max_depth=5, n_estimators=250, seed=42, subsample=0.6, score=0.833000, total=23.8min\n",
      "[CV] colsample_bylevel=0.9, colsample_bytree=0.9, learning_rate=0.1, max_depth=5, n_estimators=250, seed=42, subsample=0.6 \n",
      "[CV]  colsample_bylevel=0.9, colsample_bytree=0.9, learning_rate=0.1, max_depth=5, n_estimators=250, seed=42, subsample=0.6, score=0.839200, total=23.7min\n",
      "[CV] colsample_bylevel=0.9, colsample_bytree=1, learning_rate=0.1, max_depth=5, n_estimators=250, seed=42, subsample=0.7 \n",
      "[CV]  colsample_bylevel=0.9, colsample_bytree=0.9, learning_rate=0.1, max_depth=5, n_estimators=250, seed=42, subsample=0.7, score=0.838000, total=24.4min\n",
      "[CV] colsample_bylevel=0.9, colsample_bytree=1, learning_rate=0.1, max_depth=5, n_estimators=250, seed=42, subsample=0.7 \n",
      "[CV]  colsample_bylevel=0.9, colsample_bytree=0.9, learning_rate=0.1, max_depth=5, n_estimators=250, seed=42, subsample=0.6, score=0.832500, total= 6.1min\n",
      "[CV] colsample_bylevel=0.9, colsample_bytree=1, learning_rate=0.1, max_depth=5, n_estimators=250, seed=42, subsample=0.7 \n",
      "[CV]  colsample_bylevel=0.9, colsample_bytree=0.9, learning_rate=0.1, max_depth=5, n_estimators=250, seed=42, subsample=0.6, score=0.835000, total= 6.1min\n",
      "[CV] colsample_bylevel=0.9, colsample_bytree=1, learning_rate=0.1, max_depth=5, n_estimators=250, seed=42, subsample=0.7 \n"
     ]
    },
    {
     "name": "stderr",
     "output_type": "stream",
     "text": [
      "[Parallel(n_jobs=-1)]: Done  10 tasks      | elapsed: 36.9min\n"
     ]
    },
    {
     "name": "stdout",
     "output_type": "stream",
     "text": [
      "[CV]  colsample_bylevel=0.9, colsample_bytree=1, learning_rate=0.1, max_depth=5, n_estimators=250, seed=42, subsample=0.7, score=0.832600, total= 7.2min\n",
      "[CV] colsample_bylevel=0.9, colsample_bytree=1, learning_rate=0.1, max_depth=5, n_estimators=250, seed=42, subsample=0.7 \n",
      "[CV]  colsample_bylevel=0.9, colsample_bytree=1, learning_rate=0.1, max_depth=5, n_estimators=250, seed=42, subsample=0.7, score=0.834300, total= 7.1min\n",
      "[CV] colsample_bylevel=0.9, colsample_bytree=1, learning_rate=0.1, max_depth=5, n_estimators=250, seed=42, subsample=0.6 \n",
      "[CV]  colsample_bylevel=0.9, colsample_bytree=1, learning_rate=0.1, max_depth=5, n_estimators=250, seed=42, subsample=0.7, score=0.834700, total= 7.6min\n",
      "[CV] colsample_bylevel=0.9, colsample_bytree=1, learning_rate=0.1, max_depth=5, n_estimators=250, seed=42, subsample=0.6 \n",
      "[CV]  colsample_bylevel=0.9, colsample_bytree=1, learning_rate=0.1, max_depth=5, n_estimators=250, seed=42, subsample=0.7, score=0.835100, total= 7.6min\n",
      "[CV] colsample_bylevel=0.9, colsample_bytree=1, learning_rate=0.1, max_depth=5, n_estimators=250, seed=42, subsample=0.6 \n",
      "[CV]  colsample_bylevel=0.9, colsample_bytree=1, learning_rate=0.1, max_depth=5, n_estimators=250, seed=42, subsample=0.7, score=0.837200, total= 7.7min\n",
      "[CV] colsample_bylevel=0.9, colsample_bytree=1, learning_rate=0.1, max_depth=5, n_estimators=250, seed=42, subsample=0.6 \n",
      "[CV]  colsample_bylevel=0.9, colsample_bytree=1, learning_rate=0.1, max_depth=5, n_estimators=250, seed=42, subsample=0.6, score=0.831700, total= 7.3min\n",
      "[CV] colsample_bylevel=0.9, colsample_bytree=1, learning_rate=0.1, max_depth=5, n_estimators=250, seed=42, subsample=0.6 \n",
      "[CV]  colsample_bylevel=0.9, colsample_bytree=1, learning_rate=0.1, max_depth=5, n_estimators=250, seed=42, subsample=0.6, score=0.836000, total= 7.0min\n",
      "[CV] colsample_bylevel=1, colsample_bytree=0.9, learning_rate=0.1, max_depth=5, n_estimators=250, seed=42, subsample=0.7 \n"
     ]
    },
    {
     "name": "stderr",
     "output_type": "stream",
     "text": [
      "[Parallel(n_jobs=-1)]: Done  17 tasks      | elapsed: 51.5min\n"
     ]
    },
    {
     "name": "stdout",
     "output_type": "stream",
     "text": [
      "[CV]  colsample_bylevel=0.9, colsample_bytree=1, learning_rate=0.1, max_depth=5, n_estimators=250, seed=42, subsample=0.6, score=0.837100, total= 7.0min\n",
      "[CV] colsample_bylevel=1, colsample_bytree=0.9, learning_rate=0.1, max_depth=5, n_estimators=250, seed=42, subsample=0.7 \n",
      "[CV]  colsample_bylevel=0.9, colsample_bytree=1, learning_rate=0.1, max_depth=5, n_estimators=250, seed=42, subsample=0.6, score=0.834600, total= 6.8min\n",
      "[CV] colsample_bylevel=1, colsample_bytree=0.9, learning_rate=0.1, max_depth=5, n_estimators=250, seed=42, subsample=0.7 \n",
      "[CV]  colsample_bylevel=0.9, colsample_bytree=1, learning_rate=0.1, max_depth=5, n_estimators=250, seed=42, subsample=0.6, score=0.836000, total= 6.8min\n",
      "[CV] colsample_bylevel=1, colsample_bytree=0.9, learning_rate=0.1, max_depth=5, n_estimators=250, seed=42, subsample=0.7 \n",
      "[CV]  colsample_bylevel=1, colsample_bytree=0.9, learning_rate=0.1, max_depth=5, n_estimators=250, seed=42, subsample=0.7, score=0.834200, total= 7.7min\n",
      "[CV] colsample_bylevel=1, colsample_bytree=0.9, learning_rate=0.1, max_depth=5, n_estimators=250, seed=42, subsample=0.7 \n",
      "[CV]  colsample_bylevel=1, colsample_bytree=0.9, learning_rate=0.1, max_depth=5, n_estimators=250, seed=42, subsample=0.7, score=0.834000, total= 7.7min\n",
      "[CV] colsample_bylevel=1, colsample_bytree=0.9, learning_rate=0.1, max_depth=5, n_estimators=250, seed=42, subsample=0.6 \n",
      "[CV]  colsample_bylevel=1, colsample_bytree=0.9, learning_rate=0.1, max_depth=5, n_estimators=250, seed=42, subsample=0.7, score=0.841300, total= 7.9min\n",
      "[CV] colsample_bylevel=1, colsample_bytree=0.9, learning_rate=0.1, max_depth=5, n_estimators=250, seed=42, subsample=0.6 \n",
      "[CV]  colsample_bylevel=1, colsample_bytree=0.9, learning_rate=0.1, max_depth=5, n_estimators=250, seed=42, subsample=0.7, score=0.835500, total= 7.9min\n",
      "[CV] colsample_bylevel=1, colsample_bytree=0.9, learning_rate=0.1, max_depth=5, n_estimators=250, seed=42, subsample=0.6 \n"
     ]
    },
    {
     "name": "stderr",
     "output_type": "stream",
     "text": [
      "[Parallel(n_jobs=-1)]: Done  24 tasks      | elapsed: 60.6min\n"
     ]
    },
    {
     "name": "stdout",
     "output_type": "stream",
     "text": [
      "[CV]  colsample_bylevel=1, colsample_bytree=0.9, learning_rate=0.1, max_depth=5, n_estimators=250, seed=42, subsample=0.6, score=0.833600, total= 7.3min\n",
      "[CV] colsample_bylevel=1, colsample_bytree=0.9, learning_rate=0.1, max_depth=5, n_estimators=250, seed=42, subsample=0.6 \n",
      "[CV]  colsample_bylevel=1, colsample_bytree=0.9, learning_rate=0.1, max_depth=5, n_estimators=250, seed=42, subsample=0.7, score=0.839000, total= 7.7min\n",
      "[CV] colsample_bylevel=1, colsample_bytree=0.9, learning_rate=0.1, max_depth=5, n_estimators=250, seed=42, subsample=0.6 \n",
      "[CV]  colsample_bylevel=1, colsample_bytree=0.9, learning_rate=0.1, max_depth=5, n_estimators=250, seed=42, subsample=0.6, score=0.832900, total= 7.2min\n",
      "[CV] colsample_bylevel=1, colsample_bytree=1, learning_rate=0.1, max_depth=5, n_estimators=250, seed=42, subsample=0.7 \n",
      "[CV]  colsample_bylevel=1, colsample_bytree=0.9, learning_rate=0.1, max_depth=5, n_estimators=250, seed=42, subsample=0.6, score=0.836300, total= 7.2min\n",
      "[CV] colsample_bylevel=1, colsample_bytree=1, learning_rate=0.1, max_depth=5, n_estimators=250, seed=42, subsample=0.7 \n",
      "[CV]  colsample_bylevel=1, colsample_bytree=0.9, learning_rate=0.1, max_depth=5, n_estimators=250, seed=42, subsample=0.6, score=0.834500, total= 6.6min\n",
      "[CV] colsample_bylevel=1, colsample_bytree=1, learning_rate=0.1, max_depth=5, n_estimators=250, seed=42, subsample=0.7 \n",
      "[CV]  colsample_bylevel=1, colsample_bytree=0.9, learning_rate=0.1, max_depth=5, n_estimators=250, seed=42, subsample=0.6, score=0.837100, total= 6.6min\n",
      "[CV] colsample_bylevel=1, colsample_bytree=1, learning_rate=0.1, max_depth=5, n_estimators=250, seed=42, subsample=0.7 \n",
      "[CV]  colsample_bylevel=1, colsample_bytree=1, learning_rate=0.1, max_depth=5, n_estimators=250, seed=42, subsample=0.7, score=0.832700, total= 7.9min\n",
      "[CV] colsample_bylevel=1, colsample_bytree=1, learning_rate=0.1, max_depth=5, n_estimators=250, seed=42, subsample=0.7 \n",
      "[CV]  colsample_bylevel=1, colsample_bytree=1, learning_rate=0.1, max_depth=5, n_estimators=250, seed=42, subsample=0.7, score=0.834300, total= 7.9min\n",
      "[CV] colsample_bylevel=1, colsample_bytree=1, learning_rate=0.1, max_depth=5, n_estimators=250, seed=42, subsample=0.6 \n",
      "[CV]  colsample_bylevel=1, colsample_bytree=1, learning_rate=0.1, max_depth=5, n_estimators=250, seed=42, subsample=0.7, score=0.834000, total= 8.2min\n",
      "[CV] colsample_bylevel=1, colsample_bytree=1, learning_rate=0.1, max_depth=5, n_estimators=250, seed=42, subsample=0.6 \n"
     ]
    },
    {
     "name": "stderr",
     "output_type": "stream",
     "text": [
      "[Parallel(n_jobs=-1)]: Done  33 tasks      | elapsed: 81.4min\n"
     ]
    },
    {
     "name": "stdout",
     "output_type": "stream",
     "text": [
      "[CV]  colsample_bylevel=1, colsample_bytree=1, learning_rate=0.1, max_depth=5, n_estimators=250, seed=42, subsample=0.7, score=0.833600, total= 8.3min\n",
      "[CV] colsample_bylevel=1, colsample_bytree=1, learning_rate=0.1, max_depth=5, n_estimators=250, seed=42, subsample=0.6 \n",
      "[CV]  colsample_bylevel=1, colsample_bytree=1, learning_rate=0.1, max_depth=5, n_estimators=250, seed=42, subsample=0.6, score=0.832800, total= 7.8min\n",
      "[CV] colsample_bylevel=1, colsample_bytree=1, learning_rate=0.1, max_depth=5, n_estimators=250, seed=42, subsample=0.6 \n",
      "[CV]  colsample_bylevel=1, colsample_bytree=1, learning_rate=0.1, max_depth=5, n_estimators=250, seed=42, subsample=0.7, score=0.835800, total= 8.4min\n",
      "[CV] colsample_bylevel=1, colsample_bytree=1, learning_rate=0.1, max_depth=5, n_estimators=250, seed=42, subsample=0.6 \n",
      "[CV]  colsample_bylevel=1, colsample_bytree=1, learning_rate=0.1, max_depth=5, n_estimators=250, seed=42, subsample=0.6, score=0.833500, total= 7.4min\n",
      "[CV]  colsample_bylevel=1, colsample_bytree=1, learning_rate=0.1, max_depth=5, n_estimators=250, seed=42, subsample=0.6, score=0.839500, total= 7.3min\n"
     ]
    },
    {
     "name": "stderr",
     "output_type": "stream",
     "text": [
      "[Parallel(n_jobs=-1)]: Done  38 out of  40 | elapsed: 89.1min remaining:  4.7min\n"
     ]
    },
    {
     "name": "stdout",
     "output_type": "stream",
     "text": [
      "[CV]  colsample_bylevel=1, colsample_bytree=1, learning_rate=0.1, max_depth=5, n_estimators=250, seed=42, subsample=0.6, score=0.834200, total= 6.5min\n",
      "[CV]  colsample_bylevel=1, colsample_bytree=1, learning_rate=0.1, max_depth=5, n_estimators=250, seed=42, subsample=0.6, score=0.835400, total= 6.3min\n"
     ]
    },
    {
     "name": "stderr",
     "output_type": "stream",
     "text": [
      "[Parallel(n_jobs=-1)]: Done  40 out of  40 | elapsed: 90.4min finished\n"
     ]
    },
    {
     "name": "stdout",
     "output_type": "stream",
     "text": [
      "XGBClassifier(base_score=0.5, colsample_bylevel=1, colsample_bytree=1,\n",
      "       gamma=0, learning_rate=0.1, max_delta_step=0, max_depth=3,\n",
      "       min_child_weight=1, missing=None, n_estimators=100, nthread=-1,\n",
      "       objective='binary:logistic', reg_alpha=0, reg_lambda=1,\n",
      "       scale_pos_weight=1, seed=0, silent=True, subsample=1)\n",
      "Best accuracy score is  0.8368\n",
      "Best parameter is  {'colsample_bylevel': 1, 'colsample_bytree': 0.9, 'learning_rate': 0.1, 'max_depth': 5, 'n_estimators': 250, 'seed': 42, 'subsample': 0.7}\n"
     ]
    }
   ],
   "source": [
    "xgb_params = {\n",
    "    'n_estimators': [250],\n",
    "    'learning_rate': [0.1],\n",
    "    'max_depth': [5], \n",
    "    'subsample': [0.7, 0.6],\n",
    "    'colsample_bytree': [0.9, 1], \n",
    "    'colsample_bylevel': [0.9, 1], \n",
    "    'seed': [42]\n",
    "}\n",
    "grid_xgb = xgb.XGBClassifier()\n",
    "grid_xgb = param_search(grid_xgb, xgb_params)"
   ]
  },
  {
   "cell_type": "code",
   "execution_count": 12,
   "metadata": {
    "collapsed": false
   },
   "outputs": [],
   "source": [
    "xgb = xgb.XGBClassifier(base_score=0.5, colsample_bylevel=1, colsample_bytree=0.9,\n",
    "       gamma=0, learning_rate=0.01, max_delta_step=0, max_depth=5,\n",
    "       min_child_weight=1, missing=None, n_estimators=250, nthread=-1,\n",
    "       objective='binary:logistic', reg_alpha=0, reg_lambda=1,\n",
    "       scale_pos_weight=1, seed=0, silent=True, subsample=0.7)\n",
    "#xgb.fit(X_train, y_train)"
   ]
  },
  {
   "cell_type": "code",
   "execution_count": 9,
   "metadata": {
    "collapsed": false
   },
   "outputs": [
    {
     "name": "stdout",
     "output_type": "stream",
     "text": [
      "train acc  0.80418\n",
      "validation acc  0.7639\n"
     ]
    }
   ],
   "source": [
    "trainacc = xgb.score(X_train,y_train)\n",
    "print (\"train acc \", trainacc)\n",
    "\n",
    "validationacc = xgb.score(X_validation,y_validation)\n",
    "print (\"validation acc \", validationacc)"
   ]
  },
  {
   "cell_type": "code",
   "execution_count": 8,
   "metadata": {
    "collapsed": false
   },
   "outputs": [
    {
     "name": "stdout",
     "output_type": "stream",
     "text": [
      "Fitting 5 folds for each of 9 candidates, totalling 45 fits\n",
      "[CV] alpha=0.01, hidden_layer_sizes=50 ...............................\n",
      "[CV] alpha=0.01, hidden_layer_sizes=50 ...............................\n",
      "[CV] alpha=0.01, hidden_layer_sizes=50 ...............................\n",
      "[CV] alpha=0.01, hidden_layer_sizes=50 ...............................\n",
      "[CV]  alpha=0.01, hidden_layer_sizes=50, score=0.845200, total= 1.6min\n",
      "[CV] alpha=0.01, hidden_layer_sizes=50 ...............................\n",
      "[CV]  alpha=0.01, hidden_layer_sizes=50, score=0.837600, total= 1.7min\n",
      "[CV] alpha=0.01, hidden_layer_sizes=100 ..............................\n",
      "[CV]  alpha=0.01, hidden_layer_sizes=50, score=0.834300, total= 2.6min\n",
      "[CV] alpha=0.01, hidden_layer_sizes=100 ..............................\n",
      "[CV]  alpha=0.01, hidden_layer_sizes=50, score=0.842900, total= 1.4min\n",
      "[CV] alpha=0.01, hidden_layer_sizes=100 ..............................\n",
      "[CV]  alpha=0.01, hidden_layer_sizes=50, score=0.838600, total= 3.5min\n",
      "[CV] alpha=0.01, hidden_layer_sizes=100 ..............................\n"
     ]
    },
    {
     "name": "stderr",
     "output_type": "stream",
     "text": [
      "[Parallel(n_jobs=-1)]: Done   5 tasks      | elapsed:  3.6min\n"
     ]
    },
    {
     "name": "stdout",
     "output_type": "stream",
     "text": [
      "[CV]  alpha=0.01, hidden_layer_sizes=100, score=0.836500, total= 1.7min\n",
      "[CV] alpha=0.01, hidden_layer_sizes=100 ..............................\n",
      "[CV]  alpha=0.01, hidden_layer_sizes=100, score=0.839000, total= 3.7min\n",
      "[CV] alpha=0.01, hidden_layer_sizes=150 ..............................\n",
      "[CV]  alpha=0.01, hidden_layer_sizes=100, score=0.838200, total= 2.2min\n",
      "[CV] alpha=0.01, hidden_layer_sizes=150 ..............................\n",
      "[CV]  alpha=0.01, hidden_layer_sizes=100, score=0.840600, total= 3.8min\n",
      "[CV] alpha=0.01, hidden_layer_sizes=150 ..............................\n",
      "[CV]  alpha=0.01, hidden_layer_sizes=100, score=0.837800, total= 4.0min\n",
      "[CV] alpha=0.01, hidden_layer_sizes=150 ..............................\n"
     ]
    },
    {
     "name": "stderr",
     "output_type": "stream",
     "text": [
      "[Parallel(n_jobs=-1)]: Done  10 tasks      | elapsed:  8.3min\n"
     ]
    },
    {
     "name": "stdout",
     "output_type": "stream",
     "text": [
      "[CV]  alpha=0.01, hidden_layer_sizes=150, score=0.846900, total= 2.9min\n",
      "[CV] alpha=0.01, hidden_layer_sizes=150 ..............................\n",
      "[CV]  alpha=0.01, hidden_layer_sizes=150, score=0.843100, total= 2.9min\n",
      "[CV] alpha=0.001, hidden_layer_sizes=50 ..............................\n",
      "[CV]  alpha=0.01, hidden_layer_sizes=150, score=0.846600, total= 4.4min\n",
      "[CV] alpha=0.001, hidden_layer_sizes=50 ..............................\n",
      "[CV]  alpha=0.01, hidden_layer_sizes=150, score=0.849300, total= 2.2min\n",
      "[CV] alpha=0.001, hidden_layer_sizes=50 ..............................\n",
      "[CV]  alpha=0.001, hidden_layer_sizes=50, score=0.839800, total= 1.9min\n",
      "[CV] alpha=0.001, hidden_layer_sizes=50 ..............................\n",
      "[CV]  alpha=0.001, hidden_layer_sizes=50, score=0.833700, total= 2.2min\n",
      "[CV] alpha=0.001, hidden_layer_sizes=50 ..............................\n",
      "[CV]  alpha=0.001, hidden_layer_sizes=50, score=0.838500, total= 1.5min\n",
      "[CV] alpha=0.001, hidden_layer_sizes=100 .............................\n"
     ]
    },
    {
     "name": "stderr",
     "output_type": "stream",
     "text": [
      "[Parallel(n_jobs=-1)]: Done  17 tasks      | elapsed: 13.2min\n"
     ]
    },
    {
     "name": "stdout",
     "output_type": "stream",
     "text": [
      "[CV]  alpha=0.01, hidden_layer_sizes=150, score=0.851100, total= 4.9min\n",
      "[CV] alpha=0.001, hidden_layer_sizes=100 .............................\n",
      "[CV]  alpha=0.001, hidden_layer_sizes=50, score=0.838600, total= 1.4min\n",
      "[CV] alpha=0.001, hidden_layer_sizes=100 .............................\n",
      "[CV]  alpha=0.001, hidden_layer_sizes=50, score=0.836400, total= 3.8min\n",
      "[CV] alpha=0.001, hidden_layer_sizes=100 .............................\n",
      "[CV]  alpha=0.001, hidden_layer_sizes=100, score=0.832400, total= 2.9min\n",
      "[CV] alpha=0.001, hidden_layer_sizes=100 .............................\n",
      "[CV]  alpha=0.001, hidden_layer_sizes=100, score=0.841400, total= 3.6min\n",
      "[CV] alpha=0.001, hidden_layer_sizes=150 .............................\n",
      "[CV]  alpha=0.001, hidden_layer_sizes=100, score=0.846600, total= 3.7min\n",
      "[CV] alpha=0.001, hidden_layer_sizes=150 .............................\n",
      "[CV]  alpha=0.001, hidden_layer_sizes=100, score=0.842600, total= 3.3min\n"
     ]
    },
    {
     "name": "stderr",
     "output_type": "stream",
     "text": [
      "[Parallel(n_jobs=-1)]: Done  24 tasks      | elapsed: 18.2min\n"
     ]
    },
    {
     "name": "stdout",
     "output_type": "stream",
     "text": [
      "[CV] alpha=0.001, hidden_layer_sizes=150 .............................\n",
      "[CV]  alpha=0.001, hidden_layer_sizes=100, score=0.842700, total= 2.5min\n",
      "[CV] alpha=0.001, hidden_layer_sizes=150 .............................\n",
      "[CV]  alpha=0.001, hidden_layer_sizes=150, score=0.843100, total= 3.9min\n",
      "[CV] alpha=0.001, hidden_layer_sizes=150 .............................\n",
      "[CV]  alpha=0.001, hidden_layer_sizes=150, score=0.849700, total= 4.1min\n",
      "[CV] alpha=0.0001, hidden_layer_sizes=50 .............................\n",
      "[CV]  alpha=0.001, hidden_layer_sizes=150, score=0.855400, total= 3.5min\n",
      "[CV] alpha=0.0001, hidden_layer_sizes=50 .............................\n",
      "[CV]  alpha=0.001, hidden_layer_sizes=150, score=0.846500, total= 4.0min\n",
      "[CV] alpha=0.0001, hidden_layer_sizes=50 .............................\n",
      "[CV]  alpha=0.0001, hidden_layer_sizes=50, score=0.841600, total= 2.2min\n",
      "[CV] alpha=0.0001, hidden_layer_sizes=50 .............................\n",
      "[CV]  alpha=0.0001, hidden_layer_sizes=50, score=0.832100, total= 3.0min\n",
      "[CV] alpha=0.0001, hidden_layer_sizes=50 .............................\n",
      "[CV]  alpha=0.0001, hidden_layer_sizes=50, score=0.829800, total= 3.1min\n",
      "[CV] alpha=0.0001, hidden_layer_sizes=100 ............................\n",
      "[CV]  alpha=0.001, hidden_layer_sizes=150, score=0.847700, total= 5.0min\n"
     ]
    },
    {
     "name": "stderr",
     "output_type": "stream",
     "text": [
      "[Parallel(n_jobs=-1)]: Done  33 tasks      | elapsed: 25.8min\n"
     ]
    },
    {
     "name": "stdout",
     "output_type": "stream",
     "text": [
      "[CV] alpha=0.0001, hidden_layer_sizes=100 ............................\n",
      "[CV]  alpha=0.0001, hidden_layer_sizes=50, score=0.831900, total= 2.1min\n",
      "[CV] alpha=0.0001, hidden_layer_sizes=100 ............................\n",
      "[CV]  alpha=0.0001, hidden_layer_sizes=50, score=0.835700, total= 2.5min\n",
      "[CV] alpha=0.0001, hidden_layer_sizes=100 ............................\n",
      "[CV]  alpha=0.0001, hidden_layer_sizes=100, score=0.841700, total= 2.7min\n",
      "[CV] alpha=0.0001, hidden_layer_sizes=100 ............................\n",
      "[CV]  alpha=0.0001, hidden_layer_sizes=100, score=0.839100, total= 3.0min\n",
      "[CV] alpha=0.0001, hidden_layer_sizes=150 ............................\n",
      "[CV]  alpha=0.0001, hidden_layer_sizes=100, score=0.848000, total= 3.7min\n",
      "[CV] alpha=0.0001, hidden_layer_sizes=150 ............................\n",
      "[CV]  alpha=0.0001, hidden_layer_sizes=100, score=0.840300, total= 4.5min\n",
      "[CV] alpha=0.0001, hidden_layer_sizes=150 ............................\n",
      "[CV]  alpha=0.0001, hidden_layer_sizes=100, score=0.841900, total= 3.9min\n",
      "[CV] alpha=0.0001, hidden_layer_sizes=150 ............................\n",
      "[CV]  alpha=0.0001, hidden_layer_sizes=150, score=0.843200, total= 4.5min\n",
      "[CV] alpha=0.0001, hidden_layer_sizes=150 ............................\n",
      "[CV]  alpha=0.0001, hidden_layer_sizes=150, score=0.848000, total= 4.7min\n",
      "[CV]  alpha=0.0001, hidden_layer_sizes=150, score=0.855000, total= 3.9min\n"
     ]
    },
    {
     "name": "stderr",
     "output_type": "stream",
     "text": [
      "[Parallel(n_jobs=-1)]: Done  43 out of  45 | elapsed: 34.3min remaining:  1.6min\n"
     ]
    },
    {
     "name": "stdout",
     "output_type": "stream",
     "text": [
      "[CV]  alpha=0.0001, hidden_layer_sizes=150, score=0.845400, total= 2.9min\n",
      "[CV]  alpha=0.0001, hidden_layer_sizes=150, score=0.845300, total= 2.1min\n"
     ]
    },
    {
     "name": "stderr",
     "output_type": "stream",
     "text": [
      "[Parallel(n_jobs=-1)]: Done  45 out of  45 | elapsed: 36.1min finished\n"
     ]
    },
    {
     "name": "stdout",
     "output_type": "stream",
     "text": [
      "MLPClassifier(activation='relu', alpha=0.0001, batch_size='auto', beta_1=0.9,\n",
      "       beta_2=0.999, early_stopping=False, epsilon=1e-08,\n",
      "       hidden_layer_sizes=(100,), learning_rate='constant',\n",
      "       learning_rate_init=0.001, max_iter=200, momentum=0.9,\n",
      "       nesterovs_momentum=True, power_t=0.5, random_state=None,\n",
      "       shuffle=True, solver='adam', tol=0.0001, validation_fraction=0.1,\n",
      "       verbose=False, warm_start=False)\n",
      "Best accuracy score is  0.84848\n",
      "Best parameter is  {'alpha': 0.001, 'hidden_layer_sizes': 150}\n"
     ]
    }
   ],
   "source": [
    "mlp_params = {\n",
    "    'hidden_layer_sizes': [50, 100, 150],\n",
    "    'alpha': [0.01, 0.001, 0.0001]\n",
    "}\n",
    "grid_mlp = MLPClassifier()\n",
    "grid_mlp = param_search(grid_mlp, mlp_params)"
   ]
  },
  {
   "cell_type": "code",
   "execution_count": 13,
   "metadata": {
    "collapsed": false
   },
   "outputs": [
    {
     "name": "stdout",
     "output_type": "stream",
     "text": [
      "Fitting 5 folds for each of 3 candidates, totalling 15 fits\n",
      "[CV] alpha=0.001, hidden_layer_sizes=250 .............................\n",
      "[CV] alpha=0.001, hidden_layer_sizes=250 .............................\n",
      "[CV] alpha=0.001, hidden_layer_sizes=250 .............................\n",
      "[CV] alpha=0.001, hidden_layer_sizes=250 .............................\n",
      "[CV]  alpha=0.001, hidden_layer_sizes=250, score=0.853500, total= 3.1min\n",
      "[CV] alpha=0.001, hidden_layer_sizes=250 .............................\n",
      "[CV]  alpha=0.001, hidden_layer_sizes=250, score=0.854300, total= 3.5min\n",
      "[CV] alpha=0.001, hidden_layer_sizes=350 .............................\n",
      "[CV]  alpha=0.001, hidden_layer_sizes=250, score=0.854100, total= 3.5min\n",
      "[CV] alpha=0.001, hidden_layer_sizes=350 .............................\n",
      "[CV]  alpha=0.001, hidden_layer_sizes=250, score=0.859000, total= 3.5min\n",
      "[CV] alpha=0.001, hidden_layer_sizes=350 .............................\n",
      "[CV]  alpha=0.001, hidden_layer_sizes=250, score=0.853000, total= 4.2min\n",
      "[CV] alpha=0.001, hidden_layer_sizes=350 .............................\n"
     ]
    },
    {
     "name": "stderr",
     "output_type": "stream",
     "text": [
      "[Parallel(n_jobs=-1)]: Done   5 tasks      | elapsed:  7.3min\n"
     ]
    },
    {
     "name": "stdout",
     "output_type": "stream",
     "text": [
      "[CV]  alpha=0.001, hidden_layer_sizes=350, score=0.857500, total= 4.6min\n",
      "[CV] alpha=0.001, hidden_layer_sizes=350 .............................\n",
      "[CV]  alpha=0.001, hidden_layer_sizes=350, score=0.859600, total= 4.6min\n",
      "[CV] alpha=0.001, hidden_layer_sizes=150 .............................\n",
      "[CV]  alpha=0.001, hidden_layer_sizes=350, score=0.863700, total= 5.3min\n",
      "[CV] alpha=0.001, hidden_layer_sizes=150 .............................\n",
      "[CV]  alpha=0.001, hidden_layer_sizes=150, score=0.845000, total= 4.1min\n",
      "[CV] alpha=0.001, hidden_layer_sizes=150 .............................\n",
      "[CV]  alpha=0.001, hidden_layer_sizes=150, score=0.850800, total= 5.0min\n",
      "[CV] alpha=0.001, hidden_layer_sizes=150 .............................\n"
     ]
    },
    {
     "name": "stderr",
     "output_type": "stream",
     "text": [
      "[Parallel(n_jobs=-1)]: Done  10 out of  15 | elapsed: 13.3min remaining:  6.6min\n"
     ]
    },
    {
     "name": "stdout",
     "output_type": "stream",
     "text": [
      "[CV]  alpha=0.001, hidden_layer_sizes=350, score=0.845700, total= 6.1min\n",
      "[CV] alpha=0.001, hidden_layer_sizes=150 .............................\n",
      "[CV]  alpha=0.001, hidden_layer_sizes=350, score=0.861200, total= 6.7min\n"
     ]
    },
    {
     "name": "stderr",
     "output_type": "stream",
     "text": [
      "[Parallel(n_jobs=-1)]: Done  12 out of  15 | elapsed: 14.9min remaining:  3.7min\n"
     ]
    },
    {
     "name": "stdout",
     "output_type": "stream",
     "text": [
      "[CV]  alpha=0.001, hidden_layer_sizes=150, score=0.848100, total= 3.1min\n",
      "[CV]  alpha=0.001, hidden_layer_sizes=150, score=0.846400, total= 3.7min\n",
      "[CV]  alpha=0.001, hidden_layer_sizes=150, score=0.844400, total= 3.2min\n"
     ]
    },
    {
     "name": "stderr",
     "output_type": "stream",
     "text": [
      "[Parallel(n_jobs=-1)]: Done  15 out of  15 | elapsed: 16.8min finished\n"
     ]
    },
    {
     "name": "stdout",
     "output_type": "stream",
     "text": [
      "MLPClassifier(activation='relu', alpha=0.0001, batch_size='auto', beta_1=0.9,\n",
      "       beta_2=0.999, early_stopping=False, epsilon=1e-08,\n",
      "       hidden_layer_sizes=(100,), learning_rate='constant',\n",
      "       learning_rate_init=0.001, max_iter=200, momentum=0.9,\n",
      "       nesterovs_momentum=True, power_t=0.5, random_state=None,\n",
      "       shuffle=True, solver='adam', tol=0.0001, validation_fraction=0.1,\n",
      "       verbose=False, warm_start=False)\n",
      "Best accuracy score is  0.85754\n",
      "Best parameter is  {'alpha': 0.001, 'hidden_layer_sizes': 350}\n"
     ]
    }
   ],
   "source": [
    "mlp_params = {\n",
    "    'hidden_layer_sizes': [250,350, 150],\n",
    "    'alpha': [0.001]\n",
    "}\n",
    "grid_mlp = MLPClassifier()\n",
    "grid_mlp = param_search(grid_mlp, mlp_params)"
   ]
  },
  {
   "cell_type": "code",
   "execution_count": null,
   "metadata": {
    "collapsed": false
   },
   "outputs": [
    {
     "name": "stdout",
     "output_type": "stream",
     "text": [
      "Fitting 5 folds for each of 3 candidates, totalling 15 fits\n",
      "[CV] n_estimators=10 .................................................\n",
      "[CV] n_estimators=10 .................................................\n",
      "[CV] n_estimators=10 .................................................\n",
      "[CV] n_estimators=10 .................................................\n",
      "[CV] .................. n_estimators=10, score=0.777500, total=  31.0s\n",
      "[CV] n_estimators=10 .................................................\n",
      "[CV] .................. n_estimators=10, score=0.777200, total=  31.9s\n",
      "[CV] n_estimators=20 .................................................\n",
      "[CV] .................. n_estimators=10, score=0.774100, total=  32.3s\n",
      "[CV] n_estimators=20 .................................................\n",
      "[CV] .................. n_estimators=10, score=0.778900, total=  32.9s\n",
      "[CV] n_estimators=20 .................................................\n",
      "[CV] .................. n_estimators=10, score=0.779200, total=  34.2s\n",
      "[CV] n_estimators=20 .................................................\n"
     ]
    },
    {
     "name": "stderr",
     "output_type": "stream",
     "text": [
      "[Parallel(n_jobs=-1)]: Done   5 tasks      | elapsed:  1.1min\n"
     ]
    },
    {
     "name": "stdout",
     "output_type": "stream",
     "text": [
      "[CV] .................. n_estimators=20, score=0.803100, total= 1.0min\n",
      "[CV] n_estimators=20 .................................................\n",
      "[CV] .................. n_estimators=20, score=0.799900, total= 1.1min\n",
      "[CV] n_estimators=30 .................................................\n",
      "[CV] .................. n_estimators=20, score=0.799400, total= 1.0min\n",
      "[CV] n_estimators=30 .................................................\n",
      "[CV] .................. n_estimators=20, score=0.801300, total= 1.0min\n",
      "[CV] n_estimators=30 .................................................\n",
      "[CV] .................. n_estimators=20, score=0.805400, total= 1.2min\n"
     ]
    },
    {
     "name": "stderr",
     "output_type": "stream",
     "text": [
      "[Parallel(n_jobs=-1)]: Done  10 out of  15 | elapsed:  2.9min remaining:  1.4min\n"
     ]
    },
    {
     "name": "stdout",
     "output_type": "stream",
     "text": [
      "[CV] n_estimators=30 .................................................\n",
      "[CV] .................. n_estimators=30, score=0.805300, total= 1.7min\n",
      "[CV] n_estimators=30 .................................................\n",
      "[CV] .................. n_estimators=30, score=0.810700, total= 1.8min\n"
     ]
    },
    {
     "name": "stderr",
     "output_type": "stream",
     "text": [
      "[Parallel(n_jobs=-1)]: Done  12 out of  15 | elapsed:  3.4min remaining:   51.5s\n"
     ]
    },
    {
     "name": "stdout",
     "output_type": "stream",
     "text": [
      "[CV] .................. n_estimators=30, score=0.811100, total= 1.6min\n",
      "[CV] .................. n_estimators=30, score=0.808000, total= 1.3min\n",
      "[CV] .................. n_estimators=30, score=0.810000, total= 1.1min\n"
     ]
    },
    {
     "name": "stderr",
     "output_type": "stream",
     "text": [
      "[Parallel(n_jobs=-1)]: Done  15 out of  15 | elapsed:  4.6min finished\n"
     ]
    },
    {
     "name": "stdout",
     "output_type": "stream",
     "text": [
      "RandomForestClassifier(bootstrap=True, class_weight=None, criterion='gini',\n",
      "            max_depth=None, max_features='auto', max_leaf_nodes=None,\n",
      "            min_impurity_split=1e-07, min_samples_leaf=1,\n",
      "            min_samples_split=2, min_weight_fraction_leaf=0.0,\n",
      "            n_estimators=10, n_jobs=1, oob_score=False, random_state=None,\n",
      "            verbose=0, warm_start=False)\n",
      "Best accuracy score is  0.80902\n",
      "Best parameter is  {'n_estimators': 30}\n"
     ]
    }
   ],
   "source": [
    "rf_params = {\n",
    "    'n_estimators': [10, 20, 30]\n",
    "}\n",
    "grid_rf = RandomForestClassifier()\n",
    "grid_rf = param_search(grid_rf, rf_params)"
   ]
  },
  {
   "cell_type": "code",
   "execution_count": 11,
   "metadata": {
    "collapsed": false
   },
   "outputs": [
    {
     "name": "stdout",
     "output_type": "stream",
     "text": [
      "Fitting 5 folds for each of 3 candidates, totalling 15 fits\n",
      "[CV] n_estimators=250 ................................................\n",
      "[CV] n_estimators=250 ................................................\n",
      "[CV] n_estimators=250 ................................................\n",
      "[CV] n_estimators=250 ................................................\n",
      "[CV] ................. n_estimators=250, score=0.825900, total= 6.1min\n",
      "[CV] n_estimators=250 ................................................\n",
      "[CV] ................. n_estimators=250, score=0.826000, total= 6.1min\n",
      "[CV] n_estimators=150 ................................................\n",
      "[CV] ................. n_estimators=250, score=0.823900, total= 6.2min\n",
      "[CV] n_estimators=150 ................................................\n",
      "[CV] ................. n_estimators=250, score=0.821000, total= 6.2min\n",
      "[CV] n_estimators=150 ................................................\n",
      "[CV] ................. n_estimators=150, score=0.822000, total= 3.7min\n",
      "[CV] n_estimators=150 ................................................\n"
     ]
    },
    {
     "name": "stderr",
     "output_type": "stream",
     "text": [
      "[Parallel(n_jobs=-1)]: Done   5 tasks      | elapsed: 10.0min\n"
     ]
    },
    {
     "name": "stdout",
     "output_type": "stream",
     "text": [
      "[CV] ................. n_estimators=150, score=0.824200, total= 3.7min\n",
      "[CV] n_estimators=150 ................................................\n",
      "[CV] ................. n_estimators=150, score=0.826300, total= 3.8min\n",
      "[CV] n_estimators=350 ................................................\n",
      "[CV] ................. n_estimators=250, score=0.831400, total= 6.5min\n",
      "[CV] n_estimators=350 ................................................\n",
      "[CV] ................. n_estimators=150, score=0.825100, total= 4.3min\n",
      "[CV] n_estimators=350 ................................................\n",
      "[CV] ................. n_estimators=150, score=0.826200, total= 4.3min\n",
      "[CV] n_estimators=350 ................................................\n"
     ]
    },
    {
     "name": "stderr",
     "output_type": "stream",
     "text": [
      "[Parallel(n_jobs=-1)]: Done  10 out of  15 | elapsed: 14.4min remaining:  7.2min\n"
     ]
    },
    {
     "name": "stdout",
     "output_type": "stream",
     "text": [
      "[CV] ................. n_estimators=350, score=0.824600, total=10.3min\n",
      "[CV] n_estimators=350 ................................................\n",
      "[CV] ................. n_estimators=350, score=0.826700, total= 9.7min\n"
     ]
    },
    {
     "name": "stderr",
     "output_type": "stream",
     "text": [
      "[Parallel(n_jobs=-1)]: Done  12 out of  15 | elapsed: 22.6min remaining:  5.7min\n"
     ]
    },
    {
     "name": "stdout",
     "output_type": "stream",
     "text": [
      "[CV] ................. n_estimators=350, score=0.825900, total= 9.1min\n",
      "[CV] ................. n_estimators=350, score=0.826300, total= 9.1min\n",
      "[CV] ................. n_estimators=350, score=0.828100, total= 5.7min\n"
     ]
    },
    {
     "name": "stderr",
     "output_type": "stream",
     "text": [
      "[Parallel(n_jobs=-1)]: Done  15 out of  15 | elapsed: 26.2min finished\n"
     ]
    },
    {
     "name": "stdout",
     "output_type": "stream",
     "text": [
      "RandomForestClassifier(bootstrap=True, class_weight=None, criterion='gini',\n",
      "            max_depth=None, max_features='auto', max_leaf_nodes=None,\n",
      "            min_impurity_split=1e-07, min_samples_leaf=1,\n",
      "            min_samples_split=2, min_weight_fraction_leaf=0.0,\n",
      "            n_estimators=10, n_jobs=1, oob_score=False, random_state=None,\n",
      "            verbose=0, warm_start=False)\n",
      "Best accuracy score is  0.82632\n",
      "Best parameter is  {'n_estimators': 350}\n"
     ]
    }
   ],
   "source": [
    "rf_params = {\n",
    "    'n_estimators': [250, 150, 350]\n",
    "}\n",
    "grid_rf = RandomForestClassifier()\n",
    "grid_rf = param_search(grid_rf, rf_params)"
   ]
  },
  {
   "cell_type": "code",
   "execution_count": 9,
   "metadata": {
    "collapsed": false
   },
   "outputs": [
    {
     "name": "stdout",
     "output_type": "stream",
     "text": [
      "Fitting 5 folds for each of 3 candidates, totalling 15 fits\n",
      "[CV] C=100 ...........................................................\n",
      "[CV] C=100 ...........................................................\n",
      "[CV] C=100 ...........................................................\n",
      "[CV] C=100 ...........................................................\n",
      "[CV] ............................ C=100, score=0.795300, total= 1.1min\n",
      "[CV] C=100 ...........................................................\n",
      "[CV] ............................ C=100, score=0.797900, total= 1.1min\n",
      "[CV] C=10 ............................................................\n",
      "[CV] ............................ C=100, score=0.799100, total= 1.1min\n",
      "[CV] C=10 ............................................................\n",
      "[CV] ............................ C=100, score=0.799300, total= 1.2min\n",
      "[CV] C=10 ............................................................\n",
      "[CV] ............................. C=10, score=0.798100, total= 1.1min\n",
      "[CV] C=10 ............................................................\n"
     ]
    },
    {
     "name": "stderr",
     "output_type": "stream",
     "text": [
      "[Parallel(n_jobs=-1)]: Done   5 tasks      | elapsed:  2.2min\n"
     ]
    },
    {
     "name": "stdout",
     "output_type": "stream",
     "text": [
      "[CV] ............................. C=10, score=0.799100, total= 1.0min\n",
      "[CV] C=10 ............................................................\n",
      "[CV] ............................ C=100, score=0.804800, total= 1.2min\n",
      "[CV] C=500 ...........................................................\n",
      "[CV] ............................. C=10, score=0.795800, total= 1.2min\n",
      "[CV] C=500 ...........................................................\n",
      "[CV] ............................. C=10, score=0.804800, total= 1.0min\n",
      "[CV] C=500 ...........................................................\n",
      "[CV] ............................. C=10, score=0.799300, total= 1.2min\n",
      "[CV] C=500 ...........................................................\n"
     ]
    },
    {
     "name": "stderr",
     "output_type": "stream",
     "text": [
      "[Parallel(n_jobs=-1)]: Done  10 out of  15 | elapsed:  3.4min remaining:  1.7min\n"
     ]
    },
    {
     "name": "stdout",
     "output_type": "stream",
     "text": [
      "[CV] ............................ C=500, score=0.795500, total= 1.2min\n",
      "[CV] C=500 ...........................................................\n",
      "[CV] ............................ C=500, score=0.798000, total= 1.3min\n"
     ]
    },
    {
     "name": "stderr",
     "output_type": "stream",
     "text": [
      "[Parallel(n_jobs=-1)]: Done  12 out of  15 | elapsed:  3.7min remaining:   55.0s\n"
     ]
    },
    {
     "name": "stdout",
     "output_type": "stream",
     "text": [
      "[CV] ............................ C=500, score=0.799200, total=  58.3s\n",
      "[CV] ............................ C=500, score=0.799100, total=  55.3s\n",
      "[CV] ............................ C=500, score=0.804800, total=  49.7s\n"
     ]
    },
    {
     "name": "stderr",
     "output_type": "stream",
     "text": [
      "[Parallel(n_jobs=-1)]: Done  15 out of  15 | elapsed:  4.4min finished\n"
     ]
    },
    {
     "name": "stdout",
     "output_type": "stream",
     "text": [
      "LogisticRegression(C=1.0, class_weight=None, dual=False, fit_intercept=True,\n",
      "          intercept_scaling=1, max_iter=100, multi_class='ovr', n_jobs=1,\n",
      "          penalty='l2', random_state=None, solver='liblinear', tol=0.0001,\n",
      "          verbose=0, warm_start=False)\n",
      "Best accuracy score is  0.79942\n",
      "Best parameter is  {'C': 10}\n"
     ]
    }
   ],
   "source": [
    "lr_params = {\n",
    "    'C': [100,10,500]\n",
    "}\n",
    "grid_lr = LogisticRegression()\n",
    "grid_lr = param_search(grid_lr, lr_params)"
   ]
  },
  {
   "cell_type": "markdown",
   "metadata": {},
   "source": [
    "ensemble = Ensemble(5,xgb,base_models)\n",
    "ensemble.fit_predict(X_train,y_train,test)"
   ]
  },
  {
   "cell_type": "markdown",
   "metadata": {},
   "source": [
    "### Voting classifier (a simple ensemble learning)"
   ]
  },
  {
   "cell_type": "code",
   "execution_count": 19,
   "metadata": {
    "collapsed": true
   },
   "outputs": [],
   "source": [
    "#after grid search, I choose the optimal parameter\n",
    "lr = LogisticRegression(C = 10)\n",
    "rf = RandomForestClassifier(n_estimators = 350)\n",
    "mlp = MLPClassifier(hidden_layer_sizes = 350, alpha = 0.001)"
   ]
  },
  {
   "cell_type": "code",
   "execution_count": 23,
   "metadata": {
    "collapsed": true
   },
   "outputs": [],
   "source": [
    "vc_hard = VotingClassifier(estimators=[('lr', lr), ('rf', rf), ('mlp', mlp), ('xgb', xgb)], voting='soft')\n",
    "vc_hard = vc_hard.fit(X_train, y_train)"
   ]
  },
  {
   "cell_type": "code",
   "execution_count": 24,
   "metadata": {
    "collapsed": true
   },
   "outputs": [],
   "source": [
    "#test_predictions = xgb.predict(test)\n",
    "test_predictions = vc_hard.predict(test)"
   ]
  },
  {
   "cell_type": "markdown",
   "metadata": {},
   "source": [
    "### A good improvement but need to work further..\n",
    "Soft voting classifier: 0.78058,\n",
    "Hard voting classifier: 0.77710,\n",
    "I decide to continue grid search for better parameters:)"
   ]
  },
  {
   "cell_type": "code",
   "execution_count": null,
   "metadata": {
    "collapsed": false
   },
   "outputs": [
    {
     "name": "stdout",
     "output_type": "stream",
     "text": [
      "Fitting 5 folds for each of 3 candidates, totalling 15 fits\n",
      "[CV] C=5 .............................................................\n",
      "[CV] C=5 .............................................................\n",
      "[CV] C=5 .............................................................\n",
      "[CV] C=5 .............................................................\n",
      "[CV] .............................. C=5, score=0.795300, total=  39.7s\n",
      "[CV] C=5 .............................................................\n",
      "[CV] .............................. C=5, score=0.799200, total=  39.8s\n",
      "[CV] .............................. C=5, score=0.799200, total=  39.2s\n",
      "[CV] C=10 ............................................................\n",
      "[CV] C=10 ............................................................\n",
      "[CV] .............................. C=5, score=0.797500, total=  45.3s\n",
      "[CV] C=10 ............................................................\n",
      "[CV] .............................. C=5, score=0.805300, total=  32.1s\n",
      "[CV] C=10 ............................................................\n"
     ]
    },
    {
     "name": "stderr",
     "output_type": "stream",
     "text": [
      "[Parallel(n_jobs=-1)]: Done   5 tasks      | elapsed:  1.2min\n"
     ]
    },
    {
     "name": "stdout",
     "output_type": "stream",
     "text": [
      "[CV] ............................. C=10, score=0.798100, total=  32.2s\n",
      "[CV] C=10 ............................................................\n",
      "[CV] ............................. C=10, score=0.799100, total=  30.6s\n",
      "[CV] C=100 ...........................................................\n",
      "[CV] ............................. C=10, score=0.795800, total=  36.7s\n",
      "[CV] C=100 ...........................................................\n",
      "[CV] ............................. C=10, score=0.804800, total=  28.8s\n",
      "[CV] C=100 ...........................................................\n",
      "[CV] ............................. C=10, score=0.799300, total=  31.9s\n",
      "[CV] C=100 ...........................................................\n"
     ]
    },
    {
     "name": "stderr",
     "output_type": "stream",
     "text": [
      "[Parallel(n_jobs=-1)]: Done  10 out of  15 | elapsed:  1.7min remaining:   52.3s\n"
     ]
    },
    {
     "name": "stdout",
     "output_type": "stream",
     "text": [
      "[CV] ............................ C=100, score=0.795300, total=  28.3s\n",
      "[CV] C=100 ...........................................................\n",
      "[CV] ............................ C=100, score=0.797900, total=  28.6s\n"
     ]
    },
    {
     "name": "stderr",
     "output_type": "stream",
     "text": [
      "[Parallel(n_jobs=-1)]: Done  12 out of  15 | elapsed:  1.8min remaining:   26.6s\n"
     ]
    },
    {
     "name": "stdout",
     "output_type": "stream",
     "text": [
      "[CV] ............................ C=100, score=0.799300, total=  20.3s\n",
      "[CV] ............................ C=100, score=0.799100, total=  18.6s\n",
      "[CV] ............................ C=100, score=0.804800, total=  19.8s\n"
     ]
    },
    {
     "name": "stderr",
     "output_type": "stream",
     "text": [
      "[Parallel(n_jobs=-1)]: Done  15 out of  15 | elapsed:  2.1min finished\n"
     ]
    },
    {
     "name": "stdout",
     "output_type": "stream",
     "text": [
      "LogisticRegression(C=1.0, class_weight=None, dual=False, fit_intercept=True,\n",
      "          intercept_scaling=1, max_iter=100, multi_class='ovr', n_jobs=1,\n",
      "          penalty='l2', random_state=None, solver='liblinear', tol=0.0001,\n",
      "          verbose=0, warm_start=False)\n",
      "Best accuracy score is  0.79942\n",
      "Best parameter is  {'C': 10}\n"
     ]
    }
   ],
   "source": [
    "lr_params = {\n",
    "    'C': [5, 10, 100]\n",
    "}\n",
    "grid_lr = LogisticRegression()\n",
    "grid_lr = param_search(grid_lr, lr_params)"
   ]
  },
  {
   "cell_type": "code",
   "execution_count": 10,
   "metadata": {
    "collapsed": false
   },
   "outputs": [
    {
     "name": "stdout",
     "output_type": "stream",
     "text": [
      "Fitting 5 folds for each of 2 candidates, totalling 10 fits\n",
      "[CV] n_estimators=450 ................................................\n",
      "[CV] n_estimators=450 ................................................\n",
      "[CV] n_estimators=450 ................................................\n",
      "[CV] n_estimators=450 ................................................\n",
      "[CV] ................. n_estimators=450, score=0.825900, total=95.3min\n",
      "[CV] n_estimators=450 ................................................\n",
      "[CV] ................. n_estimators=450, score=0.826100, total=95.4min\n",
      "[CV] ................. n_estimators=450, score=0.825300, total=95.4min\n",
      "[CV] n_estimators=550 ................................................\n",
      "[CV] n_estimators=550 ................................................\n",
      "[CV] ................. n_estimators=450, score=0.825400, total=95.4min\n",
      "[CV] n_estimators=550 ................................................\n",
      "[CV] ................. n_estimators=450, score=0.831000, total= 9.6min\n",
      "[CV] n_estimators=550 ................................................\n"
     ]
    },
    {
     "name": "stderr",
     "output_type": "stream",
     "text": [
      "[Parallel(n_jobs=-1)]: Done   5 out of  10 | elapsed: 105.2min remaining: 105.2min\n"
     ]
    },
    {
     "name": "stdout",
     "output_type": "stream",
     "text": [
      "[CV] ................. n_estimators=550, score=0.826400, total=11.6min\n",
      "[CV] n_estimators=550 ................................................\n",
      "[CV] ................. n_estimators=550, score=0.824100, total=11.6min\n"
     ]
    },
    {
     "name": "stderr",
     "output_type": "stream",
     "text": [
      "[Parallel(n_jobs=-1)]: Done   7 out of  10 | elapsed: 107.3min remaining: 46.0min\n"
     ]
    },
    {
     "name": "stdout",
     "output_type": "stream",
     "text": [
      "[CV] ................. n_estimators=550, score=0.826200, total=11.7min\n",
      "[CV] ................. n_estimators=550, score=0.828400, total= 8.3min\n",
      "[CV] ................. n_estimators=550, score=0.830700, total= 7.6min\n"
     ]
    },
    {
     "name": "stderr",
     "output_type": "stream",
     "text": [
      "[Parallel(n_jobs=-1)]: Done  10 out of  10 | elapsed: 115.0min finished\n"
     ]
    },
    {
     "ename": "KeyboardInterrupt",
     "evalue": "",
     "output_type": "error",
     "traceback": [
      "\u001b[0;31m---------------------------------------------------------------------------\u001b[0m",
      "\u001b[0;31mKeyboardInterrupt\u001b[0m                         Traceback (most recent call last)",
      "\u001b[0;32m<ipython-input-10-44b6b446d005>\u001b[0m in \u001b[0;36m<module>\u001b[0;34m()\u001b[0m\n\u001b[1;32m      3\u001b[0m }\n\u001b[1;32m      4\u001b[0m \u001b[0mgrid_rf\u001b[0m \u001b[0;34m=\u001b[0m \u001b[0mRandomForestClassifier\u001b[0m\u001b[0;34m(\u001b[0m\u001b[0;34m)\u001b[0m\u001b[0;34m\u001b[0m\u001b[0m\n\u001b[0;32m----> 5\u001b[0;31m \u001b[0mgrid_rf\u001b[0m \u001b[0;34m=\u001b[0m \u001b[0mparam_search\u001b[0m\u001b[0;34m(\u001b[0m\u001b[0mgrid_rf\u001b[0m\u001b[0;34m,\u001b[0m \u001b[0mrf_params\u001b[0m\u001b[0;34m)\u001b[0m\u001b[0;34m\u001b[0m\u001b[0m\n\u001b[0m",
      "\u001b[0;32m<ipython-input-9-b6f5fff705e7>\u001b[0m in \u001b[0;36mparam_search\u001b[0;34m(model, param)\u001b[0m\n\u001b[1;32m      1\u001b[0m \u001b[0;32mdef\u001b[0m \u001b[0mparam_search\u001b[0m\u001b[0;34m(\u001b[0m\u001b[0mmodel\u001b[0m\u001b[0;34m,\u001b[0m \u001b[0mparam\u001b[0m\u001b[0;34m)\u001b[0m\u001b[0;34m:\u001b[0m\u001b[0;34m\u001b[0m\u001b[0m\n\u001b[1;32m      2\u001b[0m     \u001b[0mgrid\u001b[0m \u001b[0;34m=\u001b[0m \u001b[0mGridSearchCV\u001b[0m\u001b[0;34m(\u001b[0m\u001b[0mmodel\u001b[0m\u001b[0;34m,\u001b[0m \u001b[0mparam\u001b[0m\u001b[0;34m,\u001b[0m \u001b[0mcv\u001b[0m\u001b[0;34m=\u001b[0m\u001b[0;36m5\u001b[0m\u001b[0;34m,\u001b[0m \u001b[0mverbose\u001b[0m\u001b[0;34m=\u001b[0m\u001b[0;36m10\u001b[0m\u001b[0;34m,\u001b[0m \u001b[0mn_jobs\u001b[0m\u001b[0;34m=\u001b[0m\u001b[0;34m-\u001b[0m\u001b[0;36m1\u001b[0m\u001b[0;34m)\u001b[0m\u001b[0;34m\u001b[0m\u001b[0m\n\u001b[0;32m----> 3\u001b[0;31m     \u001b[0mgrid\u001b[0m\u001b[0;34m.\u001b[0m\u001b[0mfit\u001b[0m\u001b[0;34m(\u001b[0m\u001b[0mX_train\u001b[0m\u001b[0;34m,\u001b[0m \u001b[0my_train\u001b[0m\u001b[0;34m)\u001b[0m\u001b[0;34m\u001b[0m\u001b[0m\n\u001b[0m\u001b[1;32m      4\u001b[0m     \u001b[0mprint\u001b[0m \u001b[0;34m(\u001b[0m\u001b[0mmodel\u001b[0m\u001b[0;34m)\u001b[0m\u001b[0;34m\u001b[0m\u001b[0m\n\u001b[1;32m      5\u001b[0m     \u001b[0mprint\u001b[0m \u001b[0;34m(\u001b[0m\u001b[0;34m'Best accuracy score is '\u001b[0m\u001b[0;34m,\u001b[0m \u001b[0mgrid\u001b[0m\u001b[0;34m.\u001b[0m\u001b[0mbest_score_\u001b[0m\u001b[0;34m)\u001b[0m\u001b[0;34m\u001b[0m\u001b[0m\n",
      "\u001b[0;32m/Users/yichen/anaconda/lib/python3.6/site-packages/sklearn/model_selection/_search.py\u001b[0m in \u001b[0;36mfit\u001b[0;34m(self, X, y, groups)\u001b[0m\n\u001b[1;32m    943\u001b[0m             \u001b[0mtrain\u001b[0m\u001b[0;34m/\u001b[0m\u001b[0mtest\u001b[0m \u001b[0mset\u001b[0m\u001b[0;34m.\u001b[0m\u001b[0;34m\u001b[0m\u001b[0m\n\u001b[1;32m    944\u001b[0m         \"\"\"\n\u001b[0;32m--> 945\u001b[0;31m         \u001b[0;32mreturn\u001b[0m \u001b[0mself\u001b[0m\u001b[0;34m.\u001b[0m\u001b[0m_fit\u001b[0m\u001b[0;34m(\u001b[0m\u001b[0mX\u001b[0m\u001b[0;34m,\u001b[0m \u001b[0my\u001b[0m\u001b[0;34m,\u001b[0m \u001b[0mgroups\u001b[0m\u001b[0;34m,\u001b[0m \u001b[0mParameterGrid\u001b[0m\u001b[0;34m(\u001b[0m\u001b[0mself\u001b[0m\u001b[0;34m.\u001b[0m\u001b[0mparam_grid\u001b[0m\u001b[0;34m)\u001b[0m\u001b[0;34m)\u001b[0m\u001b[0;34m\u001b[0m\u001b[0m\n\u001b[0m\u001b[1;32m    946\u001b[0m \u001b[0;34m\u001b[0m\u001b[0m\n\u001b[1;32m    947\u001b[0m \u001b[0;34m\u001b[0m\u001b[0m\n",
      "\u001b[0;32m/Users/yichen/anaconda/lib/python3.6/site-packages/sklearn/model_selection/_search.py\u001b[0m in \u001b[0;36m_fit\u001b[0;34m(self, X, y, groups, parameter_iterable)\u001b[0m\n\u001b[1;32m    643\u001b[0m                 **best_parameters)\n\u001b[1;32m    644\u001b[0m             \u001b[0;32mif\u001b[0m \u001b[0my\u001b[0m \u001b[0;32mis\u001b[0m \u001b[0;32mnot\u001b[0m \u001b[0;32mNone\u001b[0m\u001b[0;34m:\u001b[0m\u001b[0;34m\u001b[0m\u001b[0m\n\u001b[0;32m--> 645\u001b[0;31m                 \u001b[0mbest_estimator\u001b[0m\u001b[0;34m.\u001b[0m\u001b[0mfit\u001b[0m\u001b[0;34m(\u001b[0m\u001b[0mX\u001b[0m\u001b[0;34m,\u001b[0m \u001b[0my\u001b[0m\u001b[0;34m,\u001b[0m \u001b[0;34m**\u001b[0m\u001b[0mself\u001b[0m\u001b[0;34m.\u001b[0m\u001b[0mfit_params\u001b[0m\u001b[0;34m)\u001b[0m\u001b[0;34m\u001b[0m\u001b[0m\n\u001b[0m\u001b[1;32m    646\u001b[0m             \u001b[0;32melse\u001b[0m\u001b[0;34m:\u001b[0m\u001b[0;34m\u001b[0m\u001b[0m\n\u001b[1;32m    647\u001b[0m                 \u001b[0mbest_estimator\u001b[0m\u001b[0;34m.\u001b[0m\u001b[0mfit\u001b[0m\u001b[0;34m(\u001b[0m\u001b[0mX\u001b[0m\u001b[0;34m,\u001b[0m \u001b[0;34m**\u001b[0m\u001b[0mself\u001b[0m\u001b[0;34m.\u001b[0m\u001b[0mfit_params\u001b[0m\u001b[0;34m)\u001b[0m\u001b[0;34m\u001b[0m\u001b[0m\n",
      "\u001b[0;32m/Users/yichen/anaconda/lib/python3.6/site-packages/sklearn/ensemble/forest.py\u001b[0m in \u001b[0;36mfit\u001b[0;34m(self, X, y, sample_weight)\u001b[0m\n\u001b[1;32m    324\u001b[0m                     \u001b[0mt\u001b[0m\u001b[0;34m,\u001b[0m \u001b[0mself\u001b[0m\u001b[0;34m,\u001b[0m \u001b[0mX\u001b[0m\u001b[0;34m,\u001b[0m \u001b[0my\u001b[0m\u001b[0;34m,\u001b[0m \u001b[0msample_weight\u001b[0m\u001b[0;34m,\u001b[0m \u001b[0mi\u001b[0m\u001b[0;34m,\u001b[0m \u001b[0mlen\u001b[0m\u001b[0;34m(\u001b[0m\u001b[0mtrees\u001b[0m\u001b[0;34m)\u001b[0m\u001b[0;34m,\u001b[0m\u001b[0;34m\u001b[0m\u001b[0m\n\u001b[1;32m    325\u001b[0m                     verbose=self.verbose, class_weight=self.class_weight)\n\u001b[0;32m--> 326\u001b[0;31m                 for i, t in enumerate(trees))\n\u001b[0m\u001b[1;32m    327\u001b[0m \u001b[0;34m\u001b[0m\u001b[0m\n\u001b[1;32m    328\u001b[0m             \u001b[0;31m# Collect newly grown trees\u001b[0m\u001b[0;34m\u001b[0m\u001b[0;34m\u001b[0m\u001b[0m\n",
      "\u001b[0;32m/Users/yichen/anaconda/lib/python3.6/site-packages/sklearn/externals/joblib/parallel.py\u001b[0m in \u001b[0;36m__call__\u001b[0;34m(self, iterable)\u001b[0m\n\u001b[1;32m    756\u001b[0m             \u001b[0;31m# was dispatched. In particular this covers the edge\u001b[0m\u001b[0;34m\u001b[0m\u001b[0;34m\u001b[0m\u001b[0m\n\u001b[1;32m    757\u001b[0m             \u001b[0;31m# case of Parallel used with an exhausted iterator.\u001b[0m\u001b[0;34m\u001b[0m\u001b[0;34m\u001b[0m\u001b[0m\n\u001b[0;32m--> 758\u001b[0;31m             \u001b[0;32mwhile\u001b[0m \u001b[0mself\u001b[0m\u001b[0;34m.\u001b[0m\u001b[0mdispatch_one_batch\u001b[0m\u001b[0;34m(\u001b[0m\u001b[0miterator\u001b[0m\u001b[0;34m)\u001b[0m\u001b[0;34m:\u001b[0m\u001b[0;34m\u001b[0m\u001b[0m\n\u001b[0m\u001b[1;32m    759\u001b[0m                 \u001b[0mself\u001b[0m\u001b[0;34m.\u001b[0m\u001b[0m_iterating\u001b[0m \u001b[0;34m=\u001b[0m \u001b[0;32mTrue\u001b[0m\u001b[0;34m\u001b[0m\u001b[0m\n\u001b[1;32m    760\u001b[0m             \u001b[0;32melse\u001b[0m\u001b[0;34m:\u001b[0m\u001b[0;34m\u001b[0m\u001b[0m\n",
      "\u001b[0;32m/Users/yichen/anaconda/lib/python3.6/site-packages/sklearn/externals/joblib/parallel.py\u001b[0m in \u001b[0;36mdispatch_one_batch\u001b[0;34m(self, iterator)\u001b[0m\n\u001b[1;32m    606\u001b[0m                 \u001b[0;32mreturn\u001b[0m \u001b[0;32mFalse\u001b[0m\u001b[0;34m\u001b[0m\u001b[0m\n\u001b[1;32m    607\u001b[0m             \u001b[0;32melse\u001b[0m\u001b[0;34m:\u001b[0m\u001b[0;34m\u001b[0m\u001b[0m\n\u001b[0;32m--> 608\u001b[0;31m                 \u001b[0mself\u001b[0m\u001b[0;34m.\u001b[0m\u001b[0m_dispatch\u001b[0m\u001b[0;34m(\u001b[0m\u001b[0mtasks\u001b[0m\u001b[0;34m)\u001b[0m\u001b[0;34m\u001b[0m\u001b[0m\n\u001b[0m\u001b[1;32m    609\u001b[0m                 \u001b[0;32mreturn\u001b[0m \u001b[0;32mTrue\u001b[0m\u001b[0;34m\u001b[0m\u001b[0m\n\u001b[1;32m    610\u001b[0m \u001b[0;34m\u001b[0m\u001b[0m\n",
      "\u001b[0;32m/Users/yichen/anaconda/lib/python3.6/site-packages/sklearn/externals/joblib/parallel.py\u001b[0m in \u001b[0;36m_dispatch\u001b[0;34m(self, batch)\u001b[0m\n\u001b[1;32m    569\u001b[0m         \u001b[0mdispatch_timestamp\u001b[0m \u001b[0;34m=\u001b[0m \u001b[0mtime\u001b[0m\u001b[0;34m.\u001b[0m\u001b[0mtime\u001b[0m\u001b[0;34m(\u001b[0m\u001b[0;34m)\u001b[0m\u001b[0;34m\u001b[0m\u001b[0m\n\u001b[1;32m    570\u001b[0m         \u001b[0mcb\u001b[0m \u001b[0;34m=\u001b[0m \u001b[0mBatchCompletionCallBack\u001b[0m\u001b[0;34m(\u001b[0m\u001b[0mdispatch_timestamp\u001b[0m\u001b[0;34m,\u001b[0m \u001b[0mlen\u001b[0m\u001b[0;34m(\u001b[0m\u001b[0mbatch\u001b[0m\u001b[0;34m)\u001b[0m\u001b[0;34m,\u001b[0m \u001b[0mself\u001b[0m\u001b[0;34m)\u001b[0m\u001b[0;34m\u001b[0m\u001b[0m\n\u001b[0;32m--> 571\u001b[0;31m         \u001b[0mjob\u001b[0m \u001b[0;34m=\u001b[0m \u001b[0mself\u001b[0m\u001b[0;34m.\u001b[0m\u001b[0m_backend\u001b[0m\u001b[0;34m.\u001b[0m\u001b[0mapply_async\u001b[0m\u001b[0;34m(\u001b[0m\u001b[0mbatch\u001b[0m\u001b[0;34m,\u001b[0m \u001b[0mcallback\u001b[0m\u001b[0;34m=\u001b[0m\u001b[0mcb\u001b[0m\u001b[0;34m)\u001b[0m\u001b[0;34m\u001b[0m\u001b[0m\n\u001b[0m\u001b[1;32m    572\u001b[0m         \u001b[0mself\u001b[0m\u001b[0;34m.\u001b[0m\u001b[0m_jobs\u001b[0m\u001b[0;34m.\u001b[0m\u001b[0mappend\u001b[0m\u001b[0;34m(\u001b[0m\u001b[0mjob\u001b[0m\u001b[0;34m)\u001b[0m\u001b[0;34m\u001b[0m\u001b[0m\n\u001b[1;32m    573\u001b[0m \u001b[0;34m\u001b[0m\u001b[0m\n",
      "\u001b[0;32m/Users/yichen/anaconda/lib/python3.6/site-packages/sklearn/externals/joblib/_parallel_backends.py\u001b[0m in \u001b[0;36mapply_async\u001b[0;34m(self, func, callback)\u001b[0m\n\u001b[1;32m    107\u001b[0m     \u001b[0;32mdef\u001b[0m \u001b[0mapply_async\u001b[0m\u001b[0;34m(\u001b[0m\u001b[0mself\u001b[0m\u001b[0;34m,\u001b[0m \u001b[0mfunc\u001b[0m\u001b[0;34m,\u001b[0m \u001b[0mcallback\u001b[0m\u001b[0;34m=\u001b[0m\u001b[0;32mNone\u001b[0m\u001b[0;34m)\u001b[0m\u001b[0;34m:\u001b[0m\u001b[0;34m\u001b[0m\u001b[0m\n\u001b[1;32m    108\u001b[0m         \u001b[0;34m\"\"\"Schedule a func to be run\"\"\"\u001b[0m\u001b[0;34m\u001b[0m\u001b[0m\n\u001b[0;32m--> 109\u001b[0;31m         \u001b[0mresult\u001b[0m \u001b[0;34m=\u001b[0m \u001b[0mImmediateResult\u001b[0m\u001b[0;34m(\u001b[0m\u001b[0mfunc\u001b[0m\u001b[0;34m)\u001b[0m\u001b[0;34m\u001b[0m\u001b[0m\n\u001b[0m\u001b[1;32m    110\u001b[0m         \u001b[0;32mif\u001b[0m \u001b[0mcallback\u001b[0m\u001b[0;34m:\u001b[0m\u001b[0;34m\u001b[0m\u001b[0m\n\u001b[1;32m    111\u001b[0m             \u001b[0mcallback\u001b[0m\u001b[0;34m(\u001b[0m\u001b[0mresult\u001b[0m\u001b[0;34m)\u001b[0m\u001b[0;34m\u001b[0m\u001b[0m\n",
      "\u001b[0;32m/Users/yichen/anaconda/lib/python3.6/site-packages/sklearn/externals/joblib/_parallel_backends.py\u001b[0m in \u001b[0;36m__init__\u001b[0;34m(self, batch)\u001b[0m\n\u001b[1;32m    324\u001b[0m         \u001b[0;31m# Don't delay the application, to avoid keeping the input\u001b[0m\u001b[0;34m\u001b[0m\u001b[0;34m\u001b[0m\u001b[0m\n\u001b[1;32m    325\u001b[0m         \u001b[0;31m# arguments in memory\u001b[0m\u001b[0;34m\u001b[0m\u001b[0;34m\u001b[0m\u001b[0m\n\u001b[0;32m--> 326\u001b[0;31m         \u001b[0mself\u001b[0m\u001b[0;34m.\u001b[0m\u001b[0mresults\u001b[0m \u001b[0;34m=\u001b[0m \u001b[0mbatch\u001b[0m\u001b[0;34m(\u001b[0m\u001b[0;34m)\u001b[0m\u001b[0;34m\u001b[0m\u001b[0m\n\u001b[0m\u001b[1;32m    327\u001b[0m \u001b[0;34m\u001b[0m\u001b[0m\n\u001b[1;32m    328\u001b[0m     \u001b[0;32mdef\u001b[0m \u001b[0mget\u001b[0m\u001b[0;34m(\u001b[0m\u001b[0mself\u001b[0m\u001b[0;34m)\u001b[0m\u001b[0;34m:\u001b[0m\u001b[0;34m\u001b[0m\u001b[0m\n",
      "\u001b[0;32m/Users/yichen/anaconda/lib/python3.6/site-packages/sklearn/externals/joblib/parallel.py\u001b[0m in \u001b[0;36m__call__\u001b[0;34m(self)\u001b[0m\n\u001b[1;32m    129\u001b[0m \u001b[0;34m\u001b[0m\u001b[0m\n\u001b[1;32m    130\u001b[0m     \u001b[0;32mdef\u001b[0m \u001b[0m__call__\u001b[0m\u001b[0;34m(\u001b[0m\u001b[0mself\u001b[0m\u001b[0;34m)\u001b[0m\u001b[0;34m:\u001b[0m\u001b[0;34m\u001b[0m\u001b[0m\n\u001b[0;32m--> 131\u001b[0;31m         \u001b[0;32mreturn\u001b[0m \u001b[0;34m[\u001b[0m\u001b[0mfunc\u001b[0m\u001b[0;34m(\u001b[0m\u001b[0;34m*\u001b[0m\u001b[0margs\u001b[0m\u001b[0;34m,\u001b[0m \u001b[0;34m**\u001b[0m\u001b[0mkwargs\u001b[0m\u001b[0;34m)\u001b[0m \u001b[0;32mfor\u001b[0m \u001b[0mfunc\u001b[0m\u001b[0;34m,\u001b[0m \u001b[0margs\u001b[0m\u001b[0;34m,\u001b[0m \u001b[0mkwargs\u001b[0m \u001b[0;32min\u001b[0m \u001b[0mself\u001b[0m\u001b[0;34m.\u001b[0m\u001b[0mitems\u001b[0m\u001b[0;34m]\u001b[0m\u001b[0;34m\u001b[0m\u001b[0m\n\u001b[0m\u001b[1;32m    132\u001b[0m \u001b[0;34m\u001b[0m\u001b[0m\n\u001b[1;32m    133\u001b[0m     \u001b[0;32mdef\u001b[0m \u001b[0m__len__\u001b[0m\u001b[0;34m(\u001b[0m\u001b[0mself\u001b[0m\u001b[0;34m)\u001b[0m\u001b[0;34m:\u001b[0m\u001b[0;34m\u001b[0m\u001b[0m\n",
      "\u001b[0;32m/Users/yichen/anaconda/lib/python3.6/site-packages/sklearn/externals/joblib/parallel.py\u001b[0m in \u001b[0;36m<listcomp>\u001b[0;34m(.0)\u001b[0m\n\u001b[1;32m    129\u001b[0m \u001b[0;34m\u001b[0m\u001b[0m\n\u001b[1;32m    130\u001b[0m     \u001b[0;32mdef\u001b[0m \u001b[0m__call__\u001b[0m\u001b[0;34m(\u001b[0m\u001b[0mself\u001b[0m\u001b[0;34m)\u001b[0m\u001b[0;34m:\u001b[0m\u001b[0;34m\u001b[0m\u001b[0m\n\u001b[0;32m--> 131\u001b[0;31m         \u001b[0;32mreturn\u001b[0m \u001b[0;34m[\u001b[0m\u001b[0mfunc\u001b[0m\u001b[0;34m(\u001b[0m\u001b[0;34m*\u001b[0m\u001b[0margs\u001b[0m\u001b[0;34m,\u001b[0m \u001b[0;34m**\u001b[0m\u001b[0mkwargs\u001b[0m\u001b[0;34m)\u001b[0m \u001b[0;32mfor\u001b[0m \u001b[0mfunc\u001b[0m\u001b[0;34m,\u001b[0m \u001b[0margs\u001b[0m\u001b[0;34m,\u001b[0m \u001b[0mkwargs\u001b[0m \u001b[0;32min\u001b[0m \u001b[0mself\u001b[0m\u001b[0;34m.\u001b[0m\u001b[0mitems\u001b[0m\u001b[0;34m]\u001b[0m\u001b[0;34m\u001b[0m\u001b[0m\n\u001b[0m\u001b[1;32m    132\u001b[0m \u001b[0;34m\u001b[0m\u001b[0m\n\u001b[1;32m    133\u001b[0m     \u001b[0;32mdef\u001b[0m \u001b[0m__len__\u001b[0m\u001b[0;34m(\u001b[0m\u001b[0mself\u001b[0m\u001b[0;34m)\u001b[0m\u001b[0;34m:\u001b[0m\u001b[0;34m\u001b[0m\u001b[0m\n",
      "\u001b[0;32m/Users/yichen/anaconda/lib/python3.6/site-packages/sklearn/ensemble/forest.py\u001b[0m in \u001b[0;36m_parallel_build_trees\u001b[0;34m(tree, forest, X, y, sample_weight, tree_idx, n_trees, verbose, class_weight)\u001b[0m\n\u001b[1;32m    118\u001b[0m             \u001b[0mcurr_sample_weight\u001b[0m \u001b[0;34m*=\u001b[0m \u001b[0mcompute_sample_weight\u001b[0m\u001b[0;34m(\u001b[0m\u001b[0;34m'balanced'\u001b[0m\u001b[0;34m,\u001b[0m \u001b[0my\u001b[0m\u001b[0;34m,\u001b[0m \u001b[0mindices\u001b[0m\u001b[0;34m)\u001b[0m\u001b[0;34m\u001b[0m\u001b[0m\n\u001b[1;32m    119\u001b[0m \u001b[0;34m\u001b[0m\u001b[0m\n\u001b[0;32m--> 120\u001b[0;31m         \u001b[0mtree\u001b[0m\u001b[0;34m.\u001b[0m\u001b[0mfit\u001b[0m\u001b[0;34m(\u001b[0m\u001b[0mX\u001b[0m\u001b[0;34m,\u001b[0m \u001b[0my\u001b[0m\u001b[0;34m,\u001b[0m \u001b[0msample_weight\u001b[0m\u001b[0;34m=\u001b[0m\u001b[0mcurr_sample_weight\u001b[0m\u001b[0;34m,\u001b[0m \u001b[0mcheck_input\u001b[0m\u001b[0;34m=\u001b[0m\u001b[0;32mFalse\u001b[0m\u001b[0;34m)\u001b[0m\u001b[0;34m\u001b[0m\u001b[0m\n\u001b[0m\u001b[1;32m    121\u001b[0m     \u001b[0;32melse\u001b[0m\u001b[0;34m:\u001b[0m\u001b[0;34m\u001b[0m\u001b[0m\n\u001b[1;32m    122\u001b[0m         \u001b[0mtree\u001b[0m\u001b[0;34m.\u001b[0m\u001b[0mfit\u001b[0m\u001b[0;34m(\u001b[0m\u001b[0mX\u001b[0m\u001b[0;34m,\u001b[0m \u001b[0my\u001b[0m\u001b[0;34m,\u001b[0m \u001b[0msample_weight\u001b[0m\u001b[0;34m=\u001b[0m\u001b[0msample_weight\u001b[0m\u001b[0;34m,\u001b[0m \u001b[0mcheck_input\u001b[0m\u001b[0;34m=\u001b[0m\u001b[0;32mFalse\u001b[0m\u001b[0;34m)\u001b[0m\u001b[0;34m\u001b[0m\u001b[0m\n",
      "\u001b[0;32m/Users/yichen/anaconda/lib/python3.6/site-packages/sklearn/tree/tree.py\u001b[0m in \u001b[0;36mfit\u001b[0;34m(self, X, y, sample_weight, check_input, X_idx_sorted)\u001b[0m\n\u001b[1;32m    737\u001b[0m             \u001b[0msample_weight\u001b[0m\u001b[0;34m=\u001b[0m\u001b[0msample_weight\u001b[0m\u001b[0;34m,\u001b[0m\u001b[0;34m\u001b[0m\u001b[0m\n\u001b[1;32m    738\u001b[0m             \u001b[0mcheck_input\u001b[0m\u001b[0;34m=\u001b[0m\u001b[0mcheck_input\u001b[0m\u001b[0;34m,\u001b[0m\u001b[0;34m\u001b[0m\u001b[0m\n\u001b[0;32m--> 739\u001b[0;31m             X_idx_sorted=X_idx_sorted)\n\u001b[0m\u001b[1;32m    740\u001b[0m         \u001b[0;32mreturn\u001b[0m \u001b[0mself\u001b[0m\u001b[0;34m\u001b[0m\u001b[0m\n\u001b[1;32m    741\u001b[0m \u001b[0;34m\u001b[0m\u001b[0m\n",
      "\u001b[0;32m/Users/yichen/anaconda/lib/python3.6/site-packages/sklearn/tree/tree.py\u001b[0m in \u001b[0;36mfit\u001b[0;34m(self, X, y, sample_weight, check_input, X_idx_sorted)\u001b[0m\n\u001b[1;32m    348\u001b[0m                                            self.min_impurity_split)\n\u001b[1;32m    349\u001b[0m \u001b[0;34m\u001b[0m\u001b[0m\n\u001b[0;32m--> 350\u001b[0;31m         \u001b[0mbuilder\u001b[0m\u001b[0;34m.\u001b[0m\u001b[0mbuild\u001b[0m\u001b[0;34m(\u001b[0m\u001b[0mself\u001b[0m\u001b[0;34m.\u001b[0m\u001b[0mtree_\u001b[0m\u001b[0;34m,\u001b[0m \u001b[0mX\u001b[0m\u001b[0;34m,\u001b[0m \u001b[0my\u001b[0m\u001b[0;34m,\u001b[0m \u001b[0msample_weight\u001b[0m\u001b[0;34m,\u001b[0m \u001b[0mX_idx_sorted\u001b[0m\u001b[0;34m)\u001b[0m\u001b[0;34m\u001b[0m\u001b[0m\n\u001b[0m\u001b[1;32m    351\u001b[0m \u001b[0;34m\u001b[0m\u001b[0m\n\u001b[1;32m    352\u001b[0m         \u001b[0;32mif\u001b[0m \u001b[0mself\u001b[0m\u001b[0;34m.\u001b[0m\u001b[0mn_outputs_\u001b[0m \u001b[0;34m==\u001b[0m \u001b[0;36m1\u001b[0m\u001b[0;34m:\u001b[0m\u001b[0;34m\u001b[0m\u001b[0m\n",
      "\u001b[0;31mKeyboardInterrupt\u001b[0m: "
     ]
    }
   ],
   "source": [
    "rf_params = {\n",
    "    'n_estimators': [450, 550]\n",
    "}\n",
    "grid_rf = RandomForestClassifier()\n",
    "grid_rf = param_search(grid_rf, rf_params)"
   ]
  },
  {
   "cell_type": "code",
   "execution_count": 18,
   "metadata": {
    "collapsed": false
   },
   "outputs": [
    {
     "name": "stdout",
     "output_type": "stream",
     "text": [
      "Fitting 5 folds for each of 2 candidates, totalling 10 fits\n",
      "[CV] alpha=0.001, hidden_layer_sizes=450 .............................\n",
      "[CV] alpha=0.001, hidden_layer_sizes=450 .............................\n",
      "[CV] alpha=0.001, hidden_layer_sizes=450 .............................\n",
      "[CV] alpha=0.001, hidden_layer_sizes=450 .............................\n",
      "[CV]  alpha=0.001, hidden_layer_sizes=450, score=0.857300, total= 4.5min\n",
      "[CV] alpha=0.001, hidden_layer_sizes=450 .............................\n",
      "[CV]  alpha=0.001, hidden_layer_sizes=450, score=0.859300, total= 4.7min\n",
      "[CV] alpha=0.001, hidden_layer_sizes=550 .............................\n",
      "[CV]  alpha=0.001, hidden_layer_sizes=450, score=0.858800, total= 4.9min\n",
      "[CV] alpha=0.001, hidden_layer_sizes=550 .............................\n",
      "[CV]  alpha=0.001, hidden_layer_sizes=450, score=0.860400, total= 5.1min\n",
      "[CV] alpha=0.001, hidden_layer_sizes=550 .............................\n",
      "[CV]  alpha=0.001, hidden_layer_sizes=450, score=0.858100, total= 4.9min\n",
      "[CV] alpha=0.001, hidden_layer_sizes=550 .............................\n"
     ]
    },
    {
     "name": "stderr",
     "output_type": "stream",
     "text": [
      "[Parallel(n_jobs=-1)]: Done   5 out of  10 | elapsed:  9.5min remaining:  9.5min\n"
     ]
    },
    {
     "name": "stdout",
     "output_type": "stream",
     "text": [
      "[CV]  alpha=0.001, hidden_layer_sizes=550, score=0.836600, total= 5.5min\n",
      "[CV] alpha=0.001, hidden_layer_sizes=550 .............................\n",
      "[CV]  alpha=0.001, hidden_layer_sizes=550, score=0.862200, total= 5.6min\n"
     ]
    },
    {
     "name": "stderr",
     "output_type": "stream",
     "text": [
      "[Parallel(n_jobs=-1)]: Done   7 out of  10 | elapsed: 10.8min remaining:  4.6min\n"
     ]
    },
    {
     "name": "stdout",
     "output_type": "stream",
     "text": [
      "[CV]  alpha=0.001, hidden_layer_sizes=550, score=0.856800, total= 5.9min\n",
      "[CV]  alpha=0.001, hidden_layer_sizes=550, score=0.860700, total= 2.6min\n",
      "[CV]  alpha=0.001, hidden_layer_sizes=550, score=0.858400, total= 3.4min\n"
     ]
    },
    {
     "name": "stderr",
     "output_type": "stream",
     "text": [
      "[Parallel(n_jobs=-1)]: Done  10 out of  10 | elapsed: 12.9min finished\n"
     ]
    },
    {
     "name": "stdout",
     "output_type": "stream",
     "text": [
      "MLPClassifier(activation='relu', alpha=0.0001, batch_size='auto', beta_1=0.9,\n",
      "       beta_2=0.999, early_stopping=False, epsilon=1e-08,\n",
      "       hidden_layer_sizes=(100,), learning_rate='constant',\n",
      "       learning_rate_init=0.001, max_iter=200, momentum=0.9,\n",
      "       nesterovs_momentum=True, power_t=0.5, random_state=None,\n",
      "       shuffle=True, solver='adam', tol=0.0001, validation_fraction=0.1,\n",
      "       verbose=False, warm_start=False)\n",
      "Best accuracy score is  0.85878\n",
      "Best parameter is  {'alpha': 0.001, 'hidden_layer_sizes': 450}\n"
     ]
    }
   ],
   "source": [
    "mlp_params = {\n",
    "    'hidden_layer_sizes': [450, 550],\n",
    "    'alpha': [0.001]\n",
    "}\n",
    "grid_mlp = MLPClassifier()\n",
    "grid_mlp = param_search(grid_mlp, mlp_params)"
   ]
  },
  {
   "cell_type": "code",
   "execution_count": 13,
   "metadata": {
    "collapsed": true
   },
   "outputs": [],
   "source": [
    "#after grid search, I choose the optimal parameter\n",
    "lr = LogisticRegression(C = 10)\n",
    "rf = RandomForestClassifier(n_estimators = 550)\n",
    "mlp = MLPClassifier(hidden_layer_sizes = 450, alpha = 0.001)"
   ]
  },
  {
   "cell_type": "code",
   "execution_count": 14,
   "metadata": {
    "collapsed": false
   },
   "outputs": [],
   "source": [
    "vc_soft = VotingClassifier(estimators=[('lr', lr), ('rf', rf), ('mlp', mlp), ('xgb', xgb)], voting='soft')\n",
    "vc_soft = vc_soft.fit(X_train, y_train)\n",
    "#test_predictions = xgb.predict(test)\n",
    "test_predictions = vc_soft.predict(test)"
   ]
  },
  {
   "cell_type": "markdown",
   "metadata": {},
   "source": [
    "### Output\n"
   ]
  },
  {
   "cell_type": "code",
   "execution_count": 15,
   "metadata": {
    "collapsed": true
   },
   "outputs": [],
   "source": [
    "d = {'ID': range(len(test)), 'TARGET': test_predictions.astype(int)}\n",
    "df_output = pd.DataFrame(data=d)\n",
    "\n",
    "df_output.to_csv(\n",
    "     r'submissions.csv',\n",
    "     index=False\n",
    ")"
   ]
  }
 ],
 "metadata": {
  "kernelspec": {
   "display_name": "Python 3",
   "language": "python",
   "name": "python3"
  },
  "language_info": {
   "codemirror_mode": {
    "name": "ipython",
    "version": 3
   },
   "file_extension": ".py",
   "mimetype": "text/x-python",
   "name": "python",
   "nbconvert_exporter": "python",
   "pygments_lexer": "ipython3",
   "version": "3.6.0"
  }
 },
 "nbformat": 4,
 "nbformat_minor": 2
}
